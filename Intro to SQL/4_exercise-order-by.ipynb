{
 "cells": [
  {
   "cell_type": "markdown",
   "id": "573a7814",
   "metadata": {
    "papermill": {
     "duration": 0.005787,
     "end_time": "2022-06-26T11:44:42.901067",
     "exception": false,
     "start_time": "2022-06-26T11:44:42.895280",
     "status": "completed"
    },
    "tags": []
   },
   "source": [
    "**This notebook is an exercise in the [SQL](https://www.kaggle.com/learn/intro-to-sql) course.  You can reference the tutorial at [this link](https://www.kaggle.com/dansbecker/order-by).**\n",
    "\n",
    "---\n"
   ]
  },
  {
   "cell_type": "markdown",
   "id": "751e0d2f",
   "metadata": {
    "papermill": {
     "duration": 0.005428,
     "end_time": "2022-06-26T11:44:42.911719",
     "exception": false,
     "start_time": "2022-06-26T11:44:42.906291",
     "status": "completed"
    },
    "tags": []
   },
   "source": [
    "# Introduction\n",
    "\n",
    "You've built up your SQL skills enough that the remaining hands-on exercises will use different datasets than you see in the explanations. If you need to get to know a new dataset, you can run a couple of **SELECT** queries to extract and review the data you need. \n",
    "\n",
    "The next exercises are also more challenging than what you've done so far. Don't worry, you are ready for it!\n",
    "\n",
    "Run the code in the following cell to get everything set up:"
   ]
  },
  {
   "cell_type": "code",
   "execution_count": 1,
   "id": "ec4dfe4f",
   "metadata": {
    "execution": {
     "iopub.execute_input": "2022-06-26T11:44:42.924163Z",
     "iopub.status.busy": "2022-06-26T11:44:42.923686Z",
     "iopub.status.idle": "2022-06-26T11:44:45.222797Z",
     "shell.execute_reply": "2022-06-26T11:44:45.221361Z"
    },
    "papermill": {
     "duration": 2.308244,
     "end_time": "2022-06-26T11:44:45.225417",
     "exception": false,
     "start_time": "2022-06-26T11:44:42.917173",
     "status": "completed"
    },
    "tags": []
   },
   "outputs": [
    {
     "name": "stdout",
     "output_type": "stream",
     "text": [
      "Using Kaggle's public dataset BigQuery integration.\n"
     ]
    },
    {
     "name": "stderr",
     "output_type": "stream",
     "text": [
      "/opt/conda/lib/python3.7/site-packages/google/cloud/bigquery/client.py:440: UserWarning: Cannot create BigQuery Storage client, the dependency google-cloud-bigquery-storage is not installed.\n",
      "  \"Cannot create BigQuery Storage client, the dependency \"\n"
     ]
    },
    {
     "name": "stdout",
     "output_type": "stream",
     "text": [
      "Setup Complete\n"
     ]
    }
   ],
   "source": [
    "# Set up feedback system\n",
    "from learntools.core import binder\n",
    "binder.bind(globals())\n",
    "from learntools.sql.ex4 import *\n",
    "print(\"Setup Complete\")"
   ]
  },
  {
   "cell_type": "markdown",
   "id": "32d7d4fd",
   "metadata": {
    "papermill": {
     "duration": 0.004694,
     "end_time": "2022-06-26T11:44:45.235589",
     "exception": false,
     "start_time": "2022-06-26T11:44:45.230895",
     "status": "completed"
    },
    "tags": []
   },
   "source": [
    "The World Bank has made tons of interesting education data available through BigQuery. Run the following cell to see the first few rows of the `international_education` table from the `world_bank_intl_education` dataset."
   ]
  },
  {
   "cell_type": "code",
   "execution_count": 2,
   "id": "14a167ad",
   "metadata": {
    "execution": {
     "iopub.execute_input": "2022-06-26T11:44:45.247888Z",
     "iopub.status.busy": "2022-06-26T11:44:45.247120Z",
     "iopub.status.idle": "2022-06-26T11:44:46.312905Z",
     "shell.execute_reply": "2022-06-26T11:44:46.312056Z"
    },
    "papermill": {
     "duration": 1.075048,
     "end_time": "2022-06-26T11:44:46.315577",
     "exception": false,
     "start_time": "2022-06-26T11:44:45.240529",
     "status": "completed"
    },
    "tags": []
   },
   "outputs": [
    {
     "name": "stdout",
     "output_type": "stream",
     "text": [
      "Using Kaggle's public dataset BigQuery integration.\n"
     ]
    },
    {
     "name": "stderr",
     "output_type": "stream",
     "text": [
      "/opt/conda/lib/python3.7/site-packages/ipykernel_launcher.py:19: UserWarning: Cannot use bqstorage_client if max_results is set, reverting to fetching data with the tabledata.list endpoint.\n"
     ]
    },
    {
     "data": {
      "text/html": [
       "<div>\n",
       "<style scoped>\n",
       "    .dataframe tbody tr th:only-of-type {\n",
       "        vertical-align: middle;\n",
       "    }\n",
       "\n",
       "    .dataframe tbody tr th {\n",
       "        vertical-align: top;\n",
       "    }\n",
       "\n",
       "    .dataframe thead th {\n",
       "        text-align: right;\n",
       "    }\n",
       "</style>\n",
       "<table border=\"1\" class=\"dataframe\">\n",
       "  <thead>\n",
       "    <tr style=\"text-align: right;\">\n",
       "      <th></th>\n",
       "      <th>country_name</th>\n",
       "      <th>country_code</th>\n",
       "      <th>indicator_name</th>\n",
       "      <th>indicator_code</th>\n",
       "      <th>value</th>\n",
       "      <th>year</th>\n",
       "    </tr>\n",
       "  </thead>\n",
       "  <tbody>\n",
       "    <tr>\n",
       "      <th>0</th>\n",
       "      <td>St. Kitts and Nevis</td>\n",
       "      <td>KNA</td>\n",
       "      <td>Population of the official entrance age to sec...</td>\n",
       "      <td>UIS.SAP.23.GPV.G1.M</td>\n",
       "      <td>4.760000e+02</td>\n",
       "      <td>2016</td>\n",
       "    </tr>\n",
       "    <tr>\n",
       "      <th>1</th>\n",
       "      <td>Tajikistan</td>\n",
       "      <td>TJK</td>\n",
       "      <td>Enrolment in primary education, female (number)</td>\n",
       "      <td>SE.PRM.ENRL.FE</td>\n",
       "      <td>3.468230e+05</td>\n",
       "      <td>2016</td>\n",
       "    </tr>\n",
       "    <tr>\n",
       "      <th>2</th>\n",
       "      <td>Tajikistan</td>\n",
       "      <td>TJK</td>\n",
       "      <td>Gross enrolment ratio, tertiary, both sexes (%)</td>\n",
       "      <td>SE.TER.ENRR</td>\n",
       "      <td>2.889488e+01</td>\n",
       "      <td>2016</td>\n",
       "    </tr>\n",
       "    <tr>\n",
       "      <th>3</th>\n",
       "      <td>Curacao</td>\n",
       "      <td>CUW</td>\n",
       "      <td>Population of the official age for secondary e...</td>\n",
       "      <td>SP.SEC.TOTL.FE.IN</td>\n",
       "      <td>6.037000e+03</td>\n",
       "      <td>2016</td>\n",
       "    </tr>\n",
       "    <tr>\n",
       "      <th>4</th>\n",
       "      <td>Thailand</td>\n",
       "      <td>THA</td>\n",
       "      <td>GNI, PPP (current international $)</td>\n",
       "      <td>NY.GNP.MKTP.PP.CD</td>\n",
       "      <td>1.108501e+12</td>\n",
       "      <td>2016</td>\n",
       "    </tr>\n",
       "  </tbody>\n",
       "</table>\n",
       "</div>"
      ],
      "text/plain": [
       "          country_name country_code  \\\n",
       "0  St. Kitts and Nevis          KNA   \n",
       "1           Tajikistan          TJK   \n",
       "2           Tajikistan          TJK   \n",
       "3              Curacao          CUW   \n",
       "4             Thailand          THA   \n",
       "\n",
       "                                      indicator_name       indicator_code  \\\n",
       "0  Population of the official entrance age to sec...  UIS.SAP.23.GPV.G1.M   \n",
       "1    Enrolment in primary education, female (number)       SE.PRM.ENRL.FE   \n",
       "2    Gross enrolment ratio, tertiary, both sexes (%)          SE.TER.ENRR   \n",
       "3  Population of the official age for secondary e...    SP.SEC.TOTL.FE.IN   \n",
       "4                 GNI, PPP (current international $)    NY.GNP.MKTP.PP.CD   \n",
       "\n",
       "          value  year  \n",
       "0  4.760000e+02  2016  \n",
       "1  3.468230e+05  2016  \n",
       "2  2.889488e+01  2016  \n",
       "3  6.037000e+03  2016  \n",
       "4  1.108501e+12  2016  "
      ]
     },
     "execution_count": 2,
     "metadata": {},
     "output_type": "execute_result"
    }
   ],
   "source": [
    "from google.cloud import bigquery\n",
    "\n",
    "# Create a \"Client\" object\n",
    "client = bigquery.Client()\n",
    "\n",
    "# Construct a reference to the \"world_bank_intl_education\" dataset\n",
    "dataset_ref = client.dataset(\"world_bank_intl_education\", project=\"bigquery-public-data\")\n",
    "\n",
    "# API request - fetch the dataset\n",
    "dataset = client.get_dataset(dataset_ref)\n",
    "\n",
    "# Construct a reference to the \"international_education\" table\n",
    "table_ref = dataset_ref.table(\"international_education\")\n",
    "\n",
    "# API request - fetch the table\n",
    "table = client.get_table(table_ref)\n",
    "\n",
    "# Preview the first five lines of the \"international_education\" table\n",
    "client.list_rows(table, max_results=5).to_dataframe()"
   ]
  },
  {
   "cell_type": "markdown",
   "id": "92ce3e2e",
   "metadata": {
    "papermill": {
     "duration": 0.00658,
     "end_time": "2022-06-26T11:44:46.328468",
     "exception": false,
     "start_time": "2022-06-26T11:44:46.321888",
     "status": "completed"
    },
    "tags": []
   },
   "source": [
    "# Exercises\n",
    "\n",
    "The value in the `indicator_code` column describes what type of data is shown in a given row.  \n",
    "\n",
    "One interesting indicator code is `SE.XPD.TOTL.GD.ZS`, which corresponds to \"Government expenditure on education as % of GDP (%)\".\n",
    "\n",
    "### 1) Government expenditure on education\n",
    "\n",
    "Which countries spend the largest fraction of GDP on education?  \n",
    "\n",
    "To answer this question, consider only the rows in the dataset corresponding to indicator code `SE.XPD.TOTL.GD.ZS`, and write a query that returns the average value in the `value` column for each country in the dataset between the years 2010-2017 (including 2010 and 2017 in the average). \n",
    "\n",
    "Requirements:\n",
    "- Your results should have the country name rather than the country code. You will have one row for each country.\n",
    "- The aggregate function for average is **AVG()**.  Use the name `avg_ed_spending_pct` for the column created by this aggregation.\n",
    "- Order the results so the countries that spend the largest fraction of GDP on education show up first.\n",
    "\n",
    "In case it's useful to see a sample query, here's a query you saw in the tutorial (using a different dataset):\n",
    "```\n",
    "# Query to find out the number of accidents for each day of the week\n",
    "query = \"\"\"\n",
    "        SELECT COUNT(consecutive_number) AS num_accidents, \n",
    "               EXTRACT(DAYOFWEEK FROM timestamp_of_crash) AS day_of_week\n",
    "        FROM `bigquery-public-data.nhtsa_traffic_fatalities.accident_2015`\n",
    "        GROUP BY day_of_week\n",
    "        ORDER BY num_accidents DESC\n",
    "        \"\"\"\n",
    "```"
   ]
  },
  {
   "cell_type": "code",
   "execution_count": 3,
   "id": "b83bd3a2",
   "metadata": {
    "execution": {
     "iopub.execute_input": "2022-06-26T11:44:46.342093Z",
     "iopub.status.busy": "2022-06-26T11:44:46.341329Z",
     "iopub.status.idle": "2022-06-26T11:44:47.394326Z",
     "shell.execute_reply": "2022-06-26T11:44:47.392246Z"
    },
    "papermill": {
     "duration": 1.063363,
     "end_time": "2022-06-26T11:44:47.397702",
     "exception": false,
     "start_time": "2022-06-26T11:44:46.334339",
     "status": "completed"
    },
    "tags": []
   },
   "outputs": [
    {
     "name": "stderr",
     "output_type": "stream",
     "text": [
      "/opt/conda/lib/python3.7/site-packages/google/cloud/bigquery/client.py:440: UserWarning: Cannot create BigQuery Storage client, the dependency google-cloud-bigquery-storage is not installed.\n",
      "  \"Cannot create BigQuery Storage client, the dependency \"\n"
     ]
    },
    {
     "name": "stdout",
     "output_type": "stream",
     "text": [
      "            country_name  avg_ed_spending_pct\n",
      "0                   Cuba            12.837270\n",
      "1  Micronesia, Fed. Sts.            12.467750\n",
      "2        Solomon Islands            10.001080\n",
      "3                Moldova             8.372153\n",
      "4                Namibia             8.349610\n"
     ]
    },
    {
     "data": {
      "application/javascript": [
       "parent.postMessage({\"jupyterEvent\": \"custom.exercise_interaction\", \"data\": {\"outcomeType\": 1, \"valueTowardsCompletion\": 0.5, \"interactionType\": 1, \"questionType\": 2, \"questionId\": \"1_EducationSpending\", \"learnToolsVersion\": \"0.3.4\", \"failureMessage\": \"\", \"exceptionClass\": \"\", \"trace\": \"\"}}, \"*\")"
      ],
      "text/plain": [
       "<IPython.core.display.Javascript object>"
      ]
     },
     "metadata": {},
     "output_type": "display_data"
    },
    {
     "data": {
      "text/markdown": [
       "<span style=\"color:#33cc33\">Correct</span>"
      ],
      "text/plain": [
       "Correct"
      ]
     },
     "metadata": {},
     "output_type": "display_data"
    }
   ],
   "source": [
    "# Your code goes here\n",
    "country_spend_pct_query = \"\"\"\n",
    "                          SELECT country_name, AVG(value) AS avg_ed_spending_pct\n",
    "                          FROM `bigquery-public-data.world_bank_intl_education.international_education`\n",
    "                          WHERE indicator_code = 'SE.XPD.TOTL.GD.ZS' AND year > 2009 AND year < 2018\n",
    "                          GROUP BY country_name\n",
    "                          ORDER BY avg_ed_spending_pct DESC\n",
    "                          \"\"\"\n",
    "\n",
    "# Set up the query (cancel the query if it would use too much of \n",
    "# your quota, with the limit set to 1 GB)\n",
    "safe_config = bigquery.QueryJobConfig(maximum_bytes_billed=10**10)\n",
    "country_spend_pct_query_job = client.query(country_spend_pct_query, job_config=safe_config)\n",
    "\n",
    "# API request - run the query, and return a pandas DataFrame\n",
    "country_spending_results = country_spend_pct_query_job.to_dataframe()\n",
    "\n",
    "# View top few rows of results\n",
    "print(country_spending_results.head())\n",
    "\n",
    "# Check your answer\n",
    "q_1.check()"
   ]
  },
  {
   "cell_type": "markdown",
   "id": "4d61e2fd",
   "metadata": {
    "papermill": {
     "duration": 0.006216,
     "end_time": "2022-06-26T11:44:47.410614",
     "exception": false,
     "start_time": "2022-06-26T11:44:47.404398",
     "status": "completed"
    },
    "tags": []
   },
   "source": [
    "For a hint or the solution, uncomment the appropriate line below."
   ]
  },
  {
   "cell_type": "code",
   "execution_count": 4,
   "id": "a30da24f",
   "metadata": {
    "execution": {
     "iopub.execute_input": "2022-06-26T11:44:47.426496Z",
     "iopub.status.busy": "2022-06-26T11:44:47.425855Z",
     "iopub.status.idle": "2022-06-26T11:44:47.429494Z",
     "shell.execute_reply": "2022-06-26T11:44:47.428754Z"
    },
    "papermill": {
     "duration": 0.014987,
     "end_time": "2022-06-26T11:44:47.432260",
     "exception": false,
     "start_time": "2022-06-26T11:44:47.417273",
     "status": "completed"
    },
    "tags": []
   },
   "outputs": [],
   "source": [
    "#q_1.hint()\n",
    "#q_1.solution()"
   ]
  },
  {
   "cell_type": "markdown",
   "id": "087f7143",
   "metadata": {
    "papermill": {
     "duration": 0.006975,
     "end_time": "2022-06-26T11:44:47.446276",
     "exception": false,
     "start_time": "2022-06-26T11:44:47.439301",
     "status": "completed"
    },
    "tags": []
   },
   "source": [
    "### 2) Identify interesting codes to explore\n",
    "\n",
    "The last question started by telling you to focus on rows with the code `SE.XPD.TOTL.GD.ZS`. But how would you find more interesting indicator codes to explore?\n",
    "\n",
    "There are 1000s of codes in the dataset, so it would be time consuming to review them all. But many codes are available for only a few countries. When browsing the options for different codes, you might restrict yourself to codes that are reported by many countries.\n",
    "\n",
    "Write a query below that selects the indicator code and indicator name for all codes with at least 175 rows in the year 2016.\n",
    "\n",
    "Requirements:\n",
    "- You should have one row for each indicator code.\n",
    "- The columns in your results should be called `indicator_code`, `indicator_name`, and `num_rows`.\n",
    "- Only select codes with 175 or more rows in the raw database (exactly 175 rows would be included).\n",
    "- To get both the `indicator_code` and `indicator_name` in your resulting DataFrame, you need to include both in your **SELECT** statement (in addition to a **COUNT()** aggregation). This requires you to include both in your **GROUP BY** clause.\n",
    "- Order from results most frequent to least frequent."
   ]
  },
  {
   "cell_type": "code",
   "execution_count": 5,
   "id": "9df6a734",
   "metadata": {
    "execution": {
     "iopub.execute_input": "2022-06-26T11:44:47.462362Z",
     "iopub.status.busy": "2022-06-26T11:44:47.461947Z",
     "iopub.status.idle": "2022-06-26T11:44:48.477715Z",
     "shell.execute_reply": "2022-06-26T11:44:48.476058Z"
    },
    "papermill": {
     "duration": 1.027047,
     "end_time": "2022-06-26T11:44:48.480929",
     "exception": false,
     "start_time": "2022-06-26T11:44:47.453882",
     "status": "completed"
    },
    "tags": []
   },
   "outputs": [
    {
     "name": "stderr",
     "output_type": "stream",
     "text": [
      "/opt/conda/lib/python3.7/site-packages/google/cloud/bigquery/client.py:440: UserWarning: Cannot create BigQuery Storage client, the dependency google-cloud-bigquery-storage is not installed.\n",
      "  \"Cannot create BigQuery Storage client, the dependency \"\n"
     ]
    },
    {
     "name": "stdout",
     "output_type": "stream",
     "text": [
      "      indicator_code                   indicator_name  num_rows\n",
      "0        SP.POP.TOTL                Population, total       232\n",
      "1        SP.POP.GROW     Population growth (annual %)       232\n",
      "2     IT.NET.USER.P2  Internet users (per 100 people)       223\n",
      "3     SP.POP.0014.TO     Population, ages 0-14, total       213\n",
      "4  SP.POP.1564.FE.IN   Population, ages 15-64, female       213\n"
     ]
    },
    {
     "data": {
      "application/javascript": [
       "parent.postMessage({\"jupyterEvent\": \"custom.exercise_interaction\", \"data\": {\"outcomeType\": 1, \"valueTowardsCompletion\": 0.5, \"interactionType\": 1, \"questionType\": 2, \"questionId\": \"2_FindInterestingCodes\", \"learnToolsVersion\": \"0.3.4\", \"failureMessage\": \"\", \"exceptionClass\": \"\", \"trace\": \"\"}}, \"*\")"
      ],
      "text/plain": [
       "<IPython.core.display.Javascript object>"
      ]
     },
     "metadata": {},
     "output_type": "display_data"
    },
    {
     "data": {
      "text/markdown": [
       "<span style=\"color:#33cc33\">Correct</span>"
      ],
      "text/plain": [
       "Correct"
      ]
     },
     "metadata": {},
     "output_type": "display_data"
    }
   ],
   "source": [
    "# Your code goes here\n",
    "code_count_query = \"\"\"\n",
    "                   SELECT indicator_code, indicator_name, COUNT(indicator_code) AS num_rows\n",
    "                   FROM `bigquery-public-data.world_bank_intl_education.international_education`\n",
    "                   WHERE year = 2016\n",
    "                   GROUP BY indicator_code, indicator_name\n",
    "                   HAVING COUNT(indicator_code) > 174\n",
    "                   ORDER BY num_rows DESC\n",
    "                   \"\"\"\n",
    "\n",
    "# Set up the query\n",
    "safe_config = bigquery.QueryJobConfig(maximum_bytes_billed=10**10)\n",
    "code_count_query_job = client.query(code_count_query, job_config=safe_config)\n",
    "\n",
    "# API request - run the query, and return a pandas DataFrame\n",
    "code_count_results = code_count_query_job.to_dataframe()\n",
    "\n",
    "# View top few rows of results\n",
    "print(code_count_results.head())\n",
    "\n",
    "# Check your answer\n",
    "q_2.check()"
   ]
  },
  {
   "cell_type": "markdown",
   "id": "2bb4caa1",
   "metadata": {
    "papermill": {
     "duration": 0.006884,
     "end_time": "2022-06-26T11:44:48.495015",
     "exception": false,
     "start_time": "2022-06-26T11:44:48.488131",
     "status": "completed"
    },
    "tags": []
   },
   "source": [
    "For a hint or the solution, uncomment the appropriate line below."
   ]
  },
  {
   "cell_type": "code",
   "execution_count": 6,
   "id": "ccf7c78e",
   "metadata": {
    "execution": {
     "iopub.execute_input": "2022-06-26T11:44:48.510105Z",
     "iopub.status.busy": "2022-06-26T11:44:48.509649Z",
     "iopub.status.idle": "2022-06-26T11:44:48.514086Z",
     "shell.execute_reply": "2022-06-26T11:44:48.513149Z"
    },
    "papermill": {
     "duration": 0.014077,
     "end_time": "2022-06-26T11:44:48.516142",
     "exception": false,
     "start_time": "2022-06-26T11:44:48.502065",
     "status": "completed"
    },
    "tags": []
   },
   "outputs": [],
   "source": [
    "#q_2.hint()\n",
    "#q_2.solution()"
   ]
  },
  {
   "cell_type": "markdown",
   "id": "335d8f7b",
   "metadata": {
    "papermill": {
     "duration": 0.006901,
     "end_time": "2022-06-26T11:44:48.529970",
     "exception": false,
     "start_time": "2022-06-26T11:44:48.523069",
     "status": "completed"
    },
    "tags": []
   },
   "source": [
    "# Keep Going\n",
    "**[Click here](https://www.kaggle.com/dansbecker/as-with)** to learn how to use **AS** and **WITH** to clean up your code and help you construct more complex queries."
   ]
  },
  {
   "cell_type": "markdown",
   "id": "1b4253df",
   "metadata": {
    "papermill": {
     "duration": 0.006538,
     "end_time": "2022-06-26T11:44:48.543587",
     "exception": false,
     "start_time": "2022-06-26T11:44:48.537049",
     "status": "completed"
    },
    "tags": []
   },
   "source": [
    "---\n",
    "\n",
    "\n",
    "\n",
    "\n",
    "*Have questions or comments? Visit the [course discussion forum](https://www.kaggle.com/learn/intro-to-sql/discussion) to chat with other learners.*"
   ]
  }
 ],
 "metadata": {
  "kernelspec": {
   "display_name": "Python 3",
   "language": "python",
   "name": "python3"
  },
  "language_info": {
   "codemirror_mode": {
    "name": "ipython",
    "version": 3
   },
   "file_extension": ".py",
   "mimetype": "text/x-python",
   "name": "python",
   "nbconvert_exporter": "python",
   "pygments_lexer": "ipython3",
   "version": "3.7.12"
  },
  "papermill": {
   "default_parameters": {},
   "duration": 19.356489,
   "end_time": "2022-06-26T11:44:49.574156",
   "environment_variables": {},
   "exception": null,
   "input_path": "__notebook__.ipynb",
   "output_path": "__notebook__.ipynb",
   "parameters": {},
   "start_time": "2022-06-26T11:44:30.217667",
   "version": "2.3.4"
  }
 },
 "nbformat": 4,
 "nbformat_minor": 5
}
