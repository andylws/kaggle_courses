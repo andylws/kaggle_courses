{
 "cells": [
  {
   "cell_type": "markdown",
   "id": "0b8e02fa",
   "metadata": {
    "papermill": {
     "duration": 0.006129,
     "end_time": "2022-06-25T14:37:56.049075",
     "exception": false,
     "start_time": "2022-06-25T14:37:56.042946",
     "status": "completed"
    },
    "tags": []
   },
   "source": [
    "**This notebook is an exercise in the [SQL](https://www.kaggle.com/learn/intro-to-sql) course.  You can reference the tutorial at [this link](https://www.kaggle.com/dansbecker/getting-started-with-sql-and-bigquery).**\n",
    "\n",
    "---\n"
   ]
  },
  {
   "cell_type": "markdown",
   "id": "96bed894",
   "metadata": {
    "papermill": {
     "duration": 0.00783,
     "end_time": "2022-06-25T14:37:56.062941",
     "exception": false,
     "start_time": "2022-06-25T14:37:56.055111",
     "status": "completed"
    },
    "tags": []
   },
   "source": [
    "# Introduction\n",
    "\n",
    "The first test of your new data exploration skills uses data describing crime in the city of Chicago.\n",
    "\n",
    "Before you get started, run the following cell. It sets up the automated feedback system to review your answers."
   ]
  },
  {
   "cell_type": "code",
   "execution_count": 1,
   "id": "633a4989",
   "metadata": {
    "execution": {
     "iopub.execute_input": "2022-06-25T14:37:56.077844Z",
     "iopub.status.busy": "2022-06-25T14:37:56.076982Z",
     "iopub.status.idle": "2022-06-25T14:37:57.112869Z",
     "shell.execute_reply": "2022-06-25T14:37:57.111537Z"
    },
    "papermill": {
     "duration": 1.045218,
     "end_time": "2022-06-25T14:37:57.115259",
     "exception": false,
     "start_time": "2022-06-25T14:37:56.070041",
     "status": "completed"
    },
    "tags": []
   },
   "outputs": [
    {
     "name": "stdout",
     "output_type": "stream",
     "text": [
      "Using Kaggle's public dataset BigQuery integration.\n",
      "Setup Complete\n"
     ]
    }
   ],
   "source": [
    "# Set up feedack system\n",
    "from learntools.core import binder\n",
    "binder.bind(globals())\n",
    "from learntools.sql.ex1 import *\n",
    "print(\"Setup Complete\")"
   ]
  },
  {
   "cell_type": "markdown",
   "id": "db578cff",
   "metadata": {
    "papermill": {
     "duration": 0.004339,
     "end_time": "2022-06-25T14:37:57.124279",
     "exception": false,
     "start_time": "2022-06-25T14:37:57.119940",
     "status": "completed"
    },
    "tags": []
   },
   "source": [
    "Use the next code cell to fetch the dataset."
   ]
  },
  {
   "cell_type": "code",
   "execution_count": 2,
   "id": "0324fb07",
   "metadata": {
    "execution": {
     "iopub.execute_input": "2022-06-25T14:37:57.135405Z",
     "iopub.status.busy": "2022-06-25T14:37:57.134720Z",
     "iopub.status.idle": "2022-06-25T14:37:57.438939Z",
     "shell.execute_reply": "2022-06-25T14:37:57.437735Z"
    },
    "papermill": {
     "duration": 0.312745,
     "end_time": "2022-06-25T14:37:57.441594",
     "exception": false,
     "start_time": "2022-06-25T14:37:57.128849",
     "status": "completed"
    },
    "tags": []
   },
   "outputs": [
    {
     "name": "stdout",
     "output_type": "stream",
     "text": [
      "Using Kaggle's public dataset BigQuery integration.\n"
     ]
    }
   ],
   "source": [
    "from google.cloud import bigquery\n",
    "\n",
    "# Create a \"Client\" object\n",
    "client = bigquery.Client()\n",
    "\n",
    "# Construct a reference to the \"chicago_crime\" dataset\n",
    "dataset_ref = client.dataset(\"chicago_crime\", project=\"bigquery-public-data\")\n",
    "\n",
    "# API request - fetch the dataset\n",
    "dataset = client.get_dataset(dataset_ref)"
   ]
  },
  {
   "cell_type": "markdown",
   "id": "6eb53033",
   "metadata": {
    "papermill": {
     "duration": 0.004376,
     "end_time": "2022-06-25T14:37:57.450833",
     "exception": false,
     "start_time": "2022-06-25T14:37:57.446457",
     "status": "completed"
    },
    "tags": []
   },
   "source": [
    "# Exercises\n",
    "\n",
    "### 1) Count tables in the dataset\n",
    "\n",
    "How many tables are in the Chicago Crime dataset?"
   ]
  },
  {
   "cell_type": "code",
   "execution_count": 3,
   "id": "8dca096c",
   "metadata": {
    "execution": {
     "iopub.execute_input": "2022-06-25T14:37:57.461736Z",
     "iopub.status.busy": "2022-06-25T14:37:57.461369Z",
     "iopub.status.idle": "2022-06-25T14:37:57.643672Z",
     "shell.execute_reply": "2022-06-25T14:37:57.642704Z"
    },
    "papermill": {
     "duration": 0.190838,
     "end_time": "2022-06-25T14:37:57.646280",
     "exception": false,
     "start_time": "2022-06-25T14:37:57.455442",
     "status": "completed"
    },
    "tags": []
   },
   "outputs": [],
   "source": [
    "# Write the code you need here to figure out the answer\n",
    "tables = list(client.list_tables(dataset))"
   ]
  },
  {
   "cell_type": "code",
   "execution_count": 4,
   "id": "2622bb5a",
   "metadata": {
    "execution": {
     "iopub.execute_input": "2022-06-25T14:37:57.657916Z",
     "iopub.status.busy": "2022-06-25T14:37:57.656789Z",
     "iopub.status.idle": "2022-06-25T14:37:57.667827Z",
     "shell.execute_reply": "2022-06-25T14:37:57.666957Z"
    },
    "papermill": {
     "duration": 0.018855,
     "end_time": "2022-06-25T14:37:57.669829",
     "exception": false,
     "start_time": "2022-06-25T14:37:57.650974",
     "status": "completed"
    },
    "tags": []
   },
   "outputs": [
    {
     "data": {
      "application/javascript": [
       "parent.postMessage({\"jupyterEvent\": \"custom.exercise_interaction\", \"data\": {\"outcomeType\": 1, \"valueTowardsCompletion\": 0.3333333333333333, \"interactionType\": 1, \"questionType\": 1, \"questionId\": \"1_CountTables\", \"learnToolsVersion\": \"0.3.4\", \"failureMessage\": \"\", \"exceptionClass\": \"\", \"trace\": \"\"}}, \"*\")"
      ],
      "text/plain": [
       "<IPython.core.display.Javascript object>"
      ]
     },
     "metadata": {},
     "output_type": "display_data"
    },
    {
     "data": {
      "text/markdown": [
       "<span style=\"color:#33cc33\">Correct</span>"
      ],
      "text/plain": [
       "Correct"
      ]
     },
     "metadata": {},
     "output_type": "display_data"
    }
   ],
   "source": [
    "num_tables = len(tables)  # Store the answer as num_tables and then run this cell\n",
    "\n",
    "# Check your answer\n",
    "q_1.check()"
   ]
  },
  {
   "cell_type": "markdown",
   "id": "fc6b3396",
   "metadata": {
    "papermill": {
     "duration": 0.00465,
     "end_time": "2022-06-25T14:37:57.679390",
     "exception": false,
     "start_time": "2022-06-25T14:37:57.674740",
     "status": "completed"
    },
    "tags": []
   },
   "source": [
    "For a hint or the solution, uncomment the appropriate line below."
   ]
  },
  {
   "cell_type": "code",
   "execution_count": 5,
   "id": "ad1a8b9a",
   "metadata": {
    "execution": {
     "iopub.execute_input": "2022-06-25T14:37:57.690883Z",
     "iopub.status.busy": "2022-06-25T14:37:57.690337Z",
     "iopub.status.idle": "2022-06-25T14:37:57.693590Z",
     "shell.execute_reply": "2022-06-25T14:37:57.692848Z"
    },
    "papermill": {
     "duration": 0.011222,
     "end_time": "2022-06-25T14:37:57.695351",
     "exception": false,
     "start_time": "2022-06-25T14:37:57.684129",
     "status": "completed"
    },
    "tags": []
   },
   "outputs": [],
   "source": [
    "#q_1.hint()\n",
    "#q_1.solution()"
   ]
  },
  {
   "cell_type": "markdown",
   "id": "ba6bca79",
   "metadata": {
    "papermill": {
     "duration": 0.004528,
     "end_time": "2022-06-25T14:37:57.704560",
     "exception": false,
     "start_time": "2022-06-25T14:37:57.700032",
     "status": "completed"
    },
    "tags": []
   },
   "source": [
    "### 2) Explore the table schema\n",
    "\n",
    "How many columns in the `crime` table have `TIMESTAMP` data?"
   ]
  },
  {
   "cell_type": "code",
   "execution_count": 6,
   "id": "4a59b743",
   "metadata": {
    "execution": {
     "iopub.execute_input": "2022-06-25T14:37:57.715923Z",
     "iopub.status.busy": "2022-06-25T14:37:57.715348Z",
     "iopub.status.idle": "2022-06-25T14:37:57.868836Z",
     "shell.execute_reply": "2022-06-25T14:37:57.867558Z"
    },
    "papermill": {
     "duration": 0.161909,
     "end_time": "2022-06-25T14:37:57.871134",
     "exception": false,
     "start_time": "2022-06-25T14:37:57.709225",
     "status": "completed"
    },
    "tags": []
   },
   "outputs": [
    {
     "data": {
      "text/plain": [
       "[SchemaField('unique_key', 'INTEGER', 'REQUIRED', None, (), None),\n",
       " SchemaField('case_number', 'STRING', 'NULLABLE', None, (), None),\n",
       " SchemaField('date', 'TIMESTAMP', 'NULLABLE', None, (), None),\n",
       " SchemaField('block', 'STRING', 'NULLABLE', None, (), None),\n",
       " SchemaField('iucr', 'STRING', 'NULLABLE', None, (), None),\n",
       " SchemaField('primary_type', 'STRING', 'NULLABLE', None, (), None),\n",
       " SchemaField('description', 'STRING', 'NULLABLE', None, (), None),\n",
       " SchemaField('location_description', 'STRING', 'NULLABLE', None, (), None),\n",
       " SchemaField('arrest', 'BOOLEAN', 'NULLABLE', None, (), None),\n",
       " SchemaField('domestic', 'BOOLEAN', 'NULLABLE', None, (), None),\n",
       " SchemaField('beat', 'INTEGER', 'NULLABLE', None, (), None),\n",
       " SchemaField('district', 'INTEGER', 'NULLABLE', None, (), None),\n",
       " SchemaField('ward', 'INTEGER', 'NULLABLE', None, (), None),\n",
       " SchemaField('community_area', 'INTEGER', 'NULLABLE', None, (), None),\n",
       " SchemaField('fbi_code', 'STRING', 'NULLABLE', None, (), None),\n",
       " SchemaField('x_coordinate', 'FLOAT', 'NULLABLE', None, (), None),\n",
       " SchemaField('y_coordinate', 'FLOAT', 'NULLABLE', None, (), None),\n",
       " SchemaField('year', 'INTEGER', 'NULLABLE', None, (), None),\n",
       " SchemaField('updated_on', 'TIMESTAMP', 'NULLABLE', None, (), None),\n",
       " SchemaField('latitude', 'FLOAT', 'NULLABLE', None, (), None),\n",
       " SchemaField('longitude', 'FLOAT', 'NULLABLE', None, (), None),\n",
       " SchemaField('location', 'STRING', 'NULLABLE', None, (), None)]"
      ]
     },
     "execution_count": 6,
     "metadata": {},
     "output_type": "execute_result"
    }
   ],
   "source": [
    "# Write the code to figure out the answer\n",
    "table_ref = dataset_ref.table(\"crime\")\n",
    "table = client.get_table(table_ref)\n",
    "\n",
    "table.schema"
   ]
  },
  {
   "cell_type": "code",
   "execution_count": 7,
   "id": "2b4171bc",
   "metadata": {
    "execution": {
     "iopub.execute_input": "2022-06-25T14:37:57.882977Z",
     "iopub.status.busy": "2022-06-25T14:37:57.882203Z",
     "iopub.status.idle": "2022-06-25T14:37:57.889944Z",
     "shell.execute_reply": "2022-06-25T14:37:57.889200Z"
    },
    "papermill": {
     "duration": 0.01578,
     "end_time": "2022-06-25T14:37:57.891826",
     "exception": false,
     "start_time": "2022-06-25T14:37:57.876046",
     "status": "completed"
    },
    "tags": []
   },
   "outputs": [
    {
     "data": {
      "application/javascript": [
       "parent.postMessage({\"jupyterEvent\": \"custom.exercise_interaction\", \"data\": {\"outcomeType\": 1, \"valueTowardsCompletion\": 0.3333333333333333, \"interactionType\": 1, \"questionType\": 1, \"questionId\": \"2_CountTimestampFields\", \"learnToolsVersion\": \"0.3.4\", \"failureMessage\": \"\", \"exceptionClass\": \"\", \"trace\": \"\"}}, \"*\")"
      ],
      "text/plain": [
       "<IPython.core.display.Javascript object>"
      ]
     },
     "metadata": {},
     "output_type": "display_data"
    },
    {
     "data": {
      "text/markdown": [
       "<span style=\"color:#33cc33\">Correct</span>"
      ],
      "text/plain": [
       "Correct"
      ]
     },
     "metadata": {},
     "output_type": "display_data"
    }
   ],
   "source": [
    "num_timestamp_fields = 2 # Put your answer here\n",
    "\n",
    "# Check your answer\n",
    "q_2.check()"
   ]
  },
  {
   "cell_type": "markdown",
   "id": "0e18ea23",
   "metadata": {
    "papermill": {
     "duration": 0.004809,
     "end_time": "2022-06-25T14:37:57.901778",
     "exception": false,
     "start_time": "2022-06-25T14:37:57.896969",
     "status": "completed"
    },
    "tags": []
   },
   "source": [
    "For a hint or the solution, uncomment the appropriate line below."
   ]
  },
  {
   "cell_type": "code",
   "execution_count": 8,
   "id": "eac8a14d",
   "metadata": {
    "execution": {
     "iopub.execute_input": "2022-06-25T14:37:57.913639Z",
     "iopub.status.busy": "2022-06-25T14:37:57.913095Z",
     "iopub.status.idle": "2022-06-25T14:37:57.916204Z",
     "shell.execute_reply": "2022-06-25T14:37:57.915582Z"
    },
    "papermill": {
     "duration": 0.011147,
     "end_time": "2022-06-25T14:37:57.917990",
     "exception": false,
     "start_time": "2022-06-25T14:37:57.906843",
     "status": "completed"
    },
    "tags": []
   },
   "outputs": [],
   "source": [
    "#q_2.hint()\n",
    "#q_2.solution()"
   ]
  },
  {
   "cell_type": "markdown",
   "id": "1a94b1a7",
   "metadata": {
    "papermill": {
     "duration": 0.004731,
     "end_time": "2022-06-25T14:37:57.927720",
     "exception": false,
     "start_time": "2022-06-25T14:37:57.922989",
     "status": "completed"
    },
    "tags": []
   },
   "source": [
    "### 3) Create a crime map\n",
    "\n",
    "If you wanted to create a map with a dot at the location of each crime, what are the names of the two fields you likely need to pull out of the `crime` table to plot the crimes on a map?"
   ]
  },
  {
   "cell_type": "code",
   "execution_count": 9,
   "id": "36027d43",
   "metadata": {
    "execution": {
     "iopub.execute_input": "2022-06-25T14:37:57.940022Z",
     "iopub.status.busy": "2022-06-25T14:37:57.939465Z",
     "iopub.status.idle": "2022-06-25T14:37:57.943436Z",
     "shell.execute_reply": "2022-06-25T14:37:57.942668Z"
    },
    "papermill": {
     "duration": 0.012671,
     "end_time": "2022-06-25T14:37:57.945323",
     "exception": false,
     "start_time": "2022-06-25T14:37:57.932652",
     "status": "completed"
    },
    "tags": []
   },
   "outputs": [],
   "source": [
    "# Write the code here to explore the data so you can find the answer"
   ]
  },
  {
   "cell_type": "code",
   "execution_count": 10,
   "id": "1ac65e3a",
   "metadata": {
    "execution": {
     "iopub.execute_input": "2022-06-25T14:37:57.957257Z",
     "iopub.status.busy": "2022-06-25T14:37:57.956676Z",
     "iopub.status.idle": "2022-06-25T14:37:57.962945Z",
     "shell.execute_reply": "2022-06-25T14:37:57.962236Z"
    },
    "papermill": {
     "duration": 0.014387,
     "end_time": "2022-06-25T14:37:57.964808",
     "exception": false,
     "start_time": "2022-06-25T14:37:57.950421",
     "status": "completed"
    },
    "tags": []
   },
   "outputs": [
    {
     "data": {
      "application/javascript": [
       "parent.postMessage({\"jupyterEvent\": \"custom.exercise_interaction\", \"data\": {\"outcomeType\": 1, \"valueTowardsCompletion\": 0.3333333333333333, \"interactionType\": 1, \"questionType\": 2, \"questionId\": \"3_IdentifyFieldsForPlotting\", \"learnToolsVersion\": \"0.3.4\", \"failureMessage\": \"\", \"exceptionClass\": \"\", \"trace\": \"\"}}, \"*\")"
      ],
      "text/plain": [
       "<IPython.core.display.Javascript object>"
      ]
     },
     "metadata": {},
     "output_type": "display_data"
    },
    {
     "data": {
      "text/markdown": [
       "<span style=\"color:#33cc33\">Correct</span>"
      ],
      "text/plain": [
       "Correct"
      ]
     },
     "metadata": {},
     "output_type": "display_data"
    }
   ],
   "source": [
    "fields_for_plotting = ['latitude', 'longitude'] # Put your answers here\n",
    "\n",
    "# Check your answer\n",
    "q_3.check()"
   ]
  },
  {
   "cell_type": "markdown",
   "id": "2ba22459",
   "metadata": {
    "papermill": {
     "duration": 0.005057,
     "end_time": "2022-06-25T14:37:57.975127",
     "exception": false,
     "start_time": "2022-06-25T14:37:57.970070",
     "status": "completed"
    },
    "tags": []
   },
   "source": [
    "For a hint or the solution, uncomment the appropriate line below."
   ]
  },
  {
   "cell_type": "code",
   "execution_count": 11,
   "id": "aeeededd",
   "metadata": {
    "execution": {
     "iopub.execute_input": "2022-06-25T14:37:57.987415Z",
     "iopub.status.busy": "2022-06-25T14:37:57.987058Z",
     "iopub.status.idle": "2022-06-25T14:37:57.990158Z",
     "shell.execute_reply": "2022-06-25T14:37:57.989505Z"
    },
    "papermill": {
     "duration": 0.011704,
     "end_time": "2022-06-25T14:37:57.992246",
     "exception": false,
     "start_time": "2022-06-25T14:37:57.980542",
     "status": "completed"
    },
    "tags": []
   },
   "outputs": [],
   "source": [
    "#q_3.hint()\n",
    "#q_3.solution()"
   ]
  },
  {
   "cell_type": "markdown",
   "id": "9e848c20",
   "metadata": {
    "papermill": {
     "duration": 0.004952,
     "end_time": "2022-06-25T14:37:58.002417",
     "exception": false,
     "start_time": "2022-06-25T14:37:57.997465",
     "status": "completed"
    },
    "tags": []
   },
   "source": [
    "Thinking about the question above, there are a few columns that appear to have geographic data. Look at a few values (with the `list_rows()` command) to see if you can determine their relationship.  Two columns will still be hard to interpret. But it should be obvious how the `location` column relates to `latitude` and `longitude`."
   ]
  },
  {
   "cell_type": "code",
   "execution_count": 12,
   "id": "49b2c047",
   "metadata": {
    "execution": {
     "iopub.execute_input": "2022-06-25T14:37:58.014723Z",
     "iopub.status.busy": "2022-06-25T14:37:58.014358Z",
     "iopub.status.idle": "2022-06-25T14:37:58.426075Z",
     "shell.execute_reply": "2022-06-25T14:37:58.424979Z"
    },
    "papermill": {
     "duration": 0.420762,
     "end_time": "2022-06-25T14:37:58.428393",
     "exception": false,
     "start_time": "2022-06-25T14:37:58.007631",
     "status": "completed"
    },
    "tags": []
   },
   "outputs": [
    {
     "name": "stderr",
     "output_type": "stream",
     "text": [
      "/opt/conda/lib/python3.7/site-packages/ipykernel_launcher.py:2: UserWarning: Cannot use bqstorage_client if max_results is set, reverting to fetching data with the tabledata.list endpoint.\n",
      "  \n"
     ]
    },
    {
     "data": {
      "text/html": [
       "<div>\n",
       "<style scoped>\n",
       "    .dataframe tbody tr th:only-of-type {\n",
       "        vertical-align: middle;\n",
       "    }\n",
       "\n",
       "    .dataframe tbody tr th {\n",
       "        vertical-align: top;\n",
       "    }\n",
       "\n",
       "    .dataframe thead th {\n",
       "        text-align: right;\n",
       "    }\n",
       "</style>\n",
       "<table border=\"1\" class=\"dataframe\">\n",
       "  <thead>\n",
       "    <tr style=\"text-align: right;\">\n",
       "      <th></th>\n",
       "      <th>latitude</th>\n",
       "      <th>longitude</th>\n",
       "      <th>location</th>\n",
       "    </tr>\n",
       "  </thead>\n",
       "  <tbody>\n",
       "    <tr>\n",
       "      <th>0</th>\n",
       "      <td>42.003065</td>\n",
       "      <td>-87.765236</td>\n",
       "      <td>(42.00306464, -87.765235836)</td>\n",
       "    </tr>\n",
       "    <tr>\n",
       "      <th>1</th>\n",
       "      <td>41.655327</td>\n",
       "      <td>-87.611318</td>\n",
       "      <td>(41.655327236, -87.611318302)</td>\n",
       "    </tr>\n",
       "    <tr>\n",
       "      <th>2</th>\n",
       "      <td>41.970089</td>\n",
       "      <td>-87.762690</td>\n",
       "      <td>(41.97008868, -87.762690091)</td>\n",
       "    </tr>\n",
       "    <tr>\n",
       "      <th>3</th>\n",
       "      <td>41.827939</td>\n",
       "      <td>-87.681638</td>\n",
       "      <td>(41.827939285, -87.681637712)</td>\n",
       "    </tr>\n",
       "    <tr>\n",
       "      <th>4</th>\n",
       "      <td>41.973168</td>\n",
       "      <td>-87.713495</td>\n",
       "      <td>(41.973167821, -87.713495268)</td>\n",
       "    </tr>\n",
       "  </tbody>\n",
       "</table>\n",
       "</div>"
      ],
      "text/plain": [
       "    latitude  longitude                       location\n",
       "0  42.003065 -87.765236   (42.00306464, -87.765235836)\n",
       "1  41.655327 -87.611318  (41.655327236, -87.611318302)\n",
       "2  41.970089 -87.762690   (41.97008868, -87.762690091)\n",
       "3  41.827939 -87.681638  (41.827939285, -87.681637712)\n",
       "4  41.973168 -87.713495  (41.973167821, -87.713495268)"
      ]
     },
     "execution_count": 12,
     "metadata": {},
     "output_type": "execute_result"
    }
   ],
   "source": [
    "# Scratch space for your code\n",
    "client.list_rows(table, selected_fields=table.schema[-3:], max_results=5).to_dataframe()"
   ]
  },
  {
   "cell_type": "markdown",
   "id": "872d9d2b",
   "metadata": {
    "papermill": {
     "duration": 0.00566,
     "end_time": "2022-06-25T14:37:58.439755",
     "exception": false,
     "start_time": "2022-06-25T14:37:58.434095",
     "status": "completed"
    },
    "tags": []
   },
   "source": [
    "# Keep going\n",
    "\n",
    "You've looked at the schema, but you haven't yet done anything exciting with the data itself. Things get more interesting when you get to the data, so keep going to **[write your first SQL query](https://www.kaggle.com/dansbecker/select-from-where).**"
   ]
  },
  {
   "cell_type": "markdown",
   "id": "9e2f1823",
   "metadata": {
    "papermill": {
     "duration": 0.0055,
     "end_time": "2022-06-25T14:37:58.451009",
     "exception": false,
     "start_time": "2022-06-25T14:37:58.445509",
     "status": "completed"
    },
    "tags": []
   },
   "source": [
    "---\n",
    "\n",
    "\n",
    "\n",
    "\n",
    "*Have questions or comments? Visit the [course discussion forum](https://www.kaggle.com/learn/intro-to-sql/discussion) to chat with other learners.*"
   ]
  }
 ],
 "metadata": {
  "kernelspec": {
   "display_name": "Python 3",
   "language": "python",
   "name": "python3"
  },
  "language_info": {
   "codemirror_mode": {
    "name": "ipython",
    "version": 3
   },
   "file_extension": ".py",
   "mimetype": "text/x-python",
   "name": "python",
   "nbconvert_exporter": "python",
   "pygments_lexer": "ipython3",
   "version": "3.7.12"
  },
  "papermill": {
   "default_parameters": {},
   "duration": 11.949865,
   "end_time": "2022-06-25T14:37:59.079031",
   "environment_variables": {},
   "exception": null,
   "input_path": "__notebook__.ipynb",
   "output_path": "__notebook__.ipynb",
   "parameters": {},
   "start_time": "2022-06-25T14:37:47.129166",
   "version": "2.3.4"
  }
 },
 "nbformat": 4,
 "nbformat_minor": 5
}
