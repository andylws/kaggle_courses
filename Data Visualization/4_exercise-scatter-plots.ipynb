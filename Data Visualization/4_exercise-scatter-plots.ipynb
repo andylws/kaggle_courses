{
 "cells": [
  {
   "cell_type": "markdown",
   "id": "cee46fdf",
   "metadata": {
    "papermill": {
     "duration": 0.036405,
     "end_time": "2022-05-10T08:25:16.027411",
     "exception": false,
     "start_time": "2022-05-10T08:25:15.991006",
     "status": "completed"
    },
    "tags": []
   },
   "source": [
    "**This notebook is an exercise in the [Data Visualization](https://www.kaggle.com/learn/data-visualization) course.  You can reference the tutorial at [this link](https://www.kaggle.com/alexisbcook/scatter-plots).**\n",
    "\n",
    "---\n"
   ]
  },
  {
   "cell_type": "markdown",
   "id": "10a0474b",
   "metadata": {
    "papermill": {
     "duration": 0.032442,
     "end_time": "2022-05-10T08:25:16.094933",
     "exception": false,
     "start_time": "2022-05-10T08:25:16.062491",
     "status": "completed"
    },
    "tags": []
   },
   "source": [
    "In this exercise, you will use your new knowledge to propose a solution to a real-world scenario.  To succeed, you will need to import data into Python, answer questions using the data, and generate **scatter plots** to understand patterns in the data.\n",
    "\n",
    "## Scenario\n",
    "\n",
    "You work for a major candy producer, and your goal is to write a report that your company can use to guide the design of its next product.  Soon after starting your research, you stumble across this [very interesting dataset](https://fivethirtyeight.com/features/the-ultimate-halloween-candy-power-ranking/) containing results from a fun survey to crowdsource favorite candies.\n",
    "\n",
    "## Setup\n",
    "\n",
    "Run the next cell to import and configure the Python libraries that you need to complete the exercise."
   ]
  },
  {
   "cell_type": "code",
   "execution_count": 1,
   "id": "32dbb6fa",
   "metadata": {
    "execution": {
     "iopub.execute_input": "2022-05-10T08:25:16.164390Z",
     "iopub.status.busy": "2022-05-10T08:25:16.163506Z",
     "iopub.status.idle": "2022-05-10T08:25:17.301667Z",
     "shell.execute_reply": "2022-05-10T08:25:17.300755Z"
    },
    "papermill": {
     "duration": 1.176292,
     "end_time": "2022-05-10T08:25:17.304458",
     "exception": false,
     "start_time": "2022-05-10T08:25:16.128166",
     "status": "completed"
    },
    "tags": []
   },
   "outputs": [
    {
     "name": "stdout",
     "output_type": "stream",
     "text": [
      "Setup Complete\n"
     ]
    }
   ],
   "source": [
    "import pandas as pd\n",
    "pd.plotting.register_matplotlib_converters()\n",
    "import matplotlib.pyplot as plt\n",
    "%matplotlib inline\n",
    "import seaborn as sns\n",
    "print(\"Setup Complete\")"
   ]
  },
  {
   "cell_type": "markdown",
   "id": "99ae8e28",
   "metadata": {
    "papermill": {
     "duration": 0.034178,
     "end_time": "2022-05-10T08:25:17.373497",
     "exception": false,
     "start_time": "2022-05-10T08:25:17.339319",
     "status": "completed"
    },
    "tags": []
   },
   "source": [
    "The questions below will give you feedback on your work. Run the following cell to set up our feedback system."
   ]
  },
  {
   "cell_type": "code",
   "execution_count": 2,
   "id": "80b0378a",
   "metadata": {
    "execution": {
     "iopub.execute_input": "2022-05-10T08:25:17.444937Z",
     "iopub.status.busy": "2022-05-10T08:25:17.444613Z",
     "iopub.status.idle": "2022-05-10T08:25:17.509788Z",
     "shell.execute_reply": "2022-05-10T08:25:17.508897Z"
    },
    "papermill": {
     "duration": 0.104568,
     "end_time": "2022-05-10T08:25:17.511990",
     "exception": false,
     "start_time": "2022-05-10T08:25:17.407422",
     "status": "completed"
    },
    "tags": []
   },
   "outputs": [
    {
     "name": "stdout",
     "output_type": "stream",
     "text": [
      "Setup Complete\n"
     ]
    }
   ],
   "source": [
    "# Set up code checking\n",
    "import os\n",
    "if not os.path.exists(\"../input/candy.csv\"):\n",
    "    os.symlink(\"../input/data-for-datavis/candy.csv\", \"../input/candy.csv\") \n",
    "from learntools.core import binder\n",
    "binder.bind(globals())\n",
    "from learntools.data_viz_to_coder.ex4 import *\n",
    "print(\"Setup Complete\")"
   ]
  },
  {
   "cell_type": "markdown",
   "id": "905a6e00",
   "metadata": {
    "papermill": {
     "duration": 0.03507,
     "end_time": "2022-05-10T08:25:17.583202",
     "exception": false,
     "start_time": "2022-05-10T08:25:17.548132",
     "status": "completed"
    },
    "tags": []
   },
   "source": [
    "## Step 1: Load the Data\n",
    "\n",
    "Read the candy data file into `candy_data`.  Use the `\"id\"` column to label the rows."
   ]
  },
  {
   "cell_type": "code",
   "execution_count": 3,
   "id": "dde7fd2a",
   "metadata": {
    "execution": {
     "iopub.execute_input": "2022-05-10T08:25:17.653841Z",
     "iopub.status.busy": "2022-05-10T08:25:17.653294Z",
     "iopub.status.idle": "2022-05-10T08:25:17.669941Z",
     "shell.execute_reply": "2022-05-10T08:25:17.669130Z"
    },
    "papermill": {
     "duration": 0.054169,
     "end_time": "2022-05-10T08:25:17.672297",
     "exception": false,
     "start_time": "2022-05-10T08:25:17.618128",
     "status": "completed"
    },
    "tags": []
   },
   "outputs": [
    {
     "data": {
      "application/javascript": [
       "parent.postMessage({\"jupyterEvent\": \"custom.exercise_interaction\", \"data\": {\"outcomeType\": 1, \"valueTowardsCompletion\": 0.3333333333333333, \"interactionType\": 1, \"questionType\": 1, \"questionId\": \"1_LoadData\", \"learnToolsVersion\": \"0.3.4\", \"failureMessage\": \"\", \"exceptionClass\": \"\", \"trace\": \"\"}}, \"*\")"
      ],
      "text/plain": [
       "<IPython.core.display.Javascript object>"
      ]
     },
     "metadata": {},
     "output_type": "display_data"
    },
    {
     "data": {
      "text/markdown": [
       "<span style=\"color:#33cc33\">Correct</span>"
      ],
      "text/plain": [
       "Correct"
      ]
     },
     "metadata": {},
     "output_type": "display_data"
    }
   ],
   "source": [
    "# Path of the file to read\n",
    "candy_filepath = \"../input/candy.csv\"\n",
    "\n",
    "# Fill in the line below to read the file into a variable candy_data\n",
    "candy_data = pd.read_csv(candy_filepath, index_col=\"id\")\n",
    "\n",
    "# Run the line below with no changes to check that you've loaded the data correctly\n",
    "step_1.check()"
   ]
  },
  {
   "cell_type": "code",
   "execution_count": 4,
   "id": "65ba1474",
   "metadata": {
    "execution": {
     "iopub.execute_input": "2022-05-10T08:25:17.745201Z",
     "iopub.status.busy": "2022-05-10T08:25:17.744701Z",
     "iopub.status.idle": "2022-05-10T08:25:17.747840Z",
     "shell.execute_reply": "2022-05-10T08:25:17.747298Z"
    },
    "papermill": {
     "duration": 0.041958,
     "end_time": "2022-05-10T08:25:17.749586",
     "exception": false,
     "start_time": "2022-05-10T08:25:17.707628",
     "status": "completed"
    },
    "tags": []
   },
   "outputs": [],
   "source": [
    "# Lines below will give you a hint or solution code\n",
    "#step_1.hint()\n",
    "#step_1.solution()"
   ]
  },
  {
   "cell_type": "markdown",
   "id": "fb34c081",
   "metadata": {
    "papermill": {
     "duration": 0.036015,
     "end_time": "2022-05-10T08:25:17.820895",
     "exception": false,
     "start_time": "2022-05-10T08:25:17.784880",
     "status": "completed"
    },
    "tags": []
   },
   "source": [
    "## Step 2: Review the data\n",
    "\n",
    "Use a Python command to print the first five rows of the data."
   ]
  },
  {
   "cell_type": "code",
   "execution_count": 5,
   "id": "b7b08ff1",
   "metadata": {
    "execution": {
     "iopub.execute_input": "2022-05-10T08:25:17.894782Z",
     "iopub.status.busy": "2022-05-10T08:25:17.894042Z",
     "iopub.status.idle": "2022-05-10T08:25:17.915607Z",
     "shell.execute_reply": "2022-05-10T08:25:17.914866Z"
    },
    "papermill": {
     "duration": 0.06116,
     "end_time": "2022-05-10T08:25:17.917727",
     "exception": false,
     "start_time": "2022-05-10T08:25:17.856567",
     "status": "completed"
    },
    "tags": []
   },
   "outputs": [
    {
     "data": {
      "text/html": [
       "<div>\n",
       "<style scoped>\n",
       "    .dataframe tbody tr th:only-of-type {\n",
       "        vertical-align: middle;\n",
       "    }\n",
       "\n",
       "    .dataframe tbody tr th {\n",
       "        vertical-align: top;\n",
       "    }\n",
       "\n",
       "    .dataframe thead th {\n",
       "        text-align: right;\n",
       "    }\n",
       "</style>\n",
       "<table border=\"1\" class=\"dataframe\">\n",
       "  <thead>\n",
       "    <tr style=\"text-align: right;\">\n",
       "      <th></th>\n",
       "      <th>competitorname</th>\n",
       "      <th>chocolate</th>\n",
       "      <th>fruity</th>\n",
       "      <th>caramel</th>\n",
       "      <th>peanutyalmondy</th>\n",
       "      <th>nougat</th>\n",
       "      <th>crispedricewafer</th>\n",
       "      <th>hard</th>\n",
       "      <th>bar</th>\n",
       "      <th>pluribus</th>\n",
       "      <th>sugarpercent</th>\n",
       "      <th>pricepercent</th>\n",
       "      <th>winpercent</th>\n",
       "    </tr>\n",
       "    <tr>\n",
       "      <th>id</th>\n",
       "      <th></th>\n",
       "      <th></th>\n",
       "      <th></th>\n",
       "      <th></th>\n",
       "      <th></th>\n",
       "      <th></th>\n",
       "      <th></th>\n",
       "      <th></th>\n",
       "      <th></th>\n",
       "      <th></th>\n",
       "      <th></th>\n",
       "      <th></th>\n",
       "      <th></th>\n",
       "    </tr>\n",
       "  </thead>\n",
       "  <tbody>\n",
       "    <tr>\n",
       "      <th>0</th>\n",
       "      <td>100 Grand</td>\n",
       "      <td>Yes</td>\n",
       "      <td>No</td>\n",
       "      <td>Yes</td>\n",
       "      <td>No</td>\n",
       "      <td>No</td>\n",
       "      <td>Yes</td>\n",
       "      <td>No</td>\n",
       "      <td>Yes</td>\n",
       "      <td>No</td>\n",
       "      <td>0.732</td>\n",
       "      <td>0.860</td>\n",
       "      <td>66.971725</td>\n",
       "    </tr>\n",
       "    <tr>\n",
       "      <th>1</th>\n",
       "      <td>3 Musketeers</td>\n",
       "      <td>Yes</td>\n",
       "      <td>No</td>\n",
       "      <td>No</td>\n",
       "      <td>No</td>\n",
       "      <td>Yes</td>\n",
       "      <td>No</td>\n",
       "      <td>No</td>\n",
       "      <td>Yes</td>\n",
       "      <td>No</td>\n",
       "      <td>0.604</td>\n",
       "      <td>0.511</td>\n",
       "      <td>67.602936</td>\n",
       "    </tr>\n",
       "    <tr>\n",
       "      <th>2</th>\n",
       "      <td>Air Heads</td>\n",
       "      <td>No</td>\n",
       "      <td>Yes</td>\n",
       "      <td>No</td>\n",
       "      <td>No</td>\n",
       "      <td>No</td>\n",
       "      <td>No</td>\n",
       "      <td>No</td>\n",
       "      <td>No</td>\n",
       "      <td>No</td>\n",
       "      <td>0.906</td>\n",
       "      <td>0.511</td>\n",
       "      <td>52.341465</td>\n",
       "    </tr>\n",
       "    <tr>\n",
       "      <th>3</th>\n",
       "      <td>Almond Joy</td>\n",
       "      <td>Yes</td>\n",
       "      <td>No</td>\n",
       "      <td>No</td>\n",
       "      <td>Yes</td>\n",
       "      <td>No</td>\n",
       "      <td>No</td>\n",
       "      <td>No</td>\n",
       "      <td>Yes</td>\n",
       "      <td>No</td>\n",
       "      <td>0.465</td>\n",
       "      <td>0.767</td>\n",
       "      <td>50.347546</td>\n",
       "    </tr>\n",
       "    <tr>\n",
       "      <th>4</th>\n",
       "      <td>Baby Ruth</td>\n",
       "      <td>Yes</td>\n",
       "      <td>No</td>\n",
       "      <td>Yes</td>\n",
       "      <td>Yes</td>\n",
       "      <td>Yes</td>\n",
       "      <td>No</td>\n",
       "      <td>No</td>\n",
       "      <td>Yes</td>\n",
       "      <td>No</td>\n",
       "      <td>0.604</td>\n",
       "      <td>0.767</td>\n",
       "      <td>56.914547</td>\n",
       "    </tr>\n",
       "  </tbody>\n",
       "</table>\n",
       "</div>"
      ],
      "text/plain": [
       "   competitorname chocolate fruity caramel peanutyalmondy nougat  \\\n",
       "id                                                                 \n",
       "0       100 Grand       Yes     No     Yes             No     No   \n",
       "1    3 Musketeers       Yes     No      No             No    Yes   \n",
       "2       Air Heads        No    Yes      No             No     No   \n",
       "3      Almond Joy       Yes     No      No            Yes     No   \n",
       "4       Baby Ruth       Yes     No     Yes            Yes    Yes   \n",
       "\n",
       "   crispedricewafer hard  bar pluribus  sugarpercent  pricepercent  winpercent  \n",
       "id                                                                              \n",
       "0               Yes   No  Yes       No         0.732         0.860   66.971725  \n",
       "1                No   No  Yes       No         0.604         0.511   67.602936  \n",
       "2                No   No   No       No         0.906         0.511   52.341465  \n",
       "3                No   No  Yes       No         0.465         0.767   50.347546  \n",
       "4                No   No  Yes       No         0.604         0.767   56.914547  "
      ]
     },
     "execution_count": 5,
     "metadata": {},
     "output_type": "execute_result"
    }
   ],
   "source": [
    "# Print the first five rows of the data\n",
    "candy_data.head() # Your code here"
   ]
  },
  {
   "cell_type": "markdown",
   "id": "debd3d36",
   "metadata": {
    "papermill": {
     "duration": 0.035993,
     "end_time": "2022-05-10T08:25:17.990967",
     "exception": false,
     "start_time": "2022-05-10T08:25:17.954974",
     "status": "completed"
    },
    "tags": []
   },
   "source": [
    "The dataset contains 83 rows, where each corresponds to a different candy bar.  There are 13 columns:\n",
    "- `'competitorname'` contains the name of the candy bar. \n",
    "- the next **9** columns (from `'chocolate'` to `'pluribus'`) describe the candy.  For instance, rows with chocolate candies have `\"Yes\"` in the `'chocolate'` column (and candies without chocolate have `\"No\"` in the same column).\n",
    "- `'sugarpercent'` provides some indication of the amount of sugar, where higher values signify higher sugar content.\n",
    "- `'pricepercent'` shows the price per unit, relative to the other candies in the dataset.\n",
    "- `'winpercent'` is calculated from the survey results; higher values indicate that the candy was more popular with survey respondents.\n",
    "\n",
    "Use the first five rows of the data to answer the questions below."
   ]
  },
  {
   "cell_type": "code",
   "execution_count": 6,
   "id": "c62e9bd7",
   "metadata": {
    "execution": {
     "iopub.execute_input": "2022-05-10T08:25:18.066224Z",
     "iopub.status.busy": "2022-05-10T08:25:18.065697Z",
     "iopub.status.idle": "2022-05-10T08:25:18.072399Z",
     "shell.execute_reply": "2022-05-10T08:25:18.071687Z"
    },
    "papermill": {
     "duration": 0.046982,
     "end_time": "2022-05-10T08:25:18.074146",
     "exception": false,
     "start_time": "2022-05-10T08:25:18.027164",
     "status": "completed"
    },
    "tags": []
   },
   "outputs": [
    {
     "data": {
      "application/javascript": [
       "parent.postMessage({\"jupyterEvent\": \"custom.exercise_interaction\", \"data\": {\"outcomeType\": 1, \"valueTowardsCompletion\": 0.3333333333333333, \"interactionType\": 1, \"questionType\": 1, \"questionId\": \"2_ReviewData\", \"learnToolsVersion\": \"0.3.4\", \"failureMessage\": \"\", \"exceptionClass\": \"\", \"trace\": \"\"}}, \"*\")"
      ],
      "text/plain": [
       "<IPython.core.display.Javascript object>"
      ]
     },
     "metadata": {},
     "output_type": "display_data"
    },
    {
     "data": {
      "text/markdown": [
       "<span style=\"color:#33cc33\">Correct</span>"
      ],
      "text/plain": [
       "Correct"
      ]
     },
     "metadata": {},
     "output_type": "display_data"
    }
   ],
   "source": [
    "# Fill in the line below: Which candy was more popular with survey respondents:\n",
    "# '3 Musketeers' or 'Almond Joy'?  (Please enclose your answer in single quotes.)\n",
    "more_popular = '3 Musketeers'\n",
    "\n",
    "# Fill in the line below: Which candy has higher sugar content: 'Air Heads'\n",
    "# or 'Baby Ruth'? (Please enclose your answer in single quotes.)\n",
    "more_sugar = 'Air Heads'\n",
    "\n",
    "# Check your answers\n",
    "step_2.check()"
   ]
  },
  {
   "cell_type": "code",
   "execution_count": 7,
   "id": "c24b87ef",
   "metadata": {
    "execution": {
     "iopub.execute_input": "2022-05-10T08:25:18.150934Z",
     "iopub.status.busy": "2022-05-10T08:25:18.150379Z",
     "iopub.status.idle": "2022-05-10T08:25:18.153363Z",
     "shell.execute_reply": "2022-05-10T08:25:18.152824Z"
    },
    "papermill": {
     "duration": 0.043753,
     "end_time": "2022-05-10T08:25:18.155261",
     "exception": false,
     "start_time": "2022-05-10T08:25:18.111508",
     "status": "completed"
    },
    "tags": []
   },
   "outputs": [],
   "source": [
    "# Lines below will give you a hint or solution code\n",
    "#step_2.hint()\n",
    "#step_2.solution()"
   ]
  },
  {
   "cell_type": "markdown",
   "id": "df6df382",
   "metadata": {
    "papermill": {
     "duration": 0.038059,
     "end_time": "2022-05-10T08:25:18.231982",
     "exception": false,
     "start_time": "2022-05-10T08:25:18.193923",
     "status": "completed"
    },
    "tags": []
   },
   "source": [
    "## Step 3: The role of sugar\n",
    "\n",
    "Do people tend to prefer candies with higher sugar content?  \n",
    "\n",
    "#### Part A\n",
    "\n",
    "Create a scatter plot that shows the relationship between `'sugarpercent'` (on the horizontal x-axis) and `'winpercent'` (on the vertical y-axis).  _Don't add a regression line just yet -- you'll do that in the next step!_"
   ]
  },
  {
   "cell_type": "code",
   "execution_count": 8,
   "id": "d04b65f7",
   "metadata": {
    "execution": {
     "iopub.execute_input": "2022-05-10T08:25:18.312762Z",
     "iopub.status.busy": "2022-05-10T08:25:18.311701Z",
     "iopub.status.idle": "2022-05-10T08:25:18.572724Z",
     "shell.execute_reply": "2022-05-10T08:25:18.571787Z"
    },
    "papermill": {
     "duration": 0.304205,
     "end_time": "2022-05-10T08:25:18.574915",
     "exception": false,
     "start_time": "2022-05-10T08:25:18.270710",
     "status": "completed"
    },
    "tags": []
   },
   "outputs": [
    {
     "data": {
      "application/javascript": [
       "parent.postMessage({\"jupyterEvent\": \"custom.exercise_interaction\", \"data\": {\"outcomeType\": 1, \"valueTowardsCompletion\": 0.3333333333333333, \"interactionType\": 1, \"questionType\": 2, \"questionId\": \"3.1_PlotBlueScatter\", \"learnToolsVersion\": \"0.3.4\", \"failureMessage\": \"\", \"exceptionClass\": \"\", \"trace\": \"\"}}, \"*\")"
      ],
      "text/plain": [
       "<IPython.core.display.Javascript object>"
      ]
     },
     "metadata": {},
     "output_type": "display_data"
    },
    {
     "data": {
      "text/markdown": [
       "<span style=\"color:#33cc33\">Correct</span>"
      ],
      "text/plain": [
       "Correct"
      ]
     },
     "metadata": {},
     "output_type": "display_data"
    },
    {
     "data": {
      "image/png": "[encoded data removed]",
      "text/plain": [
       "<Figure size 432x288 with 1 Axes>"
      ]
     },
     "metadata": {
      "needs_background": "light"
     },
     "output_type": "display_data"
    }
   ],
   "source": [
    "# Scatter plot showing the relationship between 'sugarpercent' and 'winpercent'\n",
    "sns.scatterplot(x='sugarpercent', y='winpercent', data=candy_data) # Your code here\n",
    "\n",
    "# Check your answer\n",
    "step_3.a.check()"
   ]
  },
  {
   "cell_type": "code",
   "execution_count": 9,
   "id": "13f2ff18",
   "metadata": {
    "execution": {
     "iopub.execute_input": "2022-05-10T08:25:18.656613Z",
     "iopub.status.busy": "2022-05-10T08:25:18.655826Z",
     "iopub.status.idle": "2022-05-10T08:25:18.659818Z",
     "shell.execute_reply": "2022-05-10T08:25:18.658809Z"
    },
    "papermill": {
     "duration": 0.04736,
     "end_time": "2022-05-10T08:25:18.661969",
     "exception": false,
     "start_time": "2022-05-10T08:25:18.614609",
     "status": "completed"
    },
    "tags": []
   },
   "outputs": [],
   "source": [
    "# Lines below will give you a hint or solution code\n",
    "#step_3.a.hint()\n",
    "#step_3.a.solution_plot()"
   ]
  },
  {
   "cell_type": "markdown",
   "id": "54e5bcb0",
   "metadata": {
    "papermill": {
     "duration": 0.041052,
     "end_time": "2022-05-10T08:25:18.742231",
     "exception": false,
     "start_time": "2022-05-10T08:25:18.701179",
     "status": "completed"
    },
    "tags": []
   },
   "source": [
    "#### Part B\n",
    "\n",
    "Does the scatter plot show a **strong** correlation between the two variables?  If so, are candies with more sugar relatively more or less popular with the survey respondents?"
   ]
  },
  {
   "cell_type": "code",
   "execution_count": 10,
   "id": "9cdf14d9",
   "metadata": {
    "execution": {
     "iopub.execute_input": "2022-05-10T08:25:18.826157Z",
     "iopub.status.busy": "2022-05-10T08:25:18.825781Z",
     "iopub.status.idle": "2022-05-10T08:25:18.830597Z",
     "shell.execute_reply": "2022-05-10T08:25:18.829332Z"
    },
    "papermill": {
     "duration": 0.048528,
     "end_time": "2022-05-10T08:25:18.832957",
     "exception": false,
     "start_time": "2022-05-10T08:25:18.784429",
     "status": "completed"
    },
    "tags": []
   },
   "outputs": [],
   "source": [
    "#step_3.b.hint()"
   ]
  },
  {
   "cell_type": "code",
   "execution_count": 11,
   "id": "efd66c62",
   "metadata": {
    "execution": {
     "iopub.execute_input": "2022-05-10T08:25:18.917098Z",
     "iopub.status.busy": "2022-05-10T08:25:18.916219Z",
     "iopub.status.idle": "2022-05-10T08:25:18.922628Z",
     "shell.execute_reply": "2022-05-10T08:25:18.922081Z"
    },
    "papermill": {
     "duration": 0.050013,
     "end_time": "2022-05-10T08:25:18.924430",
     "exception": false,
     "start_time": "2022-05-10T08:25:18.874417",
     "status": "completed"
    },
    "tags": []
   },
   "outputs": [
    {
     "data": {
      "application/javascript": [
       "parent.postMessage({\"jupyterEvent\": \"custom.exercise_interaction\", \"data\": {\"interactionType\": 3, \"questionType\": 4, \"questionId\": \"3.2_ThinkBlueScatter\", \"learnToolsVersion\": \"0.3.4\", \"valueTowardsCompletion\": 0.0, \"failureMessage\": \"\", \"exceptionClass\": \"\", \"trace\": \"\", \"outcomeType\": 4}}, \"*\")"
      ],
      "text/plain": [
       "<IPython.core.display.Javascript object>"
      ]
     },
     "metadata": {},
     "output_type": "display_data"
    },
    {
     "data": {
      "text/markdown": [
       "<span style=\"color:#33cc99\">Solution:</span> The scatter plot does not show a strong correlation between the two variables. Since there is no clear relationship between the two variables, this tells us that sugar content does not play a strong role in candy popularity."
      ],
      "text/plain": [
       "Solution: The scatter plot does not show a strong correlation between the two variables. Since there is no clear relationship between the two variables, this tells us that sugar content does not play a strong role in candy popularity."
      ]
     },
     "metadata": {},
     "output_type": "display_data"
    }
   ],
   "source": [
    "# Check your answer (Run this code cell to receive credit!)\n",
    "step_3.b.solution()"
   ]
  },
  {
   "cell_type": "markdown",
   "id": "4ffe62c8",
   "metadata": {
    "papermill": {
     "duration": 0.041118,
     "end_time": "2022-05-10T08:25:19.008870",
     "exception": false,
     "start_time": "2022-05-10T08:25:18.967752",
     "status": "completed"
    },
    "tags": []
   },
   "source": [
    "## Step 4: Take a closer look\n",
    "\n",
    "#### Part A\n",
    "\n",
    "Create the same scatter plot you created in **Step 3**, but now with a regression line!"
   ]
  },
  {
   "cell_type": "code",
   "execution_count": 12,
   "id": "b0558611",
   "metadata": {
    "execution": {
     "iopub.execute_input": "2022-05-10T08:25:19.092621Z",
     "iopub.status.busy": "2022-05-10T08:25:19.092180Z",
     "iopub.status.idle": "2022-05-10T08:25:19.424150Z",
     "shell.execute_reply": "2022-05-10T08:25:19.423157Z"
    },
    "papermill": {
     "duration": 0.376948,
     "end_time": "2022-05-10T08:25:19.426850",
     "exception": false,
     "start_time": "2022-05-10T08:25:19.049902",
     "status": "completed"
    },
    "tags": []
   },
   "outputs": [
    {
     "data": {
      "application/javascript": [
       "parent.postMessage({\"jupyterEvent\": \"custom.exercise_interaction\", \"data\": {\"outcomeType\": 1, \"valueTowardsCompletion\": 0.3333333333333333, \"interactionType\": 1, \"questionType\": 2, \"questionId\": \"4.1_PlotBlueReg\", \"learnToolsVersion\": \"0.3.4\", \"failureMessage\": \"\", \"exceptionClass\": \"\", \"trace\": \"\"}}, \"*\")"
      ],
      "text/plain": [
       "<IPython.core.display.Javascript object>"
      ]
     },
     "metadata": {},
     "output_type": "display_data"
    },
    {
     "data": {
      "text/markdown": [
       "<span style=\"color:#33cc33\">Correct</span>"
      ],
      "text/plain": [
       "Correct"
      ]
     },
     "metadata": {},
     "output_type": "display_data"
    },
    {
     "data": {
      "image/png": "[encoded data removed]",
      "text/plain": [
       "<Figure size 432x288 with 1 Axes>"
      ]
     },
     "metadata": {
      "needs_background": "light"
     },
     "output_type": "display_data"
    }
   ],
   "source": [
    "# Scatter plot w/ regression line showing the relationship between 'sugarpercent' and 'winpercent'\n",
    "sns.regplot(x='sugarpercent', y='winpercent', data=candy_data) # Your code here\n",
    "\n",
    "# Check your answer\n",
    "step_4.a.check()"
   ]
  },
  {
   "cell_type": "code",
   "execution_count": 13,
   "id": "4d50d5da",
   "metadata": {
    "execution": {
     "iopub.execute_input": "2022-05-10T08:25:19.515099Z",
     "iopub.status.busy": "2022-05-10T08:25:19.514774Z",
     "iopub.status.idle": "2022-05-10T08:25:19.518866Z",
     "shell.execute_reply": "2022-05-10T08:25:19.517839Z"
    },
    "papermill": {
     "duration": 0.051368,
     "end_time": "2022-05-10T08:25:19.521099",
     "exception": false,
     "start_time": "2022-05-10T08:25:19.469731",
     "status": "completed"
    },
    "tags": []
   },
   "outputs": [],
   "source": [
    "# Lines below will give you a hint or solution code\n",
    "#step_4.a.hint()\n",
    "#step_4.a.solution_plot()"
   ]
  },
  {
   "cell_type": "markdown",
   "id": "d30f1451",
   "metadata": {
    "papermill": {
     "duration": 0.042897,
     "end_time": "2022-05-10T08:25:19.608781",
     "exception": false,
     "start_time": "2022-05-10T08:25:19.565884",
     "status": "completed"
    },
    "tags": []
   },
   "source": [
    "#### Part B\n",
    "\n",
    "According to the plot above, is there a **slight** correlation between `'winpercent'` and `'sugarpercent'`?  What does this tell you about the candy that people tend to prefer?"
   ]
  },
  {
   "cell_type": "code",
   "execution_count": 14,
   "id": "ae74c53a",
   "metadata": {
    "execution": {
     "iopub.execute_input": "2022-05-10T08:25:19.698233Z",
     "iopub.status.busy": "2022-05-10T08:25:19.697483Z",
     "iopub.status.idle": "2022-05-10T08:25:19.701812Z",
     "shell.execute_reply": "2022-05-10T08:25:19.700883Z"
    },
    "papermill": {
     "duration": 0.051456,
     "end_time": "2022-05-10T08:25:19.704169",
     "exception": false,
     "start_time": "2022-05-10T08:25:19.652713",
     "status": "completed"
    },
    "tags": []
   },
   "outputs": [],
   "source": [
    "#step_4.b.hint()"
   ]
  },
  {
   "cell_type": "code",
   "execution_count": 15,
   "id": "74da1972",
   "metadata": {
    "execution": {
     "iopub.execute_input": "2022-05-10T08:25:19.794388Z",
     "iopub.status.busy": "2022-05-10T08:25:19.793353Z",
     "iopub.status.idle": "2022-05-10T08:25:19.802382Z",
     "shell.execute_reply": "2022-05-10T08:25:19.801532Z"
    },
    "papermill": {
     "duration": 0.055949,
     "end_time": "2022-05-10T08:25:19.804287",
     "exception": false,
     "start_time": "2022-05-10T08:25:19.748338",
     "status": "completed"
    },
    "tags": []
   },
   "outputs": [
    {
     "data": {
      "application/javascript": [
       "parent.postMessage({\"jupyterEvent\": \"custom.exercise_interaction\", \"data\": {\"interactionType\": 3, \"questionType\": 4, \"questionId\": \"4.2_ThinkBlueReg\", \"learnToolsVersion\": \"0.3.4\", \"valueTowardsCompletion\": 0.0, \"failureMessage\": \"\", \"exceptionClass\": \"\", \"trace\": \"\", \"outcomeType\": 4}}, \"*\")"
      ],
      "text/plain": [
       "<IPython.core.display.Javascript object>"
      ]
     },
     "metadata": {},
     "output_type": "display_data"
    },
    {
     "data": {
      "text/markdown": [
       "<span style=\"color:#33cc99\">Solution:</span> Since the regression line has a slightly positive slope, this tells us that there is a slightly positive correlation between `'winpercent'` and `'sugarpercent'`. Thus, people have a slight preference for candies containing relatively more sugar."
      ],
      "text/plain": [
       "Solution: Since the regression line has a slightly positive slope, this tells us that there is a slightly positive correlation between `'winpercent'` and `'sugarpercent'`. Thus, people have a slight preference for candies containing relatively more sugar."
      ]
     },
     "metadata": {},
     "output_type": "display_data"
    }
   ],
   "source": [
    "# Check your answer (Run this code cell to receive credit!)\n",
    "step_4.b.solution()"
   ]
  },
  {
   "cell_type": "markdown",
   "id": "f179a0e0",
   "metadata": {
    "papermill": {
     "duration": 0.047018,
     "end_time": "2022-05-10T08:25:19.897305",
     "exception": false,
     "start_time": "2022-05-10T08:25:19.850287",
     "status": "completed"
    },
    "tags": []
   },
   "source": [
    "## Step 5: Chocolate!\n",
    "\n",
    "In the code cell below, create a scatter plot to show the relationship between `'pricepercent'` (on the horizontal x-axis) and `'winpercent'` (on the vertical y-axis). Use the `'chocolate'` column to color-code the points.  _Don't add any regression lines just yet -- you'll do that in the next step!_"
   ]
  },
  {
   "cell_type": "code",
   "execution_count": 16,
   "id": "3e9c9c90",
   "metadata": {
    "execution": {
     "iopub.execute_input": "2022-05-10T08:25:19.991617Z",
     "iopub.status.busy": "2022-05-10T08:25:19.991085Z",
     "iopub.status.idle": "2022-05-10T08:25:20.286165Z",
     "shell.execute_reply": "2022-05-10T08:25:20.285462Z"
    },
    "papermill": {
     "duration": 0.345593,
     "end_time": "2022-05-10T08:25:20.288639",
     "exception": false,
     "start_time": "2022-05-10T08:25:19.943046",
     "status": "completed"
    },
    "tags": []
   },
   "outputs": [
    {
     "data": {
      "application/javascript": [
       "parent.postMessage({\"jupyterEvent\": \"custom.exercise_interaction\", \"data\": {\"outcomeType\": 1, \"valueTowardsCompletion\": 0.3333333333333333, \"interactionType\": 1, \"questionType\": 2, \"questionId\": \"5_ColorScatter\", \"learnToolsVersion\": \"0.3.4\", \"failureMessage\": \"\", \"exceptionClass\": \"\", \"trace\": \"\"}}, \"*\")"
      ],
      "text/plain": [
       "<IPython.core.display.Javascript object>"
      ]
     },
     "metadata": {},
     "output_type": "display_data"
    },
    {
     "data": {
      "text/markdown": [
       "<span style=\"color:#33cc33\">Correct</span>"
      ],
      "text/plain": [
       "Correct"
      ]
     },
     "metadata": {},
     "output_type": "display_data"
    },
    {
     "data": {
      "image/png": "[encoded data removed]",
      "text/plain": [
       "<Figure size 432x288 with 1 Axes>"
      ]
     },
     "metadata": {
      "needs_background": "light"
     },
     "output_type": "display_data"
    }
   ],
   "source": [
    "# Scatter plot showing the relationship between 'pricepercent', 'winpercent', and 'chocolate'\n",
    "sns.scatterplot(x='pricepercent', y='winpercent', hue='chocolate', data=candy_data) # Your code here\n",
    "\n",
    "# Check your answer\n",
    "step_5.check()"
   ]
  },
  {
   "cell_type": "code",
   "execution_count": 17,
   "id": "5f2b6ca5",
   "metadata": {
    "execution": {
     "iopub.execute_input": "2022-05-10T08:25:20.388408Z",
     "iopub.status.busy": "2022-05-10T08:25:20.387727Z",
     "iopub.status.idle": "2022-05-10T08:25:20.391085Z",
     "shell.execute_reply": "2022-05-10T08:25:20.390500Z"
    },
    "papermill": {
     "duration": 0.055558,
     "end_time": "2022-05-10T08:25:20.393107",
     "exception": false,
     "start_time": "2022-05-10T08:25:20.337549",
     "status": "completed"
    },
    "tags": []
   },
   "outputs": [],
   "source": [
    "# Lines below will give you a hint or solution code\n",
    "#step_5.hint()\n",
    "#step_5.solution_plot()"
   ]
  },
  {
   "cell_type": "markdown",
   "id": "c2e1b0c2",
   "metadata": {
    "papermill": {
     "duration": 0.047241,
     "end_time": "2022-05-10T08:25:20.489657",
     "exception": false,
     "start_time": "2022-05-10T08:25:20.442416",
     "status": "completed"
    },
    "tags": []
   },
   "source": [
    "Can you see any interesting patterns in the scatter plot?  We'll investigate this plot further  by adding regression lines in the next step!\n",
    "\n",
    "## Step 6: Investigate chocolate\n",
    "\n",
    "#### Part A\n",
    "\n",
    "Create the same scatter plot you created in **Step 5**, but now with two regression lines, corresponding to (1) chocolate candies and (2) candies without chocolate."
   ]
  },
  {
   "cell_type": "code",
   "execution_count": 18,
   "id": "e96862cf",
   "metadata": {
    "execution": {
     "iopub.execute_input": "2022-05-10T08:25:20.587401Z",
     "iopub.status.busy": "2022-05-10T08:25:20.586872Z",
     "iopub.status.idle": "2022-05-10T08:25:21.234148Z",
     "shell.execute_reply": "2022-05-10T08:25:21.233472Z"
    },
    "papermill": {
     "duration": 0.699076,
     "end_time": "2022-05-10T08:25:21.236218",
     "exception": false,
     "start_time": "2022-05-10T08:25:20.537142",
     "status": "completed"
    },
    "tags": []
   },
   "outputs": [
    {
     "data": {
      "application/javascript": [
       "parent.postMessage({\"jupyterEvent\": \"custom.exercise_interaction\", \"data\": {\"outcomeType\": 1, \"valueTowardsCompletion\": 0.3333333333333333, \"interactionType\": 1, \"questionType\": 2, \"questionId\": \"6.1_PlotColorReg\", \"learnToolsVersion\": \"0.3.4\", \"failureMessage\": \"\", \"exceptionClass\": \"\", \"trace\": \"\"}}, \"*\")"
      ],
      "text/plain": [
       "<IPython.core.display.Javascript object>"
      ]
     },
     "metadata": {},
     "output_type": "display_data"
    },
    {
     "data": {
      "text/markdown": [
       "<span style=\"color:#33cc33\">Correct</span>"
      ],
      "text/plain": [
       "Correct"
      ]
     },
     "metadata": {},
     "output_type": "display_data"
    },
    {
     "data": {
      "image/png": "[encoded data removed]",
      "text/plain": [
       "<Figure size 416.375x360 with 1 Axes>"
      ]
     },
     "metadata": {
      "needs_background": "light"
     },
     "output_type": "display_data"
    }
   ],
   "source": [
    "# Color-coded scatter plot w/ regression lines\n",
    "sns.lmplot(x='pricepercent', y='winpercent', hue='chocolate', data=candy_data) # Your code here\n",
    "\n",
    "# Check your answer\n",
    "step_6.a.check()"
   ]
  },
  {
   "cell_type": "code",
   "execution_count": 19,
   "id": "d420c56a",
   "metadata": {
    "execution": {
     "iopub.execute_input": "2022-05-10T08:25:21.339404Z",
     "iopub.status.busy": "2022-05-10T08:25:21.338804Z",
     "iopub.status.idle": "2022-05-10T08:25:21.342093Z",
     "shell.execute_reply": "2022-05-10T08:25:21.341491Z"
    },
    "papermill": {
     "duration": 0.057319,
     "end_time": "2022-05-10T08:25:21.343828",
     "exception": false,
     "start_time": "2022-05-10T08:25:21.286509",
     "status": "completed"
    },
    "tags": []
   },
   "outputs": [],
   "source": [
    "# Lines below will give you a hint or solution code\n",
    "#step_6.a.hint()\n",
    "#step_6.a.solution_plot()"
   ]
  },
  {
   "cell_type": "markdown",
   "id": "bce9d76d",
   "metadata": {
    "papermill": {
     "duration": 0.049389,
     "end_time": "2022-05-10T08:25:21.443913",
     "exception": false,
     "start_time": "2022-05-10T08:25:21.394524",
     "status": "completed"
    },
    "tags": []
   },
   "source": [
    "#### Part B\n",
    "\n",
    "Using the regression lines, what conclusions can you draw about the effects of chocolate and price on candy popularity?"
   ]
  },
  {
   "cell_type": "code",
   "execution_count": 20,
   "id": "d03e0c27",
   "metadata": {
    "execution": {
     "iopub.execute_input": "2022-05-10T08:25:21.547090Z",
     "iopub.status.busy": "2022-05-10T08:25:21.546753Z",
     "iopub.status.idle": "2022-05-10T08:25:21.551285Z",
     "shell.execute_reply": "2022-05-10T08:25:21.550340Z"
    },
    "papermill": {
     "duration": 0.059807,
     "end_time": "2022-05-10T08:25:21.553643",
     "exception": false,
     "start_time": "2022-05-10T08:25:21.493836",
     "status": "completed"
    },
    "tags": []
   },
   "outputs": [],
   "source": [
    "#step_6.b.hint()"
   ]
  },
  {
   "cell_type": "code",
   "execution_count": 21,
   "id": "cceebb7d",
   "metadata": {
    "execution": {
     "iopub.execute_input": "2022-05-10T08:25:21.657480Z",
     "iopub.status.busy": "2022-05-10T08:25:21.657153Z",
     "iopub.status.idle": "2022-05-10T08:25:21.664464Z",
     "shell.execute_reply": "2022-05-10T08:25:21.663776Z"
    },
    "papermill": {
     "duration": 0.061379,
     "end_time": "2022-05-10T08:25:21.666654",
     "exception": false,
     "start_time": "2022-05-10T08:25:21.605275",
     "status": "completed"
    },
    "tags": []
   },
   "outputs": [
    {
     "data": {
      "application/javascript": [
       "parent.postMessage({\"jupyterEvent\": \"custom.exercise_interaction\", \"data\": {\"interactionType\": 3, \"questionType\": 4, \"questionId\": \"6.2_ThinkColorReg\", \"learnToolsVersion\": \"0.3.4\", \"valueTowardsCompletion\": 0.0, \"failureMessage\": \"\", \"exceptionClass\": \"\", \"trace\": \"\", \"outcomeType\": 4}}, \"*\")"
      ],
      "text/plain": [
       "<IPython.core.display.Javascript object>"
      ]
     },
     "metadata": {},
     "output_type": "display_data"
    },
    {
     "data": {
      "text/markdown": [
       "<span style=\"color:#33cc99\">Solution:</span> We'll begin with the regression line for chocolate candies. Since this line has a slightly positive slope, we can say that more expensive chocolate candies tend to be more popular (than relatively cheaper chocolate candies).  Likewise, since the regression line for candies without chocolate has a negative slope, we can say that if candies don't contain chocolate, they tend to be more popular when they are cheaper.  One important note, however, is that the dataset is quite small -- so we shouldn't invest too much trust in these patterns!  To inspire more confidence in the results, we should add more candies to the dataset."
      ],
      "text/plain": [
       "Solution: We'll begin with the regression line for chocolate candies. Since this line has a slightly positive slope, we can say that more expensive chocolate candies tend to be more popular (than relatively cheaper chocolate candies).  Likewise, since the regression line for candies without chocolate has a negative slope, we can say that if candies don't contain chocolate, they tend to be more popular when they are cheaper.  One important note, however, is that the dataset is quite small -- so we shouldn't invest too much trust in these patterns!  To inspire more confidence in the results, we should add more candies to the dataset."
      ]
     },
     "metadata": {},
     "output_type": "display_data"
    }
   ],
   "source": [
    "# Check your answer (Run this code cell to receive credit!)\n",
    "step_6.b.solution()"
   ]
  },
  {
   "cell_type": "markdown",
   "id": "7a8df1ef",
   "metadata": {
    "papermill": {
     "duration": 0.051611,
     "end_time": "2022-05-10T08:25:21.771092",
     "exception": false,
     "start_time": "2022-05-10T08:25:21.719481",
     "status": "completed"
    },
    "tags": []
   },
   "source": [
    "## Step 7: Everybody loves chocolate.\n",
    "\n",
    "#### Part A\n",
    "\n",
    "Create a categorical scatter plot to highlight the relationship between `'chocolate'` and `'winpercent'`.  Put `'chocolate'` on the (horizontal) x-axis, and `'winpercent'` on the (vertical) y-axis."
   ]
  },
  {
   "cell_type": "code",
   "execution_count": 22,
   "id": "b0f7f36b",
   "metadata": {
    "execution": {
     "iopub.execute_input": "2022-05-10T08:25:21.875776Z",
     "iopub.status.busy": "2022-05-10T08:25:21.875235Z",
     "iopub.status.idle": "2022-05-10T08:25:22.078885Z",
     "shell.execute_reply": "2022-05-10T08:25:22.077870Z"
    },
    "papermill": {
     "duration": 0.258532,
     "end_time": "2022-05-10T08:25:22.081362",
     "exception": false,
     "start_time": "2022-05-10T08:25:21.822830",
     "status": "completed"
    },
    "tags": []
   },
   "outputs": [
    {
     "data": {
      "application/javascript": [
       "parent.postMessage({\"jupyterEvent\": \"custom.exercise_interaction\", \"data\": {\"outcomeType\": 1, \"valueTowardsCompletion\": 0.3333333333333333, \"interactionType\": 1, \"questionType\": 2, \"questionId\": \"7.1_PlotSwarm\", \"learnToolsVersion\": \"0.3.4\", \"failureMessage\": \"\", \"exceptionClass\": \"\", \"trace\": \"\"}}, \"*\")"
      ],
      "text/plain": [
       "<IPython.core.display.Javascript object>"
      ]
     },
     "metadata": {},
     "output_type": "display_data"
    },
    {
     "data": {
      "text/markdown": [
       "<span style=\"color:#33cc33\">Correct</span>"
      ],
      "text/plain": [
       "Correct"
      ]
     },
     "metadata": {},
     "output_type": "display_data"
    },
    {
     "data": {
      "image/png": "[encoded data removed]",
      "text/plain": [
       "<Figure size 432x288 with 1 Axes>"
      ]
     },
     "metadata": {
      "needs_background": "light"
     },
     "output_type": "display_data"
    }
   ],
   "source": [
    "# Scatter plot showing the relationship between 'chocolate' and 'winpercent'\n",
    "sns.swarmplot(x='chocolate', y='winpercent', data=candy_data) # Your code here\n",
    "\n",
    "# Check your answer\n",
    "step_7.a.check()"
   ]
  },
  {
   "cell_type": "code",
   "execution_count": 23,
   "id": "9b721de0",
   "metadata": {
    "execution": {
     "iopub.execute_input": "2022-05-10T08:25:22.192415Z",
     "iopub.status.busy": "2022-05-10T08:25:22.192043Z",
     "iopub.status.idle": "2022-05-10T08:25:22.195921Z",
     "shell.execute_reply": "2022-05-10T08:25:22.195260Z"
    },
    "papermill": {
     "duration": 0.061975,
     "end_time": "2022-05-10T08:25:22.197831",
     "exception": false,
     "start_time": "2022-05-10T08:25:22.135856",
     "status": "completed"
    },
    "tags": []
   },
   "outputs": [],
   "source": [
    "# Lines below will give you a hint or solution code\n",
    "#step_7.a.hint()\n",
    "#step_7.a.solution_plot()"
   ]
  },
  {
   "cell_type": "markdown",
   "id": "ce9e4019",
   "metadata": {
    "papermill": {
     "duration": 0.053486,
     "end_time": "2022-05-10T08:25:22.305676",
     "exception": false,
     "start_time": "2022-05-10T08:25:22.252190",
     "status": "completed"
    },
    "tags": []
   },
   "source": [
    "#### Part B\n",
    "\n",
    "You decide to dedicate a section of your report to the fact that chocolate candies tend to be more popular than candies without chocolate.  Which plot is more appropriate to tell this story: the plot from **Step 6**, or the plot from **Step 7**?"
   ]
  },
  {
   "cell_type": "code",
   "execution_count": 24,
   "id": "b35fddd3",
   "metadata": {
    "execution": {
     "iopub.execute_input": "2022-05-10T08:25:22.415115Z",
     "iopub.status.busy": "2022-05-10T08:25:22.414289Z",
     "iopub.status.idle": "2022-05-10T08:25:22.419178Z",
     "shell.execute_reply": "2022-05-10T08:25:22.418211Z"
    },
    "papermill": {
     "duration": 0.061605,
     "end_time": "2022-05-10T08:25:22.421310",
     "exception": false,
     "start_time": "2022-05-10T08:25:22.359705",
     "status": "completed"
    },
    "tags": []
   },
   "outputs": [],
   "source": [
    "#step_7.b.hint()"
   ]
  },
  {
   "cell_type": "code",
   "execution_count": 25,
   "id": "a7635539",
   "metadata": {
    "execution": {
     "iopub.execute_input": "2022-05-10T08:25:22.531235Z",
     "iopub.status.busy": "2022-05-10T08:25:22.530937Z",
     "iopub.status.idle": "2022-05-10T08:25:22.537306Z",
     "shell.execute_reply": "2022-05-10T08:25:22.536760Z"
    },
    "papermill": {
     "duration": 0.063653,
     "end_time": "2022-05-10T08:25:22.539038",
     "exception": false,
     "start_time": "2022-05-10T08:25:22.475385",
     "status": "completed"
    },
    "tags": []
   },
   "outputs": [
    {
     "data": {
      "application/javascript": [
       "parent.postMessage({\"jupyterEvent\": \"custom.exercise_interaction\", \"data\": {\"interactionType\": 3, \"questionType\": 4, \"questionId\": \"7.2_ThinkSwarm\", \"learnToolsVersion\": \"0.3.4\", \"valueTowardsCompletion\": 0.0, \"failureMessage\": \"\", \"exceptionClass\": \"\", \"trace\": \"\", \"outcomeType\": 4}}, \"*\")"
      ],
      "text/plain": [
       "<IPython.core.display.Javascript object>"
      ]
     },
     "metadata": {},
     "output_type": "display_data"
    },
    {
     "data": {
      "text/markdown": [
       "<span style=\"color:#33cc99\">Solution:</span> In this case, the categorical scatter plot from **Step 7** is the more appropriate plot. While both plots tell the desired story, the plot from **Step 6** conveys far more information that could distract from the main point."
      ],
      "text/plain": [
       "Solution: In this case, the categorical scatter plot from **Step 7** is the more appropriate plot. While both plots tell the desired story, the plot from **Step 6** conveys far more information that could distract from the main point."
      ]
     },
     "metadata": {},
     "output_type": "display_data"
    }
   ],
   "source": [
    "# Check your answer (Run this code cell to receive credit!)\n",
    "step_7.b.solution()"
   ]
  },
  {
   "cell_type": "markdown",
   "id": "bfff327f",
   "metadata": {
    "papermill": {
     "duration": 0.054423,
     "end_time": "2022-05-10T08:25:22.648699",
     "exception": false,
     "start_time": "2022-05-10T08:25:22.594276",
     "status": "completed"
    },
    "tags": []
   },
   "source": [
    "## Keep going\n",
    "\n",
    "Explore **[histograms and density plots](https://www.kaggle.com/alexisbcook/distributions)**."
   ]
  },
  {
   "cell_type": "markdown",
   "id": "77f47915",
   "metadata": {
    "papermill": {
     "duration": 0.054639,
     "end_time": "2022-05-10T08:25:22.757951",
     "exception": false,
     "start_time": "2022-05-10T08:25:22.703312",
     "status": "completed"
    },
    "tags": []
   },
   "source": [
    "---\n",
    "\n",
    "\n",
    "\n",
    "\n",
    "*Have questions or comments? Visit the [course discussion forum](https://www.kaggle.com/learn/data-visualization/discussion) to chat with other learners.*"
   ]
  }
 ],
 "metadata": {
  "kernelspec": {
   "display_name": "Python 3",
   "language": "python",
   "name": "python3"
  },
  "language_info": {
   "codemirror_mode": {
    "name": "ipython",
    "version": 3
   },
   "file_extension": ".py",
   "mimetype": "text/x-python",
   "name": "python",
   "nbconvert_exporter": "python",
   "pygments_lexer": "ipython3",
   "version": "3.7.12"
  },
  "papermill": {
   "default_parameters": {},
   "duration": 17.77062,
   "end_time": "2022-05-10T08:25:23.633829",
   "environment_variables": {},
   "exception": null,
   "input_path": "__notebook__.ipynb",
   "output_path": "__notebook__.ipynb",
   "parameters": {},
   "start_time": "2022-05-10T08:25:05.863209",
   "version": "2.3.4"
  }
 },
 "nbformat": 4,
 "nbformat_minor": 5
}
