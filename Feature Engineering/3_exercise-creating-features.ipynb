{
 "cells": [
  {
   "cell_type": "markdown",
   "id": "d98daa85",
   "metadata": {
    "papermill": {
     "duration": 0.009681,
     "end_time": "2022-05-31T13:55:58.870253",
     "exception": false,
     "start_time": "2022-05-31T13:55:58.860572",
     "status": "completed"
    },
    "tags": []
   },
   "source": [
    "**This notebook is an exercise in the [Feature Engineering](https://www.kaggle.com/learn/feature-engineering) course.  You can reference the tutorial at [this link](https://www.kaggle.com/ryanholbrook/creating-features).**\n",
    "\n",
    "---\n"
   ]
  },
  {
   "cell_type": "markdown",
   "id": "7266791e",
   "metadata": {
    "papermill": {
     "duration": 0.005826,
     "end_time": "2022-05-31T13:55:58.882410",
     "exception": false,
     "start_time": "2022-05-31T13:55:58.876584",
     "status": "completed"
    },
    "tags": []
   },
   "source": [
    "# Introduction #\n",
    "\n",
    "In this exercise you'll start developing the features you identified in Exercise 2 as having the most potential. As you work through this exercise, you might take a moment to look at the data documentation again and consider whether the features we're creating make sense from a real-world perspective, and whether there are any useful combinations that stand out to you.\n",
    "\n",
    "Run this cell to set everything up!"
   ]
  },
  {
   "cell_type": "code",
   "execution_count": 1,
   "id": "38399626",
   "metadata": {
    "execution": {
     "iopub.execute_input": "2022-05-31T13:55:58.896718Z",
     "iopub.status.busy": "2022-05-31T13:55:58.896069Z",
     "iopub.status.idle": "2022-05-31T13:56:00.308092Z",
     "shell.execute_reply": "2022-05-31T13:56:00.307078Z"
    },
    "papermill": {
     "duration": 1.42306,
     "end_time": "2022-05-31T13:56:00.311544",
     "exception": false,
     "start_time": "2022-05-31T13:55:58.888484",
     "status": "completed"
    },
    "tags": []
   },
   "outputs": [
    {
     "data": {
      "text/html": [
       "<div>\n",
       "<style scoped>\n",
       "    .dataframe tbody tr th:only-of-type {\n",
       "        vertical-align: middle;\n",
       "    }\n",
       "\n",
       "    .dataframe tbody tr th {\n",
       "        vertical-align: top;\n",
       "    }\n",
       "\n",
       "    .dataframe thead th {\n",
       "        text-align: right;\n",
       "    }\n",
       "</style>\n",
       "<table border=\"1\" class=\"dataframe\">\n",
       "  <thead>\n",
       "    <tr style=\"text-align: right;\">\n",
       "      <th></th>\n",
       "      <th>MSSubClass</th>\n",
       "      <th>MSZoning</th>\n",
       "      <th>LotFrontage</th>\n",
       "      <th>LotArea</th>\n",
       "      <th>Street</th>\n",
       "      <th>Alley</th>\n",
       "      <th>LotShape</th>\n",
       "      <th>LandContour</th>\n",
       "      <th>Utilities</th>\n",
       "      <th>LotConfig</th>\n",
       "      <th>...</th>\n",
       "      <th>PoolArea</th>\n",
       "      <th>PoolQC</th>\n",
       "      <th>Fence</th>\n",
       "      <th>MiscFeature</th>\n",
       "      <th>MiscVal</th>\n",
       "      <th>MoSold</th>\n",
       "      <th>YearSold</th>\n",
       "      <th>SaleType</th>\n",
       "      <th>SaleCondition</th>\n",
       "      <th>SalePrice</th>\n",
       "    </tr>\n",
       "  </thead>\n",
       "  <tbody>\n",
       "    <tr>\n",
       "      <th>0</th>\n",
       "      <td>One_Story_1946_and_Newer_All_Styles</td>\n",
       "      <td>Residential_Low_Density</td>\n",
       "      <td>141.0</td>\n",
       "      <td>31770.0</td>\n",
       "      <td>Pave</td>\n",
       "      <td>No_Alley_Access</td>\n",
       "      <td>Slightly_Irregular</td>\n",
       "      <td>Lvl</td>\n",
       "      <td>AllPub</td>\n",
       "      <td>Corner</td>\n",
       "      <td>...</td>\n",
       "      <td>0.0</td>\n",
       "      <td>No_Pool</td>\n",
       "      <td>No_Fence</td>\n",
       "      <td>None</td>\n",
       "      <td>0.0</td>\n",
       "      <td>5</td>\n",
       "      <td>2010</td>\n",
       "      <td>WD</td>\n",
       "      <td>Normal</td>\n",
       "      <td>215000</td>\n",
       "    </tr>\n",
       "    <tr>\n",
       "      <th>1</th>\n",
       "      <td>One_Story_1946_and_Newer_All_Styles</td>\n",
       "      <td>Residential_High_Density</td>\n",
       "      <td>80.0</td>\n",
       "      <td>11622.0</td>\n",
       "      <td>Pave</td>\n",
       "      <td>No_Alley_Access</td>\n",
       "      <td>Regular</td>\n",
       "      <td>Lvl</td>\n",
       "      <td>AllPub</td>\n",
       "      <td>Inside</td>\n",
       "      <td>...</td>\n",
       "      <td>0.0</td>\n",
       "      <td>No_Pool</td>\n",
       "      <td>Minimum_Privacy</td>\n",
       "      <td>None</td>\n",
       "      <td>0.0</td>\n",
       "      <td>6</td>\n",
       "      <td>2010</td>\n",
       "      <td>WD</td>\n",
       "      <td>Normal</td>\n",
       "      <td>105000</td>\n",
       "    </tr>\n",
       "    <tr>\n",
       "      <th>2</th>\n",
       "      <td>One_Story_1946_and_Newer_All_Styles</td>\n",
       "      <td>Residential_Low_Density</td>\n",
       "      <td>81.0</td>\n",
       "      <td>14267.0</td>\n",
       "      <td>Pave</td>\n",
       "      <td>No_Alley_Access</td>\n",
       "      <td>Slightly_Irregular</td>\n",
       "      <td>Lvl</td>\n",
       "      <td>AllPub</td>\n",
       "      <td>Corner</td>\n",
       "      <td>...</td>\n",
       "      <td>0.0</td>\n",
       "      <td>No_Pool</td>\n",
       "      <td>No_Fence</td>\n",
       "      <td>Gar2</td>\n",
       "      <td>12500.0</td>\n",
       "      <td>6</td>\n",
       "      <td>2010</td>\n",
       "      <td>WD</td>\n",
       "      <td>Normal</td>\n",
       "      <td>172000</td>\n",
       "    </tr>\n",
       "    <tr>\n",
       "      <th>3</th>\n",
       "      <td>One_Story_1946_and_Newer_All_Styles</td>\n",
       "      <td>Residential_Low_Density</td>\n",
       "      <td>93.0</td>\n",
       "      <td>11160.0</td>\n",
       "      <td>Pave</td>\n",
       "      <td>No_Alley_Access</td>\n",
       "      <td>Regular</td>\n",
       "      <td>Lvl</td>\n",
       "      <td>AllPub</td>\n",
       "      <td>Corner</td>\n",
       "      <td>...</td>\n",
       "      <td>0.0</td>\n",
       "      <td>No_Pool</td>\n",
       "      <td>No_Fence</td>\n",
       "      <td>None</td>\n",
       "      <td>0.0</td>\n",
       "      <td>4</td>\n",
       "      <td>2010</td>\n",
       "      <td>WD</td>\n",
       "      <td>Normal</td>\n",
       "      <td>244000</td>\n",
       "    </tr>\n",
       "    <tr>\n",
       "      <th>4</th>\n",
       "      <td>Two_Story_1946_and_Newer</td>\n",
       "      <td>Residential_Low_Density</td>\n",
       "      <td>74.0</td>\n",
       "      <td>13830.0</td>\n",
       "      <td>Pave</td>\n",
       "      <td>No_Alley_Access</td>\n",
       "      <td>Slightly_Irregular</td>\n",
       "      <td>Lvl</td>\n",
       "      <td>AllPub</td>\n",
       "      <td>Inside</td>\n",
       "      <td>...</td>\n",
       "      <td>0.0</td>\n",
       "      <td>No_Pool</td>\n",
       "      <td>Minimum_Privacy</td>\n",
       "      <td>None</td>\n",
       "      <td>0.0</td>\n",
       "      <td>3</td>\n",
       "      <td>2010</td>\n",
       "      <td>WD</td>\n",
       "      <td>Normal</td>\n",
       "      <td>189900</td>\n",
       "    </tr>\n",
       "    <tr>\n",
       "      <th>5</th>\n",
       "      <td>Two_Story_1946_and_Newer</td>\n",
       "      <td>Residential_Low_Density</td>\n",
       "      <td>78.0</td>\n",
       "      <td>9978.0</td>\n",
       "      <td>Pave</td>\n",
       "      <td>No_Alley_Access</td>\n",
       "      <td>Slightly_Irregular</td>\n",
       "      <td>Lvl</td>\n",
       "      <td>AllPub</td>\n",
       "      <td>Inside</td>\n",
       "      <td>...</td>\n",
       "      <td>0.0</td>\n",
       "      <td>No_Pool</td>\n",
       "      <td>No_Fence</td>\n",
       "      <td>None</td>\n",
       "      <td>0.0</td>\n",
       "      <td>6</td>\n",
       "      <td>2010</td>\n",
       "      <td>WD</td>\n",
       "      <td>Normal</td>\n",
       "      <td>195500</td>\n",
       "    </tr>\n",
       "    <tr>\n",
       "      <th>6</th>\n",
       "      <td>One_Story_PUD_1946_and_Newer</td>\n",
       "      <td>Residential_Low_Density</td>\n",
       "      <td>41.0</td>\n",
       "      <td>4920.0</td>\n",
       "      <td>Pave</td>\n",
       "      <td>No_Alley_Access</td>\n",
       "      <td>Regular</td>\n",
       "      <td>Lvl</td>\n",
       "      <td>AllPub</td>\n",
       "      <td>Inside</td>\n",
       "      <td>...</td>\n",
       "      <td>0.0</td>\n",
       "      <td>No_Pool</td>\n",
       "      <td>No_Fence</td>\n",
       "      <td>None</td>\n",
       "      <td>0.0</td>\n",
       "      <td>4</td>\n",
       "      <td>2010</td>\n",
       "      <td>WD</td>\n",
       "      <td>Normal</td>\n",
       "      <td>213500</td>\n",
       "    </tr>\n",
       "    <tr>\n",
       "      <th>7</th>\n",
       "      <td>One_Story_PUD_1946_and_Newer</td>\n",
       "      <td>Residential_Low_Density</td>\n",
       "      <td>43.0</td>\n",
       "      <td>5005.0</td>\n",
       "      <td>Pave</td>\n",
       "      <td>No_Alley_Access</td>\n",
       "      <td>Slightly_Irregular</td>\n",
       "      <td>HLS</td>\n",
       "      <td>AllPub</td>\n",
       "      <td>Inside</td>\n",
       "      <td>...</td>\n",
       "      <td>0.0</td>\n",
       "      <td>No_Pool</td>\n",
       "      <td>No_Fence</td>\n",
       "      <td>None</td>\n",
       "      <td>0.0</td>\n",
       "      <td>1</td>\n",
       "      <td>2010</td>\n",
       "      <td>WD</td>\n",
       "      <td>Normal</td>\n",
       "      <td>191500</td>\n",
       "    </tr>\n",
       "    <tr>\n",
       "      <th>8</th>\n",
       "      <td>One_Story_PUD_1946_and_Newer</td>\n",
       "      <td>Residential_Low_Density</td>\n",
       "      <td>39.0</td>\n",
       "      <td>5389.0</td>\n",
       "      <td>Pave</td>\n",
       "      <td>No_Alley_Access</td>\n",
       "      <td>Slightly_Irregular</td>\n",
       "      <td>Lvl</td>\n",
       "      <td>AllPub</td>\n",
       "      <td>Inside</td>\n",
       "      <td>...</td>\n",
       "      <td>0.0</td>\n",
       "      <td>No_Pool</td>\n",
       "      <td>No_Fence</td>\n",
       "      <td>None</td>\n",
       "      <td>0.0</td>\n",
       "      <td>3</td>\n",
       "      <td>2010</td>\n",
       "      <td>WD</td>\n",
       "      <td>Normal</td>\n",
       "      <td>236500</td>\n",
       "    </tr>\n",
       "    <tr>\n",
       "      <th>9</th>\n",
       "      <td>Two_Story_1946_and_Newer</td>\n",
       "      <td>Residential_Low_Density</td>\n",
       "      <td>60.0</td>\n",
       "      <td>7500.0</td>\n",
       "      <td>Pave</td>\n",
       "      <td>No_Alley_Access</td>\n",
       "      <td>Regular</td>\n",
       "      <td>Lvl</td>\n",
       "      <td>AllPub</td>\n",
       "      <td>Inside</td>\n",
       "      <td>...</td>\n",
       "      <td>0.0</td>\n",
       "      <td>No_Pool</td>\n",
       "      <td>No_Fence</td>\n",
       "      <td>None</td>\n",
       "      <td>0.0</td>\n",
       "      <td>6</td>\n",
       "      <td>2010</td>\n",
       "      <td>WD</td>\n",
       "      <td>Normal</td>\n",
       "      <td>189000</td>\n",
       "    </tr>\n",
       "  </tbody>\n",
       "</table>\n",
       "<p>10 rows × 79 columns</p>\n",
       "</div>"
      ],
      "text/plain": [
       "                            MSSubClass                  MSZoning  LotFrontage  \\\n",
       "0  One_Story_1946_and_Newer_All_Styles   Residential_Low_Density        141.0   \n",
       "1  One_Story_1946_and_Newer_All_Styles  Residential_High_Density         80.0   \n",
       "2  One_Story_1946_and_Newer_All_Styles   Residential_Low_Density         81.0   \n",
       "3  One_Story_1946_and_Newer_All_Styles   Residential_Low_Density         93.0   \n",
       "4             Two_Story_1946_and_Newer   Residential_Low_Density         74.0   \n",
       "5             Two_Story_1946_and_Newer   Residential_Low_Density         78.0   \n",
       "6         One_Story_PUD_1946_and_Newer   Residential_Low_Density         41.0   \n",
       "7         One_Story_PUD_1946_and_Newer   Residential_Low_Density         43.0   \n",
       "8         One_Story_PUD_1946_and_Newer   Residential_Low_Density         39.0   \n",
       "9             Two_Story_1946_and_Newer   Residential_Low_Density         60.0   \n",
       "\n",
       "   LotArea Street            Alley            LotShape LandContour Utilities  \\\n",
       "0  31770.0   Pave  No_Alley_Access  Slightly_Irregular         Lvl    AllPub   \n",
       "1  11622.0   Pave  No_Alley_Access             Regular         Lvl    AllPub   \n",
       "2  14267.0   Pave  No_Alley_Access  Slightly_Irregular         Lvl    AllPub   \n",
       "3  11160.0   Pave  No_Alley_Access             Regular         Lvl    AllPub   \n",
       "4  13830.0   Pave  No_Alley_Access  Slightly_Irregular         Lvl    AllPub   \n",
       "5   9978.0   Pave  No_Alley_Access  Slightly_Irregular         Lvl    AllPub   \n",
       "6   4920.0   Pave  No_Alley_Access             Regular         Lvl    AllPub   \n",
       "7   5005.0   Pave  No_Alley_Access  Slightly_Irregular         HLS    AllPub   \n",
       "8   5389.0   Pave  No_Alley_Access  Slightly_Irregular         Lvl    AllPub   \n",
       "9   7500.0   Pave  No_Alley_Access             Regular         Lvl    AllPub   \n",
       "\n",
       "  LotConfig  ... PoolArea   PoolQC            Fence MiscFeature  MiscVal  \\\n",
       "0    Corner  ...      0.0  No_Pool         No_Fence        None      0.0   \n",
       "1    Inside  ...      0.0  No_Pool  Minimum_Privacy        None      0.0   \n",
       "2    Corner  ...      0.0  No_Pool         No_Fence        Gar2  12500.0   \n",
       "3    Corner  ...      0.0  No_Pool         No_Fence        None      0.0   \n",
       "4    Inside  ...      0.0  No_Pool  Minimum_Privacy        None      0.0   \n",
       "5    Inside  ...      0.0  No_Pool         No_Fence        None      0.0   \n",
       "6    Inside  ...      0.0  No_Pool         No_Fence        None      0.0   \n",
       "7    Inside  ...      0.0  No_Pool         No_Fence        None      0.0   \n",
       "8    Inside  ...      0.0  No_Pool         No_Fence        None      0.0   \n",
       "9    Inside  ...      0.0  No_Pool         No_Fence        None      0.0   \n",
       "\n",
       "  MoSold YearSold SaleType  SaleCondition  SalePrice  \n",
       "0      5     2010      WD          Normal     215000  \n",
       "1      6     2010      WD          Normal     105000  \n",
       "2      6     2010      WD          Normal     172000  \n",
       "3      4     2010      WD          Normal     244000  \n",
       "4      3     2010      WD          Normal     189900  \n",
       "5      6     2010      WD          Normal     195500  \n",
       "6      4     2010      WD          Normal     213500  \n",
       "7      1     2010      WD          Normal     191500  \n",
       "8      3     2010      WD          Normal     236500  \n",
       "9      6     2010      WD          Normal     189000  \n",
       "\n",
       "[10 rows x 79 columns]"
      ]
     },
     "execution_count": 1,
     "metadata": {},
     "output_type": "execute_result"
    }
   ],
   "source": [
    "# Setup feedback system\n",
    "from learntools.core import binder\n",
    "binder.bind(globals())\n",
    "from learntools.feature_engineering_new.ex3 import *\n",
    "\n",
    "import numpy as np\n",
    "import pandas as pd\n",
    "from sklearn.model_selection import cross_val_score\n",
    "from xgboost import XGBRegressor\n",
    "\n",
    "\n",
    "def score_dataset(X, y, model=XGBRegressor()):\n",
    "    # Label encoding for categoricals\n",
    "    for colname in X.select_dtypes([\"category\", \"object\"]):\n",
    "        X[colname], _ = X[colname].factorize()\n",
    "    # Metric for Housing competition is RMSLE (Root Mean Squared Log Error)\n",
    "    score = cross_val_score(\n",
    "        model, X, y, cv=5, scoring=\"neg_mean_squared_log_error\",\n",
    "    )\n",
    "    score = -1 * score.mean()\n",
    "    score = np.sqrt(score)\n",
    "    return score\n",
    "\n",
    "\n",
    "# Prepare data\n",
    "df = pd.read_csv(\"../input/fe-course-data/ames.csv\")\n",
    "X = df.copy()\n",
    "y = X.pop(\"SalePrice\")\n",
    "\n",
    "df.head(10)"
   ]
  },
  {
   "cell_type": "markdown",
   "id": "7cc0b87f",
   "metadata": {
    "papermill": {
     "duration": 0.007423,
     "end_time": "2022-05-31T13:56:00.326799",
     "exception": false,
     "start_time": "2022-05-31T13:56:00.319376",
     "status": "completed"
    },
    "tags": []
   },
   "source": [
    "-------------------------------------------------------------------------------\n",
    "\n",
    "Let's start with a few mathematical combinations. We'll focus on features describing areas -- having the same units (square-feet) makes it easy to combine them in sensible ways. Since we're using XGBoost (a tree-based model), we'll focus on ratios and sums.\n",
    "\n",
    "# 1) Create Mathematical Transforms\n",
    "\n",
    "Create the following features:\n",
    "\n",
    "- `LivLotRatio`: the ratio of `GrLivArea` to `LotArea`\n",
    "- `Spaciousness`: the sum of `FirstFlrSF` and `SecondFlrSF` divided by `TotRmsAbvGrd`\n",
    "- `TotalOutsideSF`: the sum of `WoodDeckSF`, `OpenPorchSF`, `EnclosedPorch`, `Threeseasonporch`, and `ScreenPorch`"
   ]
  },
  {
   "cell_type": "code",
   "execution_count": 2,
   "id": "f0eaa6fb",
   "metadata": {
    "execution": {
     "iopub.execute_input": "2022-05-31T13:56:00.342270Z",
     "iopub.status.busy": "2022-05-31T13:56:00.341894Z",
     "iopub.status.idle": "2022-05-31T13:56:00.363986Z",
     "shell.execute_reply": "2022-05-31T13:56:00.363166Z"
    },
    "lines_to_next_cell": 0,
    "papermill": {
     "duration": 0.032065,
     "end_time": "2022-05-31T13:56:00.365862",
     "exception": false,
     "start_time": "2022-05-31T13:56:00.333797",
     "status": "completed"
    },
    "tags": []
   },
   "outputs": [
    {
     "data": {
      "application/javascript": [
       "parent.postMessage({\"jupyterEvent\": \"custom.exercise_interaction\", \"data\": {\"outcomeType\": 1, \"valueTowardsCompletion\": 0.2, \"interactionType\": 1, \"questionType\": 2, \"questionId\": \"1_Q1\", \"learnToolsVersion\": \"0.3.4\", \"failureMessage\": \"\", \"exceptionClass\": \"\", \"trace\": \"\"}}, \"*\")"
      ],
      "text/plain": [
       "<IPython.core.display.Javascript object>"
      ]
     },
     "metadata": {},
     "output_type": "display_data"
    },
    {
     "data": {
      "text/markdown": [
       "<span style=\"color:#33cc33\">Correct</span>"
      ],
      "text/plain": [
       "Correct"
      ]
     },
     "metadata": {},
     "output_type": "display_data"
    }
   ],
   "source": [
    "# YOUR CODE HERE\n",
    "X_1 = pd.DataFrame()  # dataframe to hold new features\n",
    "\n",
    "X_1[\"LivLotRatio\"] = df.GrLivArea / df.LotArea\n",
    "X_1[\"Spaciousness\"] = (df.FirstFlrSF + df.SecondFlrSF) / df.TotRmsAbvGrd\n",
    "X_1[\"TotalOutsideSF\"] = df.WoodDeckSF + df.OpenPorchSF + df.EnclosedPorch + df.Threeseasonporch + df.ScreenPorch\n",
    "\n",
    "\n",
    "# Check your answer\n",
    "q_1.check()"
   ]
  },
  {
   "cell_type": "code",
   "execution_count": 3,
   "id": "eb29d497",
   "metadata": {
    "execution": {
     "iopub.execute_input": "2022-05-31T13:56:00.381759Z",
     "iopub.status.busy": "2022-05-31T13:56:00.380768Z",
     "iopub.status.idle": "2022-05-31T13:56:00.384649Z",
     "shell.execute_reply": "2022-05-31T13:56:00.383940Z"
    },
    "lines_to_next_cell": 0,
    "papermill": {
     "duration": 0.013554,
     "end_time": "2022-05-31T13:56:00.386393",
     "exception": false,
     "start_time": "2022-05-31T13:56:00.372839",
     "status": "completed"
    },
    "tags": []
   },
   "outputs": [],
   "source": [
    "# Lines below will give you a hint or solution code\n",
    "#q_1.hint()\n",
    "#q_1.solution()"
   ]
  },
  {
   "cell_type": "markdown",
   "id": "ba927c71",
   "metadata": {
    "papermill": {
     "duration": 0.00687,
     "end_time": "2022-05-31T13:56:00.400431",
     "exception": false,
     "start_time": "2022-05-31T13:56:00.393561",
     "status": "completed"
    },
    "tags": []
   },
   "source": [
    "-------------------------------------------------------------------------------\n",
    "\n",
    "If you've discovered an interaction effect between a numeric feature and a categorical feature, you might want to model it explicitly using a one-hot encoding, like so:\n",
    "\n",
    "```\n",
    "# One-hot encode Categorical feature, adding a column prefix \"Cat\"\n",
    "X_new = pd.get_dummies(df.Categorical, prefix=\"Cat\")\n",
    "\n",
    "# Multiply row-by-row\n",
    "X_new = X_new.mul(df.Continuous, axis=0)\n",
    "\n",
    "# Join the new features to the feature set\n",
    "X = X.join(X_new)\n",
    "```\n",
    "\n",
    "# 2) Interaction with a Categorical\n",
    "\n",
    "We discovered an interaction between `BldgType` and `GrLivArea` in Exercise 2. Now create their interaction features."
   ]
  },
  {
   "cell_type": "code",
   "execution_count": 4,
   "id": "33e80857",
   "metadata": {
    "execution": {
     "iopub.execute_input": "2022-05-31T13:56:00.416460Z",
     "iopub.status.busy": "2022-05-31T13:56:00.415843Z",
     "iopub.status.idle": "2022-05-31T13:56:00.428070Z",
     "shell.execute_reply": "2022-05-31T13:56:00.427423Z"
    },
    "lines_to_next_cell": 0,
    "papermill": {
     "duration": 0.022277,
     "end_time": "2022-05-31T13:56:00.429774",
     "exception": false,
     "start_time": "2022-05-31T13:56:00.407497",
     "status": "completed"
    },
    "tags": []
   },
   "outputs": [
    {
     "data": {
      "application/javascript": [
       "parent.postMessage({\"jupyterEvent\": \"custom.exercise_interaction\", \"data\": {\"outcomeType\": 1, \"valueTowardsCompletion\": 0.2, \"interactionType\": 1, \"questionType\": 2, \"questionId\": \"2_Q2\", \"learnToolsVersion\": \"0.3.4\", \"failureMessage\": \"\", \"exceptionClass\": \"\", \"trace\": \"\"}}, \"*\")"
      ],
      "text/plain": [
       "<IPython.core.display.Javascript object>"
      ]
     },
     "metadata": {},
     "output_type": "display_data"
    },
    {
     "data": {
      "text/markdown": [
       "<span style=\"color:#33cc33\">Correct</span>"
      ],
      "text/plain": [
       "Correct"
      ]
     },
     "metadata": {},
     "output_type": "display_data"
    }
   ],
   "source": [
    "# YOUR CODE HERE\n",
    "# One-hot encode BldgType. Use `prefix=\"Bldg\"` in `get_dummies`\n",
    "X_2 = pd.get_dummies(df.BldgType, prefix=\"Bldg\")\n",
    "# Multiply\n",
    "X_2 = X_2.mul(df.GrLivArea, axis=0)\n",
    "\n",
    "\n",
    "# Check your answer\n",
    "q_2.check()"
   ]
  },
  {
   "cell_type": "code",
   "execution_count": 5,
   "id": "e9cf3d6e",
   "metadata": {
    "execution": {
     "iopub.execute_input": "2022-05-31T13:56:00.446003Z",
     "iopub.status.busy": "2022-05-31T13:56:00.445386Z",
     "iopub.status.idle": "2022-05-31T13:56:00.448932Z",
     "shell.execute_reply": "2022-05-31T13:56:00.448213Z"
    },
    "lines_to_next_cell": 0,
    "papermill": {
     "duration": 0.013849,
     "end_time": "2022-05-31T13:56:00.450772",
     "exception": false,
     "start_time": "2022-05-31T13:56:00.436923",
     "status": "completed"
    },
    "tags": []
   },
   "outputs": [],
   "source": [
    "# Lines below will give you a hint or solution code\n",
    "#q_2.hint()\n",
    "#q_2.solution()"
   ]
  },
  {
   "cell_type": "markdown",
   "id": "2a89d702",
   "metadata": {
    "lines_to_next_cell": 0,
    "papermill": {
     "duration": 0.007007,
     "end_time": "2022-05-31T13:56:00.465065",
     "exception": false,
     "start_time": "2022-05-31T13:56:00.458058",
     "status": "completed"
    },
    "tags": []
   },
   "source": [
    "# 3) Count Feature\n",
    "\n",
    "Let's try creating a feature that describes how many kinds of outdoor areas a dwelling has. Create a feature `PorchTypes` that counts how many of the following are greater than 0.0:\n",
    "\n",
    "```\n",
    "WoodDeckSF\n",
    "OpenPorchSF\n",
    "EnclosedPorch\n",
    "Threeseasonporch\n",
    "ScreenPorch\n",
    "```"
   ]
  },
  {
   "cell_type": "code",
   "execution_count": 6,
   "id": "67c075de",
   "metadata": {
    "execution": {
     "iopub.execute_input": "2022-05-31T13:56:00.481019Z",
     "iopub.status.busy": "2022-05-31T13:56:00.480202Z",
     "iopub.status.idle": "2022-05-31T13:56:00.494606Z",
     "shell.execute_reply": "2022-05-31T13:56:00.493984Z"
    },
    "lines_to_next_cell": 0,
    "papermill": {
     "duration": 0.024237,
     "end_time": "2022-05-31T13:56:00.496328",
     "exception": false,
     "start_time": "2022-05-31T13:56:00.472091",
     "status": "completed"
    },
    "tags": []
   },
   "outputs": [
    {
     "data": {
      "application/javascript": [
       "parent.postMessage({\"jupyterEvent\": \"custom.exercise_interaction\", \"data\": {\"outcomeType\": 1, \"valueTowardsCompletion\": 0.2, \"interactionType\": 1, \"questionType\": 2, \"questionId\": \"3_Q3\", \"learnToolsVersion\": \"0.3.4\", \"failureMessage\": \"\", \"exceptionClass\": \"\", \"trace\": \"\"}}, \"*\")"
      ],
      "text/plain": [
       "<IPython.core.display.Javascript object>"
      ]
     },
     "metadata": {},
     "output_type": "display_data"
    },
    {
     "data": {
      "text/markdown": [
       "<span style=\"color:#33cc33\">Correct</span>"
      ],
      "text/plain": [
       "Correct"
      ]
     },
     "metadata": {},
     "output_type": "display_data"
    }
   ],
   "source": [
    "X_3 = pd.DataFrame()\n",
    "\n",
    "# YOUR CODE HERE\n",
    "components = [\"WoodDeckSF\", \"OpenPorchSF\", \"EnclosedPorch\", \"Threeseasonporch\", \"ScreenPorch\"]\n",
    "X_3[\"PorchTypes\"] = df[components].gt(0).sum(axis=1)\n",
    "\n",
    "\n",
    "# Check your answer\n",
    "q_3.check()"
   ]
  },
  {
   "cell_type": "code",
   "execution_count": 7,
   "id": "59d9a982",
   "metadata": {
    "execution": {
     "iopub.execute_input": "2022-05-31T13:56:00.513248Z",
     "iopub.status.busy": "2022-05-31T13:56:00.512316Z",
     "iopub.status.idle": "2022-05-31T13:56:00.516146Z",
     "shell.execute_reply": "2022-05-31T13:56:00.515400Z"
    },
    "lines_to_next_cell": 0,
    "papermill": {
     "duration": 0.014063,
     "end_time": "2022-05-31T13:56:00.517922",
     "exception": false,
     "start_time": "2022-05-31T13:56:00.503859",
     "status": "completed"
    },
    "tags": []
   },
   "outputs": [],
   "source": [
    "# Lines below will give you a hint or solution code\n",
    "#q_3.hint()\n",
    "#q_3.solution()"
   ]
  },
  {
   "cell_type": "markdown",
   "id": "625c4580",
   "metadata": {
    "papermill": {
     "duration": 0.007245,
     "end_time": "2022-05-31T13:56:00.532632",
     "exception": false,
     "start_time": "2022-05-31T13:56:00.525387",
     "status": "completed"
    },
    "tags": []
   },
   "source": [
    "# 4) Break Down a Categorical Feature\n",
    "\n",
    "`MSSubClass` describes the type of a dwelling:"
   ]
  },
  {
   "cell_type": "code",
   "execution_count": 8,
   "id": "c83c6d12",
   "metadata": {
    "execution": {
     "iopub.execute_input": "2022-05-31T13:56:00.549566Z",
     "iopub.status.busy": "2022-05-31T13:56:00.548967Z",
     "iopub.status.idle": "2022-05-31T13:56:00.555181Z",
     "shell.execute_reply": "2022-05-31T13:56:00.554632Z"
    },
    "papermill": {
     "duration": 0.016746,
     "end_time": "2022-05-31T13:56:00.556879",
     "exception": false,
     "start_time": "2022-05-31T13:56:00.540133",
     "status": "completed"
    },
    "tags": []
   },
   "outputs": [
    {
     "data": {
      "text/plain": [
       "array(['One_Story_1946_and_Newer_All_Styles', 'Two_Story_1946_and_Newer',\n",
       "       'One_Story_PUD_1946_and_Newer',\n",
       "       'One_and_Half_Story_Finished_All_Ages', 'Split_Foyer',\n",
       "       'Two_Story_PUD_1946_and_Newer', 'Split_or_Multilevel',\n",
       "       'One_Story_1945_and_Older', 'Duplex_All_Styles_and_Ages',\n",
       "       'Two_Family_conversion_All_Styles_and_Ages',\n",
       "       'One_and_Half_Story_Unfinished_All_Ages',\n",
       "       'Two_Story_1945_and_Older', 'Two_and_Half_Story_All_Ages',\n",
       "       'One_Story_with_Finished_Attic_All_Ages',\n",
       "       'PUD_Multilevel_Split_Level_Foyer',\n",
       "       'One_and_Half_Story_PUD_All_Ages'], dtype=object)"
      ]
     },
     "execution_count": 8,
     "metadata": {},
     "output_type": "execute_result"
    }
   ],
   "source": [
    "df.MSSubClass.unique()"
   ]
  },
  {
   "cell_type": "markdown",
   "id": "2a5162a4",
   "metadata": {
    "papermill": {
     "duration": 0.007454,
     "end_time": "2022-05-31T13:56:00.571861",
     "exception": false,
     "start_time": "2022-05-31T13:56:00.564407",
     "status": "completed"
    },
    "tags": []
   },
   "source": [
    "You can see that there is a more general categorization described (roughly) by the first word of each category. Create a feature containing only these first words by splitting `MSSubClass` at the first underscore `_`. (Hint: In the `split` method use an argument `n=1`.)"
   ]
  },
  {
   "cell_type": "code",
   "execution_count": 9,
   "id": "598d9b95",
   "metadata": {
    "execution": {
     "iopub.execute_input": "2022-05-31T13:56:00.589120Z",
     "iopub.status.busy": "2022-05-31T13:56:00.588521Z",
     "iopub.status.idle": "2022-05-31T13:56:00.612569Z",
     "shell.execute_reply": "2022-05-31T13:56:00.611737Z"
    },
    "lines_to_next_cell": 0,
    "papermill": {
     "duration": 0.034867,
     "end_time": "2022-05-31T13:56:00.614374",
     "exception": false,
     "start_time": "2022-05-31T13:56:00.579507",
     "status": "completed"
    },
    "tags": []
   },
   "outputs": [
    {
     "data": {
      "application/javascript": [
       "parent.postMessage({\"jupyterEvent\": \"custom.exercise_interaction\", \"data\": {\"outcomeType\": 1, \"valueTowardsCompletion\": 0.2, \"interactionType\": 1, \"questionType\": 2, \"questionId\": \"4_Q4\", \"learnToolsVersion\": \"0.3.4\", \"failureMessage\": \"\", \"exceptionClass\": \"\", \"trace\": \"\"}}, \"*\")"
      ],
      "text/plain": [
       "<IPython.core.display.Javascript object>"
      ]
     },
     "metadata": {},
     "output_type": "display_data"
    },
    {
     "data": {
      "text/markdown": [
       "<span style=\"color:#33cc33\">Correct</span>"
      ],
      "text/plain": [
       "Correct"
      ]
     },
     "metadata": {},
     "output_type": "display_data"
    }
   ],
   "source": [
    "X_4 = pd.DataFrame()\n",
    "\n",
    "# YOUR CODE HERE\n",
    "X_4[\"MSClass\"] = df.MSSubClass.str.split(\"_\", n=1, expand=True)[0]\n",
    "\n",
    "# Check your answer\n",
    "q_4.check()"
   ]
  },
  {
   "cell_type": "code",
   "execution_count": 10,
   "id": "d2294584",
   "metadata": {
    "execution": {
     "iopub.execute_input": "2022-05-31T13:56:00.632518Z",
     "iopub.status.busy": "2022-05-31T13:56:00.631918Z",
     "iopub.status.idle": "2022-05-31T13:56:00.635041Z",
     "shell.execute_reply": "2022-05-31T13:56:00.634495Z"
    },
    "lines_to_next_cell": 0,
    "papermill": {
     "duration": 0.014363,
     "end_time": "2022-05-31T13:56:00.636776",
     "exception": false,
     "start_time": "2022-05-31T13:56:00.622413",
     "status": "completed"
    },
    "tags": []
   },
   "outputs": [],
   "source": [
    "# Lines below will give you a hint or solution code\n",
    "#q_4.hint()\n",
    "#q_4.solution()"
   ]
  },
  {
   "cell_type": "markdown",
   "id": "0e92610d",
   "metadata": {
    "papermill": {
     "duration": 0.007672,
     "end_time": "2022-05-31T13:56:00.652294",
     "exception": false,
     "start_time": "2022-05-31T13:56:00.644622",
     "status": "completed"
    },
    "tags": []
   },
   "source": [
    "# 5) Use a Grouped Transform\n",
    "\n",
    "The value of a home often depends on how it compares to typical homes in its neighborhood. Create a feature `MedNhbdArea` that describes the *median* of `GrLivArea` grouped on `Neighborhood`."
   ]
  },
  {
   "cell_type": "code",
   "execution_count": 11,
   "id": "639d533f",
   "metadata": {
    "execution": {
     "iopub.execute_input": "2022-05-31T13:56:00.670026Z",
     "iopub.status.busy": "2022-05-31T13:56:00.669364Z",
     "iopub.status.idle": "2022-05-31T13:56:00.686577Z",
     "shell.execute_reply": "2022-05-31T13:56:00.685870Z"
    },
    "lines_to_next_cell": 0,
    "papermill": {
     "duration": 0.028235,
     "end_time": "2022-05-31T13:56:00.688441",
     "exception": false,
     "start_time": "2022-05-31T13:56:00.660206",
     "status": "completed"
    },
    "tags": []
   },
   "outputs": [
    {
     "data": {
      "application/javascript": [
       "parent.postMessage({\"jupyterEvent\": \"custom.exercise_interaction\", \"data\": {\"outcomeType\": 1, \"valueTowardsCompletion\": 0.2, \"interactionType\": 1, \"questionType\": 2, \"questionId\": \"5_Q5\", \"learnToolsVersion\": \"0.3.4\", \"failureMessage\": \"\", \"exceptionClass\": \"\", \"trace\": \"\"}}, \"*\")"
      ],
      "text/plain": [
       "<IPython.core.display.Javascript object>"
      ]
     },
     "metadata": {},
     "output_type": "display_data"
    },
    {
     "data": {
      "text/markdown": [
       "<span style=\"color:#33cc33\">Correct</span>"
      ],
      "text/plain": [
       "Correct"
      ]
     },
     "metadata": {},
     "output_type": "display_data"
    }
   ],
   "source": [
    "X_5 = pd.DataFrame()\n",
    "\n",
    "# YOUR CODE HERE\n",
    "X_5[\"MedNhbdArea\"] = df.groupby(\"Neighborhood\")[\"GrLivArea\"].transform(\"median\")\n",
    "\n",
    "# Check your answer\n",
    "q_5.check()"
   ]
  },
  {
   "cell_type": "code",
   "execution_count": 12,
   "id": "03b2d838",
   "metadata": {
    "execution": {
     "iopub.execute_input": "2022-05-31T13:56:00.707098Z",
     "iopub.status.busy": "2022-05-31T13:56:00.706507Z",
     "iopub.status.idle": "2022-05-31T13:56:00.709695Z",
     "shell.execute_reply": "2022-05-31T13:56:00.709099Z"
    },
    "lines_to_next_cell": 0,
    "papermill": {
     "duration": 0.014567,
     "end_time": "2022-05-31T13:56:00.711369",
     "exception": false,
     "start_time": "2022-05-31T13:56:00.696802",
     "status": "completed"
    },
    "tags": []
   },
   "outputs": [],
   "source": [
    "# Lines below will give you a hint or solution code\n",
    "#q_5.hint()\n",
    "#q_5.solution()"
   ]
  },
  {
   "cell_type": "markdown",
   "id": "7717ea5e",
   "metadata": {
    "papermill": {
     "duration": 0.007798,
     "end_time": "2022-05-31T13:56:00.727233",
     "exception": false,
     "start_time": "2022-05-31T13:56:00.719435",
     "status": "completed"
    },
    "tags": []
   },
   "source": [
    "Now you've made your first new feature set! If you like, you can run the cell below to score the model with all of your new features added:"
   ]
  },
  {
   "cell_type": "code",
   "execution_count": 13,
   "id": "95d92f30",
   "metadata": {
    "execution": {
     "iopub.execute_input": "2022-05-31T13:56:00.748308Z",
     "iopub.status.busy": "2022-05-31T13:56:00.746652Z",
     "iopub.status.idle": "2022-05-31T13:56:05.305428Z",
     "shell.execute_reply": "2022-05-31T13:56:05.304741Z"
    },
    "papermill": {
     "duration": 4.571576,
     "end_time": "2022-05-31T13:56:05.307398",
     "exception": false,
     "start_time": "2022-05-31T13:56:00.735822",
     "status": "completed"
    },
    "tags": []
   },
   "outputs": [
    {
     "data": {
      "text/plain": [
       "0.13847331710099203"
      ]
     },
     "execution_count": 13,
     "metadata": {},
     "output_type": "execute_result"
    }
   ],
   "source": [
    "X_new = X.join([X_1, X_2, X_3, X_4, X_5])\n",
    "score_dataset(X_new, y)"
   ]
  },
  {
   "cell_type": "markdown",
   "id": "cd16401c",
   "metadata": {
    "papermill": {
     "duration": 0.008459,
     "end_time": "2022-05-31T13:56:05.325763",
     "exception": false,
     "start_time": "2022-05-31T13:56:05.317304",
     "status": "completed"
    },
    "tags": []
   },
   "source": [
    "# Keep Going #\n",
    "\n",
    "[**Untangle spatial relationships**](https://www.kaggle.com/ryanholbrook/clustering-with-k-means) by adding cluster labels to your dataset."
   ]
  },
  {
   "cell_type": "markdown",
   "id": "8bbbf246",
   "metadata": {
    "papermill": {
     "duration": 0.008509,
     "end_time": "2022-05-31T13:56:05.342818",
     "exception": false,
     "start_time": "2022-05-31T13:56:05.334309",
     "status": "completed"
    },
    "tags": []
   },
   "source": [
    "---\n",
    "\n",
    "\n",
    "\n",
    "\n",
    "*Have questions or comments? Visit the [course discussion forum](https://www.kaggle.com/learn/feature-engineering/discussion) to chat with other learners.*"
   ]
  }
 ],
 "metadata": {
  "kernelspec": {
   "display_name": "Python 3",
   "language": "python",
   "name": "python3"
  },
  "language_info": {
   "codemirror_mode": {
    "name": "ipython",
    "version": 3
   },
   "file_extension": ".py",
   "mimetype": "text/x-python",
   "name": "python",
   "nbconvert_exporter": "python",
   "pygments_lexer": "ipython3",
   "version": "3.7.12"
  },
  "papermill": {
   "default_parameters": {},
   "duration": 16.814693,
   "end_time": "2022-05-31T13:56:06.071947",
   "environment_variables": {},
   "exception": null,
   "input_path": "__notebook__.ipynb",
   "output_path": "__notebook__.ipynb",
   "parameters": {},
   "start_time": "2022-05-31T13:55:49.257254",
   "version": "2.3.4"
  }
 },
 "nbformat": 4,
 "nbformat_minor": 5
}
