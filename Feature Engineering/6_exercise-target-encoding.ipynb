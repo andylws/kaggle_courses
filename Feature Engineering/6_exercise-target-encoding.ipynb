{
 "cells": [
  {
   "cell_type": "markdown",
   "id": "2db4f6b5",
   "metadata": {
    "papermill": {
     "duration": 0.010684,
     "end_time": "2022-06-01T10:49:11.583862",
     "exception": false,
     "start_time": "2022-06-01T10:49:11.573178",
     "status": "completed"
    },
    "tags": []
   },
   "source": [
    "**This notebook is an exercise in the [Feature Engineering](https://www.kaggle.com/learn/feature-engineering) course.  You can reference the tutorial at [this link](https://www.kaggle.com/ryanholbrook/target-encoding).**\n",
    "\n",
    "---\n"
   ]
  },
  {
   "cell_type": "markdown",
   "id": "b4491250",
   "metadata": {
    "papermill": {
     "duration": 0.004737,
     "end_time": "2022-06-01T10:49:11.593798",
     "exception": false,
     "start_time": "2022-06-01T10:49:11.589061",
     "status": "completed"
    },
    "tags": []
   },
   "source": [
    "# Introduction #\n",
    "\n",
    "In this exercise, you'll apply target encoding to features in the [*Ames*](https://www.kaggle.com/c/house-prices-advanced-regression-techniques/data) dataset.\n",
    "\n",
    "Run this cell to set everything up!"
   ]
  },
  {
   "cell_type": "code",
   "execution_count": 1,
   "id": "e8145d9d",
   "metadata": {
    "execution": {
     "iopub.execute_input": "2022-06-01T10:49:11.606554Z",
     "iopub.status.busy": "2022-06-01T10:49:11.605642Z",
     "iopub.status.idle": "2022-06-01T10:49:13.455998Z",
     "shell.execute_reply": "2022-06-01T10:49:13.454645Z"
    },
    "papermill": {
     "duration": 1.861152,
     "end_time": "2022-06-01T10:49:13.459884",
     "exception": false,
     "start_time": "2022-06-01T10:49:11.598732",
     "status": "completed"
    },
    "tags": []
   },
   "outputs": [],
   "source": [
    "# Setup feedback system\n",
    "from learntools.core import binder\n",
    "binder.bind(globals())\n",
    "from learntools.feature_engineering_new.ex6 import *\n",
    "\n",
    "import matplotlib.pyplot as plt\n",
    "import numpy as np\n",
    "import pandas as pd\n",
    "import seaborn as sns\n",
    "import warnings\n",
    "from category_encoders import MEstimateEncoder\n",
    "from sklearn.model_selection import cross_val_score\n",
    "from xgboost import XGBRegressor\n",
    "\n",
    "# Set Matplotlib defaults\n",
    "plt.style.use(\"seaborn-whitegrid\")\n",
    "plt.rc(\"figure\", autolayout=True)\n",
    "plt.rc(\n",
    "    \"axes\",\n",
    "    labelweight=\"bold\",\n",
    "    labelsize=\"large\",\n",
    "    titleweight=\"bold\",\n",
    "    titlesize=14,\n",
    "    titlepad=10,\n",
    ")\n",
    "warnings.filterwarnings('ignore')\n",
    "\n",
    "\n",
    "def score_dataset(X, y, model=XGBRegressor()):\n",
    "    # Label encoding for categoricals\n",
    "    for colname in X.select_dtypes([\"category\", \"object\"]):\n",
    "        X[colname], _ = X[colname].factorize()\n",
    "    # Metric for Housing competition is RMSLE (Root Mean Squared Log Error)\n",
    "    score = cross_val_score(\n",
    "        model, X, y, cv=5, scoring=\"neg_mean_squared_log_error\",\n",
    "    )\n",
    "    score = -1 * score.mean()\n",
    "    score = np.sqrt(score)\n",
    "    return score\n",
    "\n",
    "\n",
    "df = pd.read_csv(\"../input/fe-course-data/ames.csv\")"
   ]
  },
  {
   "cell_type": "markdown",
   "id": "063b0f91",
   "metadata": {
    "papermill": {
     "duration": 0.005739,
     "end_time": "2022-06-01T10:49:13.471662",
     "exception": false,
     "start_time": "2022-06-01T10:49:13.465923",
     "status": "completed"
    },
    "tags": []
   },
   "source": [
    "-------------------------------------------------------------------------------\n",
    "\n",
    "First you'll need to choose which features you want to apply a target encoding to. Categorical features with a large number of categories are often good candidates. Run this cell to see how many categories each categorical feature in the *Ames* dataset has."
   ]
  },
  {
   "cell_type": "code",
   "execution_count": 2,
   "id": "588a2f65",
   "metadata": {
    "execution": {
     "iopub.execute_input": "2022-06-01T10:49:13.485101Z",
     "iopub.status.busy": "2022-06-01T10:49:13.484677Z",
     "iopub.status.idle": "2022-06-01T10:49:13.523160Z",
     "shell.execute_reply": "2022-06-01T10:49:13.522106Z"
    },
    "papermill": {
     "duration": 0.048193,
     "end_time": "2022-06-01T10:49:13.525877",
     "exception": false,
     "start_time": "2022-06-01T10:49:13.477684",
     "status": "completed"
    },
    "tags": []
   },
   "outputs": [
    {
     "data": {
      "text/plain": [
       "MSSubClass       16\n",
       "MSZoning          7\n",
       "Street            2\n",
       "Alley             3\n",
       "LotShape          4\n",
       "LandContour       4\n",
       "Utilities         3\n",
       "LotConfig         5\n",
       "LandSlope         3\n",
       "Neighborhood     28\n",
       "Condition1        9\n",
       "Condition2        8\n",
       "BldgType          5\n",
       "HouseStyle        8\n",
       "OverallQual      10\n",
       "OverallCond       9\n",
       "RoofStyle         6\n",
       "RoofMatl          8\n",
       "Exterior1st      16\n",
       "Exterior2nd      17\n",
       "MasVnrType        5\n",
       "ExterQual         4\n",
       "ExterCond         5\n",
       "Foundation        6\n",
       "BsmtQual          6\n",
       "BsmtCond          6\n",
       "BsmtExposure      5\n",
       "BsmtFinType1      7\n",
       "BsmtFinType2      7\n",
       "Heating           6\n",
       "HeatingQC         5\n",
       "CentralAir        2\n",
       "Electrical        6\n",
       "KitchenQual       5\n",
       "Functional        8\n",
       "FireplaceQu       6\n",
       "GarageType        7\n",
       "GarageFinish      4\n",
       "GarageQual        6\n",
       "GarageCond        6\n",
       "PavedDrive        3\n",
       "PoolQC            5\n",
       "Fence             5\n",
       "MiscFeature       6\n",
       "SaleType         10\n",
       "SaleCondition     6\n",
       "dtype: int64"
      ]
     },
     "execution_count": 2,
     "metadata": {},
     "output_type": "execute_result"
    }
   ],
   "source": [
    "df.select_dtypes([\"object\"]).nunique()"
   ]
  },
  {
   "cell_type": "markdown",
   "id": "f907e469",
   "metadata": {
    "papermill": {
     "duration": 0.005209,
     "end_time": "2022-06-01T10:49:13.536640",
     "exception": false,
     "start_time": "2022-06-01T10:49:13.531431",
     "status": "completed"
    },
    "tags": []
   },
   "source": [
    "We talked about how the M-estimate encoding uses smoothing to improve estimates for rare categories. To see how many times a category occurs in the dataset, you can use the `value_counts` method. This cell shows the counts for `SaleType`, but you might want to consider others as well."
   ]
  },
  {
   "cell_type": "code",
   "execution_count": 3,
   "id": "04fcf3dd",
   "metadata": {
    "execution": {
     "iopub.execute_input": "2022-06-01T10:49:13.548716Z",
     "iopub.status.busy": "2022-06-01T10:49:13.548357Z",
     "iopub.status.idle": "2022-06-01T10:49:13.561372Z",
     "shell.execute_reply": "2022-06-01T10:49:13.560327Z"
    },
    "papermill": {
     "duration": 0.021372,
     "end_time": "2022-06-01T10:49:13.563360",
     "exception": false,
     "start_time": "2022-06-01T10:49:13.541988",
     "status": "completed"
    },
    "tags": []
   },
   "outputs": [
    {
     "data": {
      "text/plain": [
       "WD       2536\n",
       "New       239\n",
       "COD        87\n",
       "ConLD      26\n",
       "CWD        12\n",
       "ConLI       9\n",
       "ConLw       8\n",
       "Oth         7\n",
       "Con         5\n",
       "VWD         1\n",
       "Name: SaleType, dtype: int64"
      ]
     },
     "execution_count": 3,
     "metadata": {},
     "output_type": "execute_result"
    }
   ],
   "source": [
    "df[\"SaleType\"].value_counts()"
   ]
  },
  {
   "cell_type": "markdown",
   "id": "9c560845",
   "metadata": {
    "papermill": {
     "duration": 0.005144,
     "end_time": "2022-06-01T10:49:13.574102",
     "exception": false,
     "start_time": "2022-06-01T10:49:13.568958",
     "status": "completed"
    },
    "tags": []
   },
   "source": [
    "# 1) Choose Features for Encoding\n",
    "\n",
    "Which features did you identify for target encoding? After you've thought about your answer, run the next cell for some discussion."
   ]
  },
  {
   "cell_type": "code",
   "execution_count": 4,
   "id": "2a96107f",
   "metadata": {
    "execution": {
     "iopub.execute_input": "2022-06-01T10:49:13.586440Z",
     "iopub.status.busy": "2022-06-01T10:49:13.586037Z",
     "iopub.status.idle": "2022-06-01T10:49:13.594467Z",
     "shell.execute_reply": "2022-06-01T10:49:13.593399Z"
    },
    "papermill": {
     "duration": 0.017014,
     "end_time": "2022-06-01T10:49:13.596516",
     "exception": false,
     "start_time": "2022-06-01T10:49:13.579502",
     "status": "completed"
    },
    "tags": []
   },
   "outputs": [
    {
     "data": {
      "application/javascript": [
       "parent.postMessage({\"jupyterEvent\": \"custom.exercise_interaction\", \"data\": {\"outcomeType\": 1, \"valueTowardsCompletion\": 0.3333333333333333, \"interactionType\": 1, \"questionType\": 4, \"questionId\": \"1_Q1\", \"learnToolsVersion\": \"0.3.4\", \"failureMessage\": \"\", \"exceptionClass\": \"\", \"trace\": \"\"}}, \"*\")"
      ],
      "text/plain": [
       "<IPython.core.display.Javascript object>"
      ]
     },
     "metadata": {},
     "output_type": "display_data"
    },
    {
     "data": {
      "text/markdown": [
       "<span style=\"color:#33cc33\">Correct:</span> \n",
       "\n",
       " The `Neighborhood` feature looks promising. It has the most categories of any feature, and several categories are rare. Others that could be worth considering are `SaleType`, `MSSubClass`, `Exterior1st`, `Exterior2nd`. In fact, almost any of the nominal features would be worth trying because of the prevalence of rare categories."
      ],
      "text/plain": [
       "Correct: \n",
       "\n",
       " The `Neighborhood` feature looks promising. It has the most categories of any feature, and several categories are rare. Others that could be worth considering are `SaleType`, `MSSubClass`, `Exterior1st`, `Exterior2nd`. In fact, almost any of the nominal features would be worth trying because of the prevalence of rare categories."
      ]
     },
     "metadata": {},
     "output_type": "display_data"
    }
   ],
   "source": [
    "# View the solution (Run this cell to receive credit!)\n",
    "q_1.check()"
   ]
  },
  {
   "cell_type": "markdown",
   "id": "31695053",
   "metadata": {
    "papermill": {
     "duration": 0.005847,
     "end_time": "2022-06-01T10:49:13.608604",
     "exception": false,
     "start_time": "2022-06-01T10:49:13.602757",
     "status": "completed"
    },
    "tags": []
   },
   "source": [
    "-------------------------------------------------------------------------------\n",
    "\n",
    "Now you'll apply a target encoding to your choice of feature. As we discussed in the tutorial, to avoid overfitting, we need to fit the encoder on data heldout from the training set. Run this cell to create the encoding and training splits:"
   ]
  },
  {
   "cell_type": "code",
   "execution_count": 5,
   "id": "6e180feb",
   "metadata": {
    "execution": {
     "iopub.execute_input": "2022-06-01T10:49:13.622136Z",
     "iopub.status.busy": "2022-06-01T10:49:13.621794Z",
     "iopub.status.idle": "2022-06-01T10:49:13.633736Z",
     "shell.execute_reply": "2022-06-01T10:49:13.632760Z"
    },
    "lines_to_next_cell": 2,
    "papermill": {
     "duration": 0.021299,
     "end_time": "2022-06-01T10:49:13.635974",
     "exception": false,
     "start_time": "2022-06-01T10:49:13.614675",
     "status": "completed"
    },
    "tags": []
   },
   "outputs": [],
   "source": [
    "# Encoding split\n",
    "X_encode = df.sample(frac=0.20, random_state=0)\n",
    "y_encode = X_encode.pop(\"SalePrice\")\n",
    "\n",
    "# Training split\n",
    "X_pretrain = df.drop(X_encode.index)\n",
    "y_train = X_pretrain.pop(\"SalePrice\")"
   ]
  },
  {
   "cell_type": "markdown",
   "id": "13983cff",
   "metadata": {
    "papermill": {
     "duration": 0.005425,
     "end_time": "2022-06-01T10:49:13.647111",
     "exception": false,
     "start_time": "2022-06-01T10:49:13.641686",
     "status": "completed"
    },
    "tags": []
   },
   "source": [
    "# 2) Apply M-Estimate Encoding\n",
    "\n",
    "Apply a target encoding to your choice of categorical features. Also choose a value for the smoothing parameter `m` (any value is okay for a correct answer)."
   ]
  },
  {
   "cell_type": "code",
   "execution_count": 6,
   "id": "fb0eadcd",
   "metadata": {
    "execution": {
     "iopub.execute_input": "2022-06-01T10:49:13.660478Z",
     "iopub.status.busy": "2022-06-01T10:49:13.660028Z",
     "iopub.status.idle": "2022-06-01T10:49:13.734961Z",
     "shell.execute_reply": "2022-06-01T10:49:13.733839Z"
    },
    "lines_to_next_cell": 0,
    "papermill": {
     "duration": 0.084215,
     "end_time": "2022-06-01T10:49:13.737216",
     "exception": false,
     "start_time": "2022-06-01T10:49:13.653001",
     "status": "completed"
    },
    "tags": []
   },
   "outputs": [
    {
     "data": {
      "application/javascript": [
       "parent.postMessage({\"jupyterEvent\": \"custom.exercise_interaction\", \"data\": {\"outcomeType\": 1, \"valueTowardsCompletion\": 0.3333333333333333, \"interactionType\": 1, \"questionType\": 2, \"questionId\": \"2_Q2\", \"learnToolsVersion\": \"0.3.4\", \"failureMessage\": \"\", \"exceptionClass\": \"\", \"trace\": \"\"}}, \"*\")"
      ],
      "text/plain": [
       "<IPython.core.display.Javascript object>"
      ]
     },
     "metadata": {},
     "output_type": "display_data"
    },
    {
     "data": {
      "text/markdown": [
       "<span style=\"color:#33cc33\">Correct</span>"
      ],
      "text/plain": [
       "Correct"
      ]
     },
     "metadata": {},
     "output_type": "display_data"
    }
   ],
   "source": [
    "# YOUR CODE HERE: Create the MEstimateEncoder\n",
    "# Choose a set of features to encode and a value for m\n",
    "encoder = MEstimateEncoder(cols=[\"Neighborhood\"], m=4.0)\n",
    "\n",
    "\n",
    "# Fit the encoder on the encoding split\n",
    "encoder.fit(X_encode, y_encode)\n",
    "\n",
    "# Encode the training split\n",
    "X_train = encoder.transform(X_pretrain, y_train)\n",
    "\n",
    "\n",
    "# Check your answer\n",
    "q_2.check()"
   ]
  },
  {
   "cell_type": "code",
   "execution_count": 7,
   "id": "a77697ed",
   "metadata": {
    "execution": {
     "iopub.execute_input": "2022-06-01T10:49:13.750247Z",
     "iopub.status.busy": "2022-06-01T10:49:13.749851Z",
     "iopub.status.idle": "2022-06-01T10:49:13.754369Z",
     "shell.execute_reply": "2022-06-01T10:49:13.753229Z"
    },
    "lines_to_next_cell": 0,
    "papermill": {
     "duration": 0.013297,
     "end_time": "2022-06-01T10:49:13.756326",
     "exception": false,
     "start_time": "2022-06-01T10:49:13.743029",
     "status": "completed"
    },
    "tags": []
   },
   "outputs": [],
   "source": [
    "# Lines below will give you a hint or solution code\n",
    "#q_2.hint()\n",
    "#q_2.solution()"
   ]
  },
  {
   "cell_type": "markdown",
   "id": "f930f92a",
   "metadata": {
    "papermill": {
     "duration": 0.005322,
     "end_time": "2022-06-01T10:49:13.767415",
     "exception": false,
     "start_time": "2022-06-01T10:49:13.762093",
     "status": "completed"
    },
    "tags": []
   },
   "source": [
    "If you'd like to see how the encoded feature compares to the target, you can run this cell:"
   ]
  },
  {
   "cell_type": "code",
   "execution_count": 8,
   "id": "ae2c349a",
   "metadata": {
    "execution": {
     "iopub.execute_input": "2022-06-01T10:49:13.781030Z",
     "iopub.status.busy": "2022-06-01T10:49:13.780079Z",
     "iopub.status.idle": "2022-06-01T10:49:14.069251Z",
     "shell.execute_reply": "2022-06-01T10:49:14.068362Z"
    },
    "papermill": {
     "duration": 0.298447,
     "end_time": "2022-06-01T10:49:14.071398",
     "exception": false,
     "start_time": "2022-06-01T10:49:13.772951",
     "status": "completed"
    },
    "tags": []
   },
   "outputs": [
    {
     "data": {
      "image/png": "[encoded data removed]",
      "text/plain": [
       "<Figure size 540x360 with 1 Axes>"
      ]
     },
     "metadata": {},
     "output_type": "display_data"
    }
   ],
   "source": [
    "feature = encoder.cols\n",
    "\n",
    "plt.figure(dpi=90)\n",
    "ax = sns.distplot(y_train, kde=True, hist=False)\n",
    "ax = sns.distplot(X_train[feature], color='r', ax=ax, hist=True, kde=False, norm_hist=True)\n",
    "ax.set_xlabel(\"SalePrice\");"
   ]
  },
  {
   "cell_type": "markdown",
   "id": "6e0d53ab",
   "metadata": {
    "papermill": {
     "duration": 0.006019,
     "end_time": "2022-06-01T10:49:14.084113",
     "exception": false,
     "start_time": "2022-06-01T10:49:14.078094",
     "status": "completed"
    },
    "tags": []
   },
   "source": [
    "From the distribution plots, does it seem like the encoding is informative?\n",
    "\n",
    "And this cell will show you the score of the encoded set compared to the original set:"
   ]
  },
  {
   "cell_type": "code",
   "execution_count": 9,
   "id": "129eefdf",
   "metadata": {
    "execution": {
     "iopub.execute_input": "2022-06-01T10:49:14.098246Z",
     "iopub.status.busy": "2022-06-01T10:49:14.097679Z",
     "iopub.status.idle": "2022-06-01T10:49:22.238070Z",
     "shell.execute_reply": "2022-06-01T10:49:22.236996Z"
    },
    "papermill": {
     "duration": 8.15093,
     "end_time": "2022-06-01T10:49:22.241150",
     "exception": false,
     "start_time": "2022-06-01T10:49:14.090220",
     "status": "completed"
    },
    "tags": []
   },
   "outputs": [
    {
     "name": "stdout",
     "output_type": "stream",
     "text": [
      "Baseline Score: 0.1428 RMSLE\n",
      "Score with Encoding: 0.1423 RMSLE\n"
     ]
    }
   ],
   "source": [
    "X = df.copy()\n",
    "y = X.pop(\"SalePrice\")\n",
    "score_base = score_dataset(X, y)\n",
    "score_new = score_dataset(X_train, y_train)\n",
    "\n",
    "print(f\"Baseline Score: {score_base:.4f} RMSLE\")\n",
    "print(f\"Score with Encoding: {score_new:.4f} RMSLE\")"
   ]
  },
  {
   "cell_type": "markdown",
   "id": "6a304b10",
   "metadata": {
    "papermill": {
     "duration": 0.005737,
     "end_time": "2022-06-01T10:49:22.253220",
     "exception": false,
     "start_time": "2022-06-01T10:49:22.247483",
     "status": "completed"
    },
    "tags": []
   },
   "source": [
    "Do you think that target encoding was worthwhile in this case? Depending on which feature or features you chose, you may have ended up with a score significantly worse than the baseline. In that case, it's likely the extra information gained by the encoding couldn't make up for the loss of data used for the encoding."
   ]
  },
  {
   "cell_type": "markdown",
   "id": "9f7c31ae",
   "metadata": {
    "papermill": {
     "duration": 0.005735,
     "end_time": "2022-06-01T10:49:22.265029",
     "exception": false,
     "start_time": "2022-06-01T10:49:22.259294",
     "status": "completed"
    },
    "tags": []
   },
   "source": [
    "-------------------------------------------------------------------------------\n",
    "\n",
    "In this question, you'll explore the problem of overfitting with target encodings. This will illustrate this importance of training fitting target encoders on data held-out from the training set.\n",
    "\n",
    "So let's see what happens when we fit the encoder and the model on the *same* dataset. To emphasize how dramatic the overfitting can be, we'll mean-encode a feature that should have no relationship with `SalePrice`, a count: `0, 1, 2, 3, 4, 5, ...`."
   ]
  },
  {
   "cell_type": "code",
   "execution_count": 10,
   "id": "10058947",
   "metadata": {
    "execution": {
     "iopub.execute_input": "2022-06-01T10:49:22.279299Z",
     "iopub.status.busy": "2022-06-01T10:49:22.278648Z",
     "iopub.status.idle": "2022-06-01T10:49:26.588479Z",
     "shell.execute_reply": "2022-06-01T10:49:26.587280Z"
    },
    "papermill": {
     "duration": 4.319503,
     "end_time": "2022-06-01T10:49:26.590742",
     "exception": false,
     "start_time": "2022-06-01T10:49:22.271239",
     "status": "completed"
    },
    "tags": []
   },
   "outputs": [
    {
     "name": "stdout",
     "output_type": "stream",
     "text": [
      "Score: 0.0298 RMSLE\n"
     ]
    }
   ],
   "source": [
    "# Try experimenting with the smoothing parameter m\n",
    "# Try 0, 1, 5, 50\n",
    "m = 1\n",
    "\n",
    "X = df.copy()\n",
    "y = X.pop('SalePrice')\n",
    "\n",
    "# Create an uninformative feature\n",
    "X[\"Count\"] = range(len(X))\n",
    "X[\"Count\"][1] = 0  # actually need one duplicate value to circumvent error-checking in MEstimateEncoder\n",
    "\n",
    "# fit and transform on the same dataset\n",
    "encoder = MEstimateEncoder(cols=\"Count\", m=m)\n",
    "X = encoder.fit_transform(X, y)\n",
    "\n",
    "# Results\n",
    "score =  score_dataset(X, y)\n",
    "print(f\"Score: {score:.4f} RMSLE\")"
   ]
  },
  {
   "cell_type": "markdown",
   "id": "df214e91",
   "metadata": {
    "papermill": {
     "duration": 0.006524,
     "end_time": "2022-06-01T10:49:26.603701",
     "exception": false,
     "start_time": "2022-06-01T10:49:26.597177",
     "status": "completed"
    },
    "tags": []
   },
   "source": [
    "Almost a perfect score!"
   ]
  },
  {
   "cell_type": "code",
   "execution_count": 11,
   "id": "2f8a2e8f",
   "metadata": {
    "execution": {
     "iopub.execute_input": "2022-06-01T10:49:26.618513Z",
     "iopub.status.busy": "2022-06-01T10:49:26.617654Z",
     "iopub.status.idle": "2022-06-01T10:49:26.862748Z",
     "shell.execute_reply": "2022-06-01T10:49:26.861736Z"
    },
    "papermill": {
     "duration": 0.254455,
     "end_time": "2022-06-01T10:49:26.864741",
     "exception": false,
     "start_time": "2022-06-01T10:49:26.610286",
     "status": "completed"
    },
    "tags": []
   },
   "outputs": [
    {
     "data": {
      "image/png": "[encoded data removed]",
      "text/plain": [
       "<Figure size 540x360 with 1 Axes>"
      ]
     },
     "metadata": {},
     "output_type": "display_data"
    }
   ],
   "source": [
    "plt.figure(dpi=90)\n",
    "ax = sns.distplot(y, kde=True, hist=False)\n",
    "ax = sns.distplot(X[\"Count\"], color='r', ax=ax, hist=True, kde=False, norm_hist=True)\n",
    "ax.set_xlabel(\"SalePrice\");"
   ]
  },
  {
   "cell_type": "markdown",
   "id": "d30361b7",
   "metadata": {
    "papermill": {
     "duration": 0.006578,
     "end_time": "2022-06-01T10:49:26.878081",
     "exception": false,
     "start_time": "2022-06-01T10:49:26.871503",
     "status": "completed"
    },
    "tags": []
   },
   "source": [
    "And the distributions are almost exactly the same, too.\n",
    "\n",
    "# 3) Overfitting with Target Encoders\n",
    "\n",
    "Based on your understanding of how mean-encoding works, can you explain how XGBoost was able to get an almost a perfect fit after mean-encoding the count feature?"
   ]
  },
  {
   "cell_type": "code",
   "execution_count": 12,
   "id": "5c041bdf",
   "metadata": {
    "execution": {
     "iopub.execute_input": "2022-06-01T10:49:26.893071Z",
     "iopub.status.busy": "2022-06-01T10:49:26.892674Z",
     "iopub.status.idle": "2022-06-01T10:49:26.900154Z",
     "shell.execute_reply": "2022-06-01T10:49:26.899314Z"
    },
    "lines_to_next_cell": 0,
    "papermill": {
     "duration": 0.017025,
     "end_time": "2022-06-01T10:49:26.901952",
     "exception": false,
     "start_time": "2022-06-01T10:49:26.884927",
     "status": "completed"
    },
    "tags": []
   },
   "outputs": [
    {
     "data": {
      "application/javascript": [
       "parent.postMessage({\"jupyterEvent\": \"custom.exercise_interaction\", \"data\": {\"outcomeType\": 1, \"valueTowardsCompletion\": 0.3333333333333333, \"interactionType\": 1, \"questionType\": 4, \"questionId\": \"3_Q3\", \"learnToolsVersion\": \"0.3.4\", \"failureMessage\": \"\", \"exceptionClass\": \"\", \"trace\": \"\"}}, \"*\")"
      ],
      "text/plain": [
       "<IPython.core.display.Javascript object>"
      ]
     },
     "metadata": {},
     "output_type": "display_data"
    },
    {
     "data": {
      "text/markdown": [
       "<span style=\"color:#33cc33\">Correct:</span> \n",
       "\n",
       "\n",
       "Since `Count` never has any duplicate values, the mean-encoded `Count` is essentially an exact copy of the target. In other words, mean-encoding turned a completely meaningless feature into a perfect feature.\n",
       "\n",
       "Now, the only reason this worked is because we trained XGBoost on the same set we used to train the encoder. If we had used a hold-out set instead, none of this \"fake\" encoding would have transferred to the training data.\n",
       "\n",
       "The lesson is that when using a target encoder it's very important to use separate data sets for training the encoder and training the model. Otherwise the results can be very disappointing!\n"
      ],
      "text/plain": [
       "Correct: \n",
       "\n",
       "\n",
       "Since `Count` never has any duplicate values, the mean-encoded `Count` is essentially an exact copy of the target. In other words, mean-encoding turned a completely meaningless feature into a perfect feature.\n",
       "\n",
       "Now, the only reason this worked is because we trained XGBoost on the same set we used to train the encoder. If we had used a hold-out set instead, none of this \"fake\" encoding would have transferred to the training data.\n",
       "\n",
       "The lesson is that when using a target encoder it's very important to use separate data sets for training the encoder and training the model. Otherwise the results can be very disappointing!"
      ]
     },
     "metadata": {},
     "output_type": "display_data"
    }
   ],
   "source": [
    "# View the solution (Run this cell to receive credit!)\n",
    "q_3.check()"
   ]
  },
  {
   "cell_type": "code",
   "execution_count": 13,
   "id": "24d4e371",
   "metadata": {
    "execution": {
     "iopub.execute_input": "2022-06-01T10:49:26.917068Z",
     "iopub.status.busy": "2022-06-01T10:49:26.916659Z",
     "iopub.status.idle": "2022-06-01T10:49:26.924456Z",
     "shell.execute_reply": "2022-06-01T10:49:26.923606Z"
    },
    "papermill": {
     "duration": 0.01748,
     "end_time": "2022-06-01T10:49:26.926248",
     "exception": false,
     "start_time": "2022-06-01T10:49:26.908768",
     "status": "completed"
    },
    "tags": []
   },
   "outputs": [
    {
     "data": {
      "application/javascript": [
       "parent.postMessage({\"jupyterEvent\": \"custom.exercise_interaction\", \"data\": {\"interactionType\": 2, \"questionType\": 4, \"questionId\": \"3_Q3\", \"learnToolsVersion\": \"0.3.4\", \"valueTowardsCompletion\": 0.0, \"failureMessage\": \"\", \"exceptionClass\": \"\", \"trace\": \"\", \"outcomeType\": 4}}, \"*\")"
      ],
      "text/plain": [
       "<IPython.core.display.Javascript object>"
      ]
     },
     "metadata": {},
     "output_type": "display_data"
    },
    {
     "data": {
      "text/markdown": [
       "<span style=\"color:#3366cc\">Hint:</span> \n",
       "Suppose you had a dataset like:\n",
       "\n",
       "| Count | Target |\n",
       "|-------|--------|\n",
       "| 0     | 10     |\n",
       "| 1     | 5      |\n",
       "| 2     | 30     |\n",
       "| 3     | 22     |\n",
       "\n",
       "What is the mean value of Target when Count is equal to 0? It's 10, since 0 only occurs in the first row. So what would be the result of mean-encoding Count, knowing that Count never has any duplicate values?\n"
      ],
      "text/plain": [
       "Hint: \n",
       "Suppose you had a dataset like:\n",
       "\n",
       "| Count | Target |\n",
       "|-------|--------|\n",
       "| 0     | 10     |\n",
       "| 1     | 5      |\n",
       "| 2     | 30     |\n",
       "| 3     | 22     |\n",
       "\n",
       "What is the mean value of Target when Count is equal to 0? It's 10, since 0 only occurs in the first row. So what would be the result of mean-encoding Count, knowing that Count never has any duplicate values?"
      ]
     },
     "metadata": {},
     "output_type": "display_data"
    }
   ],
   "source": [
    "# Uncomment this if you'd like a hint before seeing the answer\n",
    "q_3.hint()"
   ]
  },
  {
   "cell_type": "markdown",
   "id": "29378d38",
   "metadata": {
    "papermill": {
     "duration": 0.006792,
     "end_time": "2022-06-01T10:49:26.940245",
     "exception": false,
     "start_time": "2022-06-01T10:49:26.933453",
     "status": "completed"
    },
    "tags": []
   },
   "source": [
    "# The End #\n",
    "\n",
    "That's it for *Feature Engineering*! We hope you enjoyed your time with us.\n",
    "\n",
    "Now, are you ready to try out your new skills? Now would be a great time to join our [Housing Prices](https://www.kaggle.com/c/house-prices-advanced-regression-techniques) Getting Started competition. We've even prepared a [Bonus Lesson](https://www.kaggle.com/ryanholbrook/feature-engineering-for-house-prices) that collects all the work we've done together into a starter notebook.\n",
    "\n",
    "# References #\n",
    "Here are some great resources you might like to consult for more information. They all played a part in shaping this course:\n",
    "- *The Art of Feature Engineering*, a book by Pablo Duboue.\n",
    "- *An Empirical Analysis of Feature Engineering for Predictive Modeling*, an article by Jeff Heaton.\n",
    "- *Feature Engineering for Machine Learning*, a book by Alice Zheng and Amanda Casari. The tutorial on clustering was inspired by this excellent book.\n",
    "- *Feature Engineering and Selection*, a book by Max Kuhn and Kjell Johnson."
   ]
  },
  {
   "cell_type": "markdown",
   "id": "e19529e6",
   "metadata": {
    "papermill": {
     "duration": 0.006608,
     "end_time": "2022-06-01T10:49:26.953776",
     "exception": false,
     "start_time": "2022-06-01T10:49:26.947168",
     "status": "completed"
    },
    "tags": []
   },
   "source": [
    "---\n",
    "\n",
    "\n",
    "\n",
    "\n",
    "*Have questions or comments? Visit the [course discussion forum](https://www.kaggle.com/learn/feature-engineering/discussion) to chat with other learners.*"
   ]
  }
 ],
 "metadata": {
  "kernelspec": {
   "display_name": "Python 3",
   "language": "python",
   "name": "python3"
  },
  "language_info": {
   "codemirror_mode": {
    "name": "ipython",
    "version": 3
   },
   "file_extension": ".py",
   "mimetype": "text/x-python",
   "name": "python",
   "nbconvert_exporter": "python",
   "pygments_lexer": "ipython3",
   "version": "3.7.12"
  },
  "papermill": {
   "default_parameters": {},
   "duration": 24.800444,
   "end_time": "2022-06-01T10:49:27.784200",
   "environment_variables": {},
   "exception": null,
   "input_path": "__notebook__.ipynb",
   "output_path": "__notebook__.ipynb",
   "parameters": {},
   "start_time": "2022-06-01T10:49:02.983756",
   "version": "2.3.4"
  }
 },
 "nbformat": 4,
 "nbformat_minor": 5
}
