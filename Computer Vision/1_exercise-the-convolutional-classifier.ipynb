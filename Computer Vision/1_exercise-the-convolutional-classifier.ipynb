{
 "cells": [
  {
   "cell_type": "markdown",
   "id": "454140f1",
   "metadata": {
    "papermill": {
     "duration": 0.005705,
     "end_time": "2022-07-01T13:44:17.874019",
     "exception": false,
     "start_time": "2022-07-01T13:44:17.868314",
     "status": "completed"
    },
    "tags": []
   },
   "source": [
    "**This notebook is an exercise in the [Computer Vision](https://www.kaggle.com/learn/computer-vision) course.  You can reference the tutorial at [this link](https://www.kaggle.com/ryanholbrook/the-convolutional-classifier).**\n",
    "\n",
    "---\n"
   ]
  },
  {
   "cell_type": "markdown",
   "id": "70dc6e75",
   "metadata": {
    "papermill": {
     "duration": 0.004544,
     "end_time": "2022-07-01T13:44:17.883769",
     "exception": false,
     "start_time": "2022-07-01T13:44:17.879225",
     "status": "completed"
    },
    "tags": []
   },
   "source": [
    "<blockquote style=\"margin-right:auto; margin-left:auto; background-color: #ebf9ff; padding: 1em; margin:24px;\">\n",
    "    <strong>Accelerate Training with a Kaggle GPU!</strong><br>\n",
    "Did you know Kaggle offers free time with a GPU accelerator? You can speed up training neural networks in this course by switching to <strong>GPU</strong> in the <em>Accelerator</em> option on the right. (It may already be turned on.) Two things to be aware of:\n",
    "<ul>\n",
    "<li>Changing the <em>Accelerator</em> option will cause the notebook session to restart. You'll need to rerun any setup code.\n",
    "<li>You can have only one GPU session at a time, so be sure to shut the notebook down after you've finished the exercise.\n",
    "</ul>\n",
    "</blockquote>"
   ]
  },
  {
   "cell_type": "markdown",
   "id": "2914dafd",
   "metadata": {
    "papermill": {
     "duration": 0.004533,
     "end_time": "2022-07-01T13:44:17.892965",
     "exception": false,
     "start_time": "2022-07-01T13:44:17.888432",
     "status": "completed"
    },
    "tags": []
   },
   "source": [
    "# Introduction #\n",
    "\n",
    "In the tutorial, we saw how to build an image classifier by attaching a head of dense layers to a pretrained base. The base we used was from a model called **VGG16**. We saw that the VGG16 architecture was prone to overfitting this dataset. Over this course, you'll learn a number of ways you can improve upon this initial attempt.\n",
    "\n",
    "The first way you'll see is to use a base more appropriate to the dataset. The base this model comes from is called **InceptionV1** (also known as GoogLeNet). InceptionV1 was one of the early winners of the ImageNet competition. One of its successors, InceptionV4, is among the state of the art today.\n",
    "\n",
    "To get started, run the code cell below to set everything up."
   ]
  },
  {
   "cell_type": "code",
   "execution_count": 1,
   "id": "2da34661",
   "metadata": {
    "execution": {
     "iopub.execute_input": "2022-07-01T13:44:17.904313Z",
     "iopub.status.busy": "2022-07-01T13:44:17.903802Z",
     "iopub.status.idle": "2022-07-01T13:44:29.452175Z",
     "shell.execute_reply": "2022-07-01T13:44:29.450520Z"
    },
    "lines_to_next_cell": 2,
    "papermill": {
     "duration": 11.55764,
     "end_time": "2022-07-01T13:44:29.455268",
     "exception": false,
     "start_time": "2022-07-01T13:44:17.897628",
     "status": "completed"
    },
    "tags": []
   },
   "outputs": [
    {
     "name": "stdout",
     "output_type": "stream",
     "text": [
      "Found 5117 files belonging to 2 classes.\n"
     ]
    },
    {
     "name": "stderr",
     "output_type": "stream",
     "text": [
      "2022-07-01 13:44:25.091005: I tensorflow/stream_executor/cuda/cuda_gpu_executor.cc:937] successful NUMA node read from SysFS had negative value (-1), but there must be at least one NUMA node, so returning NUMA node zero\n",
      "2022-07-01 13:44:25.210968: I tensorflow/stream_executor/cuda/cuda_gpu_executor.cc:937] successful NUMA node read from SysFS had negative value (-1), but there must be at least one NUMA node, so returning NUMA node zero\n",
      "2022-07-01 13:44:25.211663: I tensorflow/stream_executor/cuda/cuda_gpu_executor.cc:937] successful NUMA node read from SysFS had negative value (-1), but there must be at least one NUMA node, so returning NUMA node zero\n",
      "2022-07-01 13:44:25.223159: I tensorflow/core/platform/cpu_feature_guard.cc:142] This TensorFlow binary is optimized with oneAPI Deep Neural Network Library (oneDNN) to use the following CPU instructions in performance-critical operations:  AVX2 AVX512F FMA\n",
      "To enable them in other operations, rebuild TensorFlow with the appropriate compiler flags.\n",
      "2022-07-01 13:44:25.223419: I tensorflow/stream_executor/cuda/cuda_gpu_executor.cc:937] successful NUMA node read from SysFS had negative value (-1), but there must be at least one NUMA node, so returning NUMA node zero\n",
      "2022-07-01 13:44:25.224120: I tensorflow/stream_executor/cuda/cuda_gpu_executor.cc:937] successful NUMA node read from SysFS had negative value (-1), but there must be at least one NUMA node, so returning NUMA node zero\n",
      "2022-07-01 13:44:25.224725: I tensorflow/stream_executor/cuda/cuda_gpu_executor.cc:937] successful NUMA node read from SysFS had negative value (-1), but there must be at least one NUMA node, so returning NUMA node zero\n",
      "2022-07-01 13:44:27.374986: I tensorflow/stream_executor/cuda/cuda_gpu_executor.cc:937] successful NUMA node read from SysFS had negative value (-1), but there must be at least one NUMA node, so returning NUMA node zero\n",
      "2022-07-01 13:44:27.375804: I tensorflow/stream_executor/cuda/cuda_gpu_executor.cc:937] successful NUMA node read from SysFS had negative value (-1), but there must be at least one NUMA node, so returning NUMA node zero\n",
      "2022-07-01 13:44:27.376496: I tensorflow/stream_executor/cuda/cuda_gpu_executor.cc:937] successful NUMA node read from SysFS had negative value (-1), but there must be at least one NUMA node, so returning NUMA node zero\n",
      "2022-07-01 13:44:27.377233: I tensorflow/core/common_runtime/gpu/gpu_device.cc:1510] Created device /job:localhost/replica:0/task:0/device:GPU:0 with 15403 MB memory:  -> device: 0, name: Tesla P100-PCIE-16GB, pci bus id: 0000:00:04.0, compute capability: 6.0\n"
     ]
    },
    {
     "name": "stdout",
     "output_type": "stream",
     "text": [
      "Found 5051 files belonging to 2 classes.\n"
     ]
    }
   ],
   "source": [
    "# Setup feedback system\n",
    "from learntools.core import binder\n",
    "binder.bind(globals())\n",
    "from learntools.computer_vision.ex1 import *\n",
    "\n",
    "# Imports\n",
    "import os, warnings\n",
    "import matplotlib.pyplot as plt\n",
    "from matplotlib import gridspec\n",
    "\n",
    "import numpy as np\n",
    "import tensorflow as tf\n",
    "from tensorflow.keras.preprocessing import image_dataset_from_directory\n",
    "\n",
    "# Reproducability\n",
    "def set_seed(seed=31415):\n",
    "    np.random.seed(seed)\n",
    "    tf.random.set_seed(seed)\n",
    "    os.environ['PYTHONHASHSEED'] = str(seed)\n",
    "    os.environ['TF_DETERMINISTIC_OPS'] = '1'\n",
    "set_seed()\n",
    "\n",
    "# Set Matplotlib defaults\n",
    "plt.rc('figure', autolayout=True)\n",
    "plt.rc('axes', labelweight='bold', labelsize='large',\n",
    "       titleweight='bold', titlesize=18, titlepad=10)\n",
    "plt.rc('image', cmap='magma')\n",
    "warnings.filterwarnings(\"ignore\") # to clean up output cells\n",
    "\n",
    "\n",
    "# Load training and validation sets\n",
    "ds_train_ = image_dataset_from_directory(\n",
    "    '../input/car-or-truck/train',\n",
    "    labels='inferred',\n",
    "    label_mode='binary',\n",
    "    image_size=[128, 128],\n",
    "    interpolation='nearest',\n",
    "    batch_size=64,\n",
    "    shuffle=True,\n",
    ")\n",
    "ds_valid_ = image_dataset_from_directory(\n",
    "    '../input/car-or-truck/valid',\n",
    "    labels='inferred',\n",
    "    label_mode='binary',\n",
    "    image_size=[128, 128],\n",
    "    interpolation='nearest',\n",
    "    batch_size=64,\n",
    "    shuffle=False,\n",
    ")\n",
    "\n",
    "# Data Pipeline\n",
    "def convert_to_float(image, label):\n",
    "    image = tf.image.convert_image_dtype(image, dtype=tf.float32)\n",
    "    return image, label\n",
    "\n",
    "AUTOTUNE = tf.data.experimental.AUTOTUNE\n",
    "ds_train = (\n",
    "    ds_train_\n",
    "    .map(convert_to_float)\n",
    "    .cache()\n",
    "    .prefetch(buffer_size=AUTOTUNE)\n",
    ")\n",
    "ds_valid = (\n",
    "    ds_valid_\n",
    "    .map(convert_to_float)\n",
    "    .cache()\n",
    "    .prefetch(buffer_size=AUTOTUNE)\n",
    ")\n"
   ]
  },
  {
   "cell_type": "markdown",
   "id": "fab7bccf",
   "metadata": {
    "papermill": {
     "duration": 0.004794,
     "end_time": "2022-07-01T13:44:29.466098",
     "exception": false,
     "start_time": "2022-07-01T13:44:29.461304",
     "status": "completed"
    },
    "tags": []
   },
   "source": [
    "The **InceptionV1** model pretrained on ImageNet is available in the [TensorFlow Hub](https://www.tensorflow.org/hub/) repository, but we'll load it from a local copy. Run this cell to load InceptionV1 for your base."
   ]
  },
  {
   "cell_type": "code",
   "execution_count": 2,
   "id": "db4ad8d5",
   "metadata": {
    "execution": {
     "iopub.execute_input": "2022-07-01T13:44:29.477100Z",
     "iopub.status.busy": "2022-07-01T13:44:29.476820Z",
     "iopub.status.idle": "2022-07-01T13:44:33.279043Z",
     "shell.execute_reply": "2022-07-01T13:44:33.278099Z"
    },
    "lines_to_next_cell": 0,
    "papermill": {
     "duration": 3.815896,
     "end_time": "2022-07-01T13:44:33.286903",
     "exception": false,
     "start_time": "2022-07-01T13:44:29.471007",
     "status": "completed"
    },
    "tags": []
   },
   "outputs": [],
   "source": [
    "import tensorflow_hub as hub\n",
    "\n",
    "pretrained_base = tf.keras.models.load_model(\n",
    "    '../input/cv-course-models/cv-course-models/inceptionv1'\n",
    ")"
   ]
  },
  {
   "cell_type": "markdown",
   "id": "73d5ef1c",
   "metadata": {
    "papermill": {
     "duration": 0.005109,
     "end_time": "2022-07-01T13:44:33.297202",
     "exception": false,
     "start_time": "2022-07-01T13:44:33.292093",
     "status": "completed"
    },
    "tags": []
   },
   "source": [
    "# 1) Define Pretrained Base #\n",
    "\n",
    "Now that you have a pretrained base to do our feature extraction, decide whether this base should be trainable or not."
   ]
  },
  {
   "cell_type": "code",
   "execution_count": 3,
   "id": "e733c990",
   "metadata": {
    "execution": {
     "iopub.execute_input": "2022-07-01T13:44:33.308950Z",
     "iopub.status.busy": "2022-07-01T13:44:33.308637Z",
     "iopub.status.idle": "2022-07-01T13:44:33.318888Z",
     "shell.execute_reply": "2022-07-01T13:44:33.317939Z"
    },
    "lines_to_next_cell": 0,
    "papermill": {
     "duration": 0.018799,
     "end_time": "2022-07-01T13:44:33.321129",
     "exception": false,
     "start_time": "2022-07-01T13:44:33.302330",
     "status": "completed"
    },
    "tags": []
   },
   "outputs": [
    {
     "data": {
      "application/javascript": [
       "parent.postMessage({\"jupyterEvent\": \"custom.exercise_interaction\", \"data\": {\"outcomeType\": 1, \"valueTowardsCompletion\": 0.25, \"interactionType\": 1, \"questionType\": 2, \"questionId\": \"1_Q1\", \"learnToolsVersion\": \"0.3.4\", \"failureMessage\": \"\", \"exceptionClass\": \"\", \"trace\": \"\"}}, \"*\")"
      ],
      "text/plain": [
       "<IPython.core.display.Javascript object>"
      ]
     },
     "metadata": {},
     "output_type": "display_data"
    },
    {
     "data": {
      "text/markdown": [
       "<span style=\"color:#33cc33\">Correct:</span> When doing transfer learning, it's generally not a good idea to retrain the entire base -- at least not without some care. The reason is that the random weights in the head will initially create large gradient updates, which propogate back into the base layers and destroy much of the pretraining. Using techniques known as **fine tuning** it's possible to further train the base on new data, but this requires some care to do well."
      ],
      "text/plain": [
       "Correct: When doing transfer learning, it's generally not a good idea to retrain the entire base -- at least not without some care. The reason is that the random weights in the head will initially create large gradient updates, which propogate back into the base layers and destroy much of the pretraining. Using techniques known as **fine tuning** it's possible to further train the base on new data, but this requires some care to do well."
      ]
     },
     "metadata": {},
     "output_type": "display_data"
    }
   ],
   "source": [
    "# YOUR_CODE_HERE\n",
    "pretrained_base.trainable = False\n",
    "\n",
    "# Check your answer\n",
    "q_1.check()"
   ]
  },
  {
   "cell_type": "code",
   "execution_count": 4,
   "id": "59b142fd",
   "metadata": {
    "execution": {
     "iopub.execute_input": "2022-07-01T13:44:33.332493Z",
     "iopub.status.busy": "2022-07-01T13:44:33.332232Z",
     "iopub.status.idle": "2022-07-01T13:44:33.336014Z",
     "shell.execute_reply": "2022-07-01T13:44:33.335099Z"
    },
    "papermill": {
     "duration": 0.011675,
     "end_time": "2022-07-01T13:44:33.337983",
     "exception": false,
     "start_time": "2022-07-01T13:44:33.326308",
     "status": "completed"
    },
    "tags": []
   },
   "outputs": [],
   "source": [
    "# Lines below will give you a hint or solution code\n",
    "#q_1.hint()\n",
    "#q_1.solution()"
   ]
  },
  {
   "cell_type": "markdown",
   "id": "64820f2c",
   "metadata": {
    "papermill": {
     "duration": 0.005238,
     "end_time": "2022-07-01T13:44:33.348865",
     "exception": false,
     "start_time": "2022-07-01T13:44:33.343627",
     "status": "completed"
    },
    "tags": []
   },
   "source": [
    "# 2) Attach Head #\n",
    "\n",
    "Now that the base is defined to do the feature extraction, create a head of `Dense` layers to perform the classification, following this diagram:\n",
    "\n",
    "<figure>\n",
    "<img src=\"https://i.imgur.com/i5VU7Ry.png\" alt=\"Diagram of the dense head.\">\n",
    "</figure>\n"
   ]
  },
  {
   "cell_type": "code",
   "execution_count": 5,
   "id": "f8b1178c",
   "metadata": {
    "execution": {
     "iopub.execute_input": "2022-07-01T13:44:33.360647Z",
     "iopub.status.busy": "2022-07-01T13:44:33.360408Z",
     "iopub.status.idle": "2022-07-01T13:44:33.377296Z",
     "shell.execute_reply": "2022-07-01T13:44:33.376322Z"
    },
    "lines_to_next_cell": 0,
    "papermill": {
     "duration": 0.026069,
     "end_time": "2022-07-01T13:44:33.380387",
     "exception": false,
     "start_time": "2022-07-01T13:44:33.354318",
     "status": "completed"
    },
    "tags": []
   },
   "outputs": [
    {
     "data": {
      "application/javascript": [
       "parent.postMessage({\"jupyterEvent\": \"custom.exercise_interaction\", \"data\": {\"outcomeType\": 1, \"valueTowardsCompletion\": 0.25, \"interactionType\": 1, \"questionType\": 2, \"questionId\": \"2_Q2\", \"learnToolsVersion\": \"0.3.4\", \"failureMessage\": \"\", \"exceptionClass\": \"\", \"trace\": \"\"}}, \"*\")"
      ],
      "text/plain": [
       "<IPython.core.display.Javascript object>"
      ]
     },
     "metadata": {},
     "output_type": "display_data"
    },
    {
     "data": {
      "text/markdown": [
       "<span style=\"color:#33cc33\">Correct</span>"
      ],
      "text/plain": [
       "Correct"
      ]
     },
     "metadata": {},
     "output_type": "display_data"
    }
   ],
   "source": [
    "from tensorflow import keras\n",
    "from tensorflow.keras import layers\n",
    "\n",
    "model = keras.Sequential([\n",
    "    pretrained_base,\n",
    "    layers.Flatten(),\n",
    "    # YOUR CODE HERE. Attach a head of dense layers.\n",
    "    layers.Dense(6, activation='relu'),\n",
    "    layers.Dense(1, activation='sigmoid')\n",
    "])\n",
    "\n",
    "# Check your answer\n",
    "q_2.check()"
   ]
  },
  {
   "cell_type": "code",
   "execution_count": 6,
   "id": "c3ec28b2",
   "metadata": {
    "execution": {
     "iopub.execute_input": "2022-07-01T13:44:33.392385Z",
     "iopub.status.busy": "2022-07-01T13:44:33.392139Z",
     "iopub.status.idle": "2022-07-01T13:44:33.395974Z",
     "shell.execute_reply": "2022-07-01T13:44:33.394971Z"
    },
    "papermill": {
     "duration": 0.012236,
     "end_time": "2022-07-01T13:44:33.398114",
     "exception": false,
     "start_time": "2022-07-01T13:44:33.385878",
     "status": "completed"
    },
    "tags": []
   },
   "outputs": [],
   "source": [
    "# Lines below will give you a hint or solution code\n",
    "#q_2.hint()\n",
    "#q_2.solution()"
   ]
  },
  {
   "cell_type": "markdown",
   "id": "272ab5b2",
   "metadata": {
    "papermill": {
     "duration": 0.005533,
     "end_time": "2022-07-01T13:44:33.409260",
     "exception": false,
     "start_time": "2022-07-01T13:44:33.403727",
     "status": "completed"
    },
    "tags": []
   },
   "source": [
    "# 3) Train #\n",
    "\n",
    "Before training a model in Keras, you need to specify an *optimizer* to perform the gradient descent, a *loss function* to be minimized, and (optionally) any *performance metrics*. The optimization algorithm we'll use for this course is called [\"Adam\"](https://keras.io/api/optimizers/adam/), which generally performs well regardless of what kind of problem you're trying to solve.\n",
    "\n",
    "The loss and the metrics, however, need to match the kind of problem you're trying to solve. Our problem is a **binary classification** problem: `Car` coded as 0, and `Truck` coded as 1. Choose an appropriate loss and an appropriate accuracy metric for binary classification."
   ]
  },
  {
   "cell_type": "code",
   "execution_count": 7,
   "id": "f1f2d146",
   "metadata": {
    "execution": {
     "iopub.execute_input": "2022-07-01T13:44:33.421321Z",
     "iopub.status.busy": "2022-07-01T13:44:33.421069Z",
     "iopub.status.idle": "2022-07-01T13:44:33.609069Z",
     "shell.execute_reply": "2022-07-01T13:44:33.607891Z"
    },
    "lines_to_next_cell": 0,
    "papermill": {
     "duration": 0.196681,
     "end_time": "2022-07-01T13:44:33.611393",
     "exception": false,
     "start_time": "2022-07-01T13:44:33.414712",
     "status": "completed"
    },
    "tags": []
   },
   "outputs": [
    {
     "data": {
      "application/javascript": [
       "parent.postMessage({\"jupyterEvent\": \"custom.exercise_interaction\", \"data\": {\"outcomeType\": 1, \"valueTowardsCompletion\": 0.25, \"interactionType\": 1, \"questionType\": 2, \"questionId\": \"3_Q3\", \"learnToolsVersion\": \"0.3.4\", \"failureMessage\": \"\", \"exceptionClass\": \"\", \"trace\": \"\"}}, \"*\")"
      ],
      "text/plain": [
       "<IPython.core.display.Javascript object>"
      ]
     },
     "metadata": {},
     "output_type": "display_data"
    },
    {
     "data": {
      "text/markdown": [
       "<span style=\"color:#33cc33\">Correct</span>"
      ],
      "text/plain": [
       "Correct"
      ]
     },
     "metadata": {},
     "output_type": "display_data"
    }
   ],
   "source": [
    "# YOUR CODE HERE: what loss function should you use for a binary\n",
    "# classification problem? (Your answer for each should be a string.)\n",
    "optimizer = tf.keras.optimizers.Adam(epsilon=0.01)\n",
    "model.compile(\n",
    "    optimizer=optimizer,\n",
    "    loss = 'binary_crossentropy',\n",
    "    metrics=['binary_accuracy'],\n",
    ")\n",
    "\n",
    "# Check your answer\n",
    "q_3.check()"
   ]
  },
  {
   "cell_type": "code",
   "execution_count": 8,
   "id": "cb1ba6b7",
   "metadata": {
    "execution": {
     "iopub.execute_input": "2022-07-01T13:44:33.624657Z",
     "iopub.status.busy": "2022-07-01T13:44:33.624387Z",
     "iopub.status.idle": "2022-07-01T13:44:33.628471Z",
     "shell.execute_reply": "2022-07-01T13:44:33.627474Z"
    },
    "lines_to_next_cell": 0,
    "papermill": {
     "duration": 0.013303,
     "end_time": "2022-07-01T13:44:33.630560",
     "exception": false,
     "start_time": "2022-07-01T13:44:33.617257",
     "status": "completed"
    },
    "tags": []
   },
   "outputs": [],
   "source": [
    "# Lines below will give you a hint or solution code\n",
    "#q_3.hint()\n",
    "#q_3.solution()"
   ]
  },
  {
   "cell_type": "code",
   "execution_count": 9,
   "id": "177c139b",
   "metadata": {
    "execution": {
     "iopub.execute_input": "2022-07-01T13:44:33.643377Z",
     "iopub.status.busy": "2022-07-01T13:44:33.643105Z",
     "iopub.status.idle": "2022-07-01T13:47:23.185295Z",
     "shell.execute_reply": "2022-07-01T13:47:23.184116Z"
    },
    "papermill": {
     "duration": 169.551535,
     "end_time": "2022-07-01T13:47:23.187838",
     "exception": false,
     "start_time": "2022-07-01T13:44:33.636303",
     "status": "completed"
    },
    "tags": []
   },
   "outputs": [
    {
     "name": "stderr",
     "output_type": "stream",
     "text": [
      "2022-07-01 13:44:33.678870: I tensorflow/compiler/mlir/mlir_graph_optimization_pass.cc:185] None of the MLIR Optimization Passes are enabled (registered 2)\n"
     ]
    },
    {
     "name": "stdout",
     "output_type": "stream",
     "text": [
      "Epoch 1/30\n"
     ]
    },
    {
     "name": "stderr",
     "output_type": "stream",
     "text": [
      "2022-07-01 13:44:39.876303: I tensorflow/stream_executor/cuda/cuda_dnn.cc:369] Loaded cuDNN version 8005\n"
     ]
    },
    {
     "name": "stdout",
     "output_type": "stream",
     "text": [
      "80/80 [==============================] - 35s 294ms/step - loss: 0.7006 - binary_accuracy: 0.5419 - val_loss: 0.6893 - val_binary_accuracy: 0.6003\n",
      "Epoch 2/30\n",
      "80/80 [==============================] - 3s 43ms/step - loss: 0.6814 - binary_accuracy: 0.6490 - val_loss: 0.6632 - val_binary_accuracy: 0.7468\n",
      "Epoch 3/30\n",
      "80/80 [==============================] - 3s 41ms/step - loss: 0.6384 - binary_accuracy: 0.7340 - val_loss: 0.6062 - val_binary_accuracy: 0.7854\n",
      "Epoch 4/30\n",
      "80/80 [==============================] - 3s 41ms/step - loss: 0.5872 - binary_accuracy: 0.7799 - val_loss: 0.5632 - val_binary_accuracy: 0.8125\n",
      "Epoch 5/30\n",
      "80/80 [==============================] - 3s 41ms/step - loss: 0.5522 - binary_accuracy: 0.8013 - val_loss: 0.5348 - val_binary_accuracy: 0.8284\n",
      "Epoch 6/30\n",
      "80/80 [==============================] - 3s 42ms/step - loss: 0.5273 - binary_accuracy: 0.8165 - val_loss: 0.5126 - val_binary_accuracy: 0.8313\n",
      "Epoch 7/30\n",
      "80/80 [==============================] - 3s 41ms/step - loss: 0.5072 - binary_accuracy: 0.8247 - val_loss: 0.4958 - val_binary_accuracy: 0.8363\n",
      "Epoch 8/30\n",
      "80/80 [==============================] - 3s 41ms/step - loss: 0.4908 - binary_accuracy: 0.8306 - val_loss: 0.4818 - val_binary_accuracy: 0.8386\n",
      "Epoch 9/30\n",
      "80/80 [==============================] - 3s 41ms/step - loss: 0.4760 - binary_accuracy: 0.8355 - val_loss: 0.4697 - val_binary_accuracy: 0.8416\n",
      "Epoch 10/30\n",
      "80/80 [==============================] - 3s 41ms/step - loss: 0.4629 - binary_accuracy: 0.8409 - val_loss: 0.4592 - val_binary_accuracy: 0.8412\n",
      "Epoch 11/30\n",
      "80/80 [==============================] - 3s 42ms/step - loss: 0.4511 - binary_accuracy: 0.8456 - val_loss: 0.4491 - val_binary_accuracy: 0.8434\n",
      "Epoch 12/30\n",
      "80/80 [==============================] - 3s 41ms/step - loss: 0.4404 - binary_accuracy: 0.8493 - val_loss: 0.4406 - val_binary_accuracy: 0.8450\n",
      "Epoch 13/30\n",
      "80/80 [==============================] - 3s 41ms/step - loss: 0.4307 - binary_accuracy: 0.8521 - val_loss: 0.4323 - val_binary_accuracy: 0.8474\n",
      "Epoch 14/30\n",
      "80/80 [==============================] - 3s 41ms/step - loss: 0.4215 - binary_accuracy: 0.8556 - val_loss: 0.4250 - val_binary_accuracy: 0.8489\n",
      "Epoch 15/30\n",
      "80/80 [==============================] - 3s 41ms/step - loss: 0.4132 - binary_accuracy: 0.8581 - val_loss: 0.4182 - val_binary_accuracy: 0.8487\n",
      "Epoch 16/30\n",
      "80/80 [==============================] - 3s 41ms/step - loss: 0.4054 - binary_accuracy: 0.8593 - val_loss: 0.4123 - val_binary_accuracy: 0.8501\n",
      "Epoch 17/30\n",
      "80/80 [==============================] - 3s 42ms/step - loss: 0.3978 - binary_accuracy: 0.8624 - val_loss: 0.4065 - val_binary_accuracy: 0.8497\n",
      "Epoch 18/30\n",
      "80/80 [==============================] - 3s 41ms/step - loss: 0.3904 - binary_accuracy: 0.8648 - val_loss: 0.4015 - val_binary_accuracy: 0.8509\n",
      "Epoch 19/30\n",
      "80/80 [==============================] - 3s 41ms/step - loss: 0.3838 - binary_accuracy: 0.8663 - val_loss: 0.3968 - val_binary_accuracy: 0.8511\n",
      "Epoch 20/30\n",
      "80/80 [==============================] - 3s 41ms/step - loss: 0.3773 - binary_accuracy: 0.8677 - val_loss: 0.3930 - val_binary_accuracy: 0.8513\n",
      "Epoch 21/30\n",
      "80/80 [==============================] - 3s 41ms/step - loss: 0.3713 - binary_accuracy: 0.8677 - val_loss: 0.3885 - val_binary_accuracy: 0.8505\n",
      "Epoch 22/30\n",
      "80/80 [==============================] - 3s 42ms/step - loss: 0.3654 - binary_accuracy: 0.8687 - val_loss: 0.3846 - val_binary_accuracy: 0.8515\n",
      "Epoch 23/30\n",
      "80/80 [==============================] - 3s 41ms/step - loss: 0.3599 - binary_accuracy: 0.8716 - val_loss: 0.3811 - val_binary_accuracy: 0.8521\n",
      "Epoch 24/30\n",
      "80/80 [==============================] - 3s 41ms/step - loss: 0.3542 - binary_accuracy: 0.8726 - val_loss: 0.3786 - val_binary_accuracy: 0.8527\n",
      "Epoch 25/30\n",
      "80/80 [==============================] - 3s 43ms/step - loss: 0.3488 - binary_accuracy: 0.8741 - val_loss: 0.3758 - val_binary_accuracy: 0.8517\n",
      "Epoch 26/30\n",
      "80/80 [==============================] - 3s 41ms/step - loss: 0.3440 - binary_accuracy: 0.8741 - val_loss: 0.3730 - val_binary_accuracy: 0.8511\n",
      "Epoch 27/30\n",
      "80/80 [==============================] - 3s 42ms/step - loss: 0.3396 - binary_accuracy: 0.8767 - val_loss: 0.3697 - val_binary_accuracy: 0.8523\n",
      "Epoch 28/30\n",
      "80/80 [==============================] - 3s 41ms/step - loss: 0.3350 - binary_accuracy: 0.8782 - val_loss: 0.3672 - val_binary_accuracy: 0.8535\n",
      "Epoch 29/30\n",
      "80/80 [==============================] - 3s 42ms/step - loss: 0.3304 - binary_accuracy: 0.8800 - val_loss: 0.3636 - val_binary_accuracy: 0.8549\n",
      "Epoch 30/30\n",
      "80/80 [==============================] - 3s 41ms/step - loss: 0.3258 - binary_accuracy: 0.8802 - val_loss: 0.3613 - val_binary_accuracy: 0.8547\n"
     ]
    }
   ],
   "source": [
    "history = model.fit(\n",
    "    ds_train,\n",
    "    validation_data=ds_valid,\n",
    "    epochs=30,\n",
    ")"
   ]
  },
  {
   "cell_type": "markdown",
   "id": "c07f343f",
   "metadata": {
    "papermill": {
     "duration": 0.058418,
     "end_time": "2022-07-01T13:47:23.304113",
     "exception": false,
     "start_time": "2022-07-01T13:47:23.245695",
     "status": "completed"
    },
    "tags": []
   },
   "source": [
    "Run the cell below to plot the loss and metric curves for this training run."
   ]
  },
  {
   "cell_type": "code",
   "execution_count": 10,
   "id": "e9f5697a",
   "metadata": {
    "execution": {
     "iopub.execute_input": "2022-07-01T13:47:23.419921Z",
     "iopub.status.busy": "2022-07-01T13:47:23.419560Z",
     "iopub.status.idle": "2022-07-01T13:47:23.920252Z",
     "shell.execute_reply": "2022-07-01T13:47:23.919325Z"
    },
    "papermill": {
     "duration": 0.56123,
     "end_time": "2022-07-01T13:47:23.922518",
     "exception": false,
     "start_time": "2022-07-01T13:47:23.361288",
     "status": "completed"
    },
    "tags": []
   },
   "outputs": [
    {
     "data": {
      "image/png": "[encoded data removed]",
      "text/plain": [
       "<Figure size 432x288 with 1 Axes>"
      ]
     },
     "metadata": {
      "needs_background": "light"
     },
     "output_type": "display_data"
    },
    {
     "data": {
      "image/png": "[encoded data removed]",
      "text/plain": [
       "<Figure size 432x288 with 1 Axes>"
      ]
     },
     "metadata": {
      "needs_background": "light"
     },
     "output_type": "display_data"
    }
   ],
   "source": [
    "import pandas as pd\n",
    "history_frame = pd.DataFrame(history.history)\n",
    "history_frame.loc[:, ['loss', 'val_loss']].plot()\n",
    "history_frame.loc[:, ['binary_accuracy', 'val_binary_accuracy']].plot();"
   ]
  },
  {
   "cell_type": "markdown",
   "id": "b9c404aa",
   "metadata": {
    "papermill": {
     "duration": 0.058342,
     "end_time": "2022-07-01T13:47:24.043011",
     "exception": false,
     "start_time": "2022-07-01T13:47:23.984669",
     "status": "completed"
    },
    "tags": []
   },
   "source": [
    "# 4) Examine Loss and Accuracy #\n",
    "\n",
    "Do you notice a difference between these learning curves and the curves for VGG16 from the tutorial? What does this difference tell you about what this model (InceptionV2) learned compared to VGG16? Are there ways in which one is better than the other? Worse?\n",
    "\n",
    "After you've thought about it, run the cell below to see the answer."
   ]
  },
  {
   "cell_type": "code",
   "execution_count": 11,
   "id": "ac8c3b39",
   "metadata": {
    "execution": {
     "iopub.execute_input": "2022-07-01T13:47:24.160828Z",
     "iopub.status.busy": "2022-07-01T13:47:24.160487Z",
     "iopub.status.idle": "2022-07-01T13:47:24.168680Z",
     "shell.execute_reply": "2022-07-01T13:47:24.167671Z"
    },
    "papermill": {
     "duration": 0.070946,
     "end_time": "2022-07-01T13:47:24.171962",
     "exception": false,
     "start_time": "2022-07-01T13:47:24.101016",
     "status": "completed"
    },
    "tags": []
   },
   "outputs": [
    {
     "data": {
      "application/javascript": [
       "parent.postMessage({\"jupyterEvent\": \"custom.exercise_interaction\", \"data\": {\"outcomeType\": 1, \"valueTowardsCompletion\": 0.25, \"interactionType\": 1, \"questionType\": 4, \"questionId\": \"4_Q4\", \"learnToolsVersion\": \"0.3.4\", \"failureMessage\": \"\", \"exceptionClass\": \"\", \"trace\": \"\"}}, \"*\")"
      ],
      "text/plain": [
       "<IPython.core.display.Javascript object>"
      ]
     },
     "metadata": {},
     "output_type": "display_data"
    },
    {
     "data": {
      "text/markdown": [
       "<span style=\"color:#33cc33\">Correct:</span> \n",
       "\n",
       "That the training loss and validation loss stay fairly close is evidence that the model isn't just memorizing the training data, but rather learning general properties of the two classes. But, because this model converges at a loss greater than the VGG16 model, it's likely that it is underfitting some, and could benefit from some extra capacity.\n"
      ],
      "text/plain": [
       "Correct: \n",
       "\n",
       "That the training loss and validation loss stay fairly close is evidence that the model isn't just memorizing the training data, but rather learning general properties of the two classes. But, because this model converges at a loss greater than the VGG16 model, it's likely that it is underfitting some, and could benefit from some extra capacity."
      ]
     },
     "metadata": {},
     "output_type": "display_data"
    }
   ],
   "source": [
    "# View the solution (Run this code cell to receive credit!)\n",
    "q_4.check()"
   ]
  },
  {
   "cell_type": "markdown",
   "id": "00d10e62",
   "metadata": {
    "papermill": {
     "duration": 0.058895,
     "end_time": "2022-07-01T13:47:24.288509",
     "exception": false,
     "start_time": "2022-07-01T13:47:24.229614",
     "status": "completed"
    },
    "tags": []
   },
   "source": [
    "# Conclusion #\n",
    "\n",
    "In this first lesson, you learned the basics of **convolutional image classifiers**, that they consist of a **base** for extracting features from images, and a **head** which uses the features to decide the image's class. You also saw how to build a classifier with **transfer learning** on pretrained base. "
   ]
  },
  {
   "cell_type": "markdown",
   "id": "a7096cad",
   "metadata": {
    "papermill": {
     "duration": 0.058751,
     "end_time": "2022-07-01T13:47:24.405819",
     "exception": false,
     "start_time": "2022-07-01T13:47:24.347068",
     "status": "completed"
    },
    "tags": []
   },
   "source": [
    "# Keep Going #\n",
    "\n",
    "Move on to [**Lesson 2**](https://www.kaggle.com/ryanholbrook/convolution-and-relu) for a detailed look at how the base does this feature extraction. (It's really cool!)"
   ]
  },
  {
   "cell_type": "markdown",
   "id": "4d1932f6",
   "metadata": {
    "papermill": {
     "duration": 0.058148,
     "end_time": "2022-07-01T13:47:24.522716",
     "exception": false,
     "start_time": "2022-07-01T13:47:24.464568",
     "status": "completed"
    },
    "tags": []
   },
   "source": [
    "---\n",
    "\n",
    "\n",
    "\n",
    "\n",
    "*Have questions or comments? Visit the [course discussion forum](https://www.kaggle.com/learn/computer-vision/discussion) to chat with other learners.*"
   ]
  }
 ],
 "metadata": {
  "kernelspec": {
   "display_name": "Python 3",
   "language": "python",
   "name": "python3"
  },
  "language_info": {
   "codemirror_mode": {
    "name": "ipython",
    "version": 3
   },
   "file_extension": ".py",
   "mimetype": "text/x-python",
   "name": "python",
   "nbconvert_exporter": "python",
   "pygments_lexer": "ipython3",
   "version": "3.7.12"
  },
  "papermill": {
   "default_parameters": {},
   "duration": 198.369412,
   "end_time": "2022-07-01T13:47:27.813552",
   "environment_variables": {},
   "exception": null,
   "input_path": "__notebook__.ipynb",
   "output_path": "__notebook__.ipynb",
   "parameters": {},
   "start_time": "2022-07-01T13:44:09.444140",
   "version": "2.3.4"
  }
 },
 "nbformat": 4,
 "nbformat_minor": 5
}
