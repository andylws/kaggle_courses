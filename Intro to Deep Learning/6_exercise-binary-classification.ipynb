{
 "cells": [
  {
   "cell_type": "markdown",
   "id": "96f49c63",
   "metadata": {
    "papermill": {
     "duration": 0.004594,
     "end_time": "2022-06-25T13:37:09.362017",
     "exception": false,
     "start_time": "2022-06-25T13:37:09.357423",
     "status": "completed"
    },
    "tags": []
   },
   "source": [
    "**This notebook is an exercise in the [Intro to Deep Learning](https://www.kaggle.com/learn/intro-to-deep-learning) course.  You can reference the tutorial at [this link](https://www.kaggle.com/ryanholbrook/binary-classification).**\n",
    "\n",
    "---\n"
   ]
  },
  {
   "cell_type": "markdown",
   "id": "6ab64533",
   "metadata": {
    "papermill": {
     "duration": 0.003272,
     "end_time": "2022-06-25T13:37:09.368937",
     "exception": false,
     "start_time": "2022-06-25T13:37:09.365665",
     "status": "completed"
    },
    "tags": []
   },
   "source": [
    "# Introduction #\n",
    "\n",
    "In this exercise, you'll build a model to predict hotel cancellations with a binary classifier."
   ]
  },
  {
   "cell_type": "code",
   "execution_count": 1,
   "id": "7847a614",
   "metadata": {
    "execution": {
     "iopub.execute_input": "2022-06-25T13:37:09.377788Z",
     "iopub.status.busy": "2022-06-25T13:37:09.377311Z",
     "iopub.status.idle": "2022-06-25T13:37:09.407356Z",
     "shell.execute_reply": "2022-06-25T13:37:09.406502Z"
    },
    "lines_to_next_cell": 0,
    "papermill": {
     "duration": 0.037462,
     "end_time": "2022-06-25T13:37:09.409859",
     "exception": false,
     "start_time": "2022-06-25T13:37:09.372397",
     "status": "completed"
    },
    "tags": []
   },
   "outputs": [],
   "source": [
    "# Setup plotting\n",
    "import matplotlib.pyplot as plt\n",
    "plt.style.use('seaborn-whitegrid')\n",
    "# Set Matplotlib defaults\n",
    "plt.rc('figure', autolayout=True)\n",
    "plt.rc('axes', labelweight='bold', labelsize='large',\n",
    "       titleweight='bold', titlesize=18, titlepad=10)\n",
    "plt.rc('animation', html='html5')\n",
    "\n",
    "# Setup feedback system\n",
    "from learntools.core import binder\n",
    "binder.bind(globals())\n",
    "from learntools.deep_learning_intro.ex6 import *"
   ]
  },
  {
   "cell_type": "markdown",
   "id": "a5070555",
   "metadata": {
    "papermill": {
     "duration": 0.003304,
     "end_time": "2022-06-25T13:37:09.417063",
     "exception": false,
     "start_time": "2022-06-25T13:37:09.413759",
     "status": "completed"
    },
    "tags": []
   },
   "source": [
    "First, load the *Hotel Cancellations* dataset."
   ]
  },
  {
   "cell_type": "code",
   "execution_count": 2,
   "id": "9bcff78d",
   "metadata": {
    "execution": {
     "iopub.execute_input": "2022-06-25T13:37:09.425497Z",
     "iopub.status.busy": "2022-06-25T13:37:09.424864Z",
     "iopub.status.idle": "2022-06-25T13:37:11.555001Z",
     "shell.execute_reply": "2022-06-25T13:37:11.554005Z"
    },
    "lines_to_next_cell": 2,
    "papermill": {
     "duration": 2.136827,
     "end_time": "2022-06-25T13:37:11.557325",
     "exception": false,
     "start_time": "2022-06-25T13:37:09.420498",
     "status": "completed"
    },
    "tags": []
   },
   "outputs": [],
   "source": [
    "import pandas as pd\n",
    "\n",
    "from sklearn.model_selection import train_test_split\n",
    "from sklearn.preprocessing import StandardScaler, OneHotEncoder\n",
    "from sklearn.impute import SimpleImputer\n",
    "from sklearn.pipeline import make_pipeline\n",
    "from sklearn.compose import make_column_transformer\n",
    "\n",
    "hotel = pd.read_csv('../input/dl-course-data/hotel.csv')\n",
    "\n",
    "X = hotel.copy()\n",
    "y = X.pop('is_canceled')\n",
    "\n",
    "X['arrival_date_month'] = \\\n",
    "    X['arrival_date_month'].map(\n",
    "        {'January':1, 'February': 2, 'March':3,\n",
    "         'April':4, 'May':5, 'June':6, 'July':7,\n",
    "         'August':8, 'September':9, 'October':10,\n",
    "         'November':11, 'December':12}\n",
    "    )\n",
    "\n",
    "features_num = [\n",
    "    \"lead_time\", \"arrival_date_week_number\",\n",
    "    \"arrival_date_day_of_month\", \"stays_in_weekend_nights\",\n",
    "    \"stays_in_week_nights\", \"adults\", \"children\", \"babies\",\n",
    "    \"is_repeated_guest\", \"previous_cancellations\",\n",
    "    \"previous_bookings_not_canceled\", \"required_car_parking_spaces\",\n",
    "    \"total_of_special_requests\", \"adr\",\n",
    "]\n",
    "features_cat = [\n",
    "    \"hotel\", \"arrival_date_month\", \"meal\",\n",
    "    \"market_segment\", \"distribution_channel\",\n",
    "    \"reserved_room_type\", \"deposit_type\", \"customer_type\",\n",
    "]\n",
    "\n",
    "transformer_num = make_pipeline(\n",
    "    SimpleImputer(strategy=\"constant\"), # there are a few missing values\n",
    "    StandardScaler(),\n",
    ")\n",
    "transformer_cat = make_pipeline(\n",
    "    SimpleImputer(strategy=\"constant\", fill_value=\"NA\"),\n",
    "    OneHotEncoder(handle_unknown='ignore'),\n",
    ")\n",
    "\n",
    "preprocessor = make_column_transformer(\n",
    "    (transformer_num, features_num),\n",
    "    (transformer_cat, features_cat),\n",
    ")\n",
    "\n",
    "# stratify - make sure classes are evenlly represented across splits\n",
    "X_train, X_valid, y_train, y_valid = \\\n",
    "    train_test_split(X, y, stratify=y, train_size=0.75)\n",
    "\n",
    "X_train = preprocessor.fit_transform(X_train)\n",
    "X_valid = preprocessor.transform(X_valid)\n",
    "\n",
    "input_shape = [X_train.shape[1]]"
   ]
  },
  {
   "cell_type": "markdown",
   "id": "07d6ccf2",
   "metadata": {
    "papermill": {
     "duration": 0.003561,
     "end_time": "2022-06-25T13:37:11.564942",
     "exception": false,
     "start_time": "2022-06-25T13:37:11.561381",
     "status": "completed"
    },
    "tags": []
   },
   "source": [
    "# 1) Define Model #\n",
    "\n",
    "The model we'll use this time will have both batch normalization and dropout layers. To ease reading we've broken the diagram into blocks, but you can define it layer by layer as usual.\n",
    "\n",
    "Define a model with an architecture given by this diagram:\n",
    "\n",
    "<figure style=\"padding: 1em;\">\n",
    "<img src=\"https://i.imgur.com/V04o59Z.png\" width=\"400\" alt=\"Diagram of network architecture: BatchNorm, Dense, BatchNorm, Dropout, Dense, BatchNorm, Dropout, Dense.\">\n",
    "<figcaption style=\"textalign: center; font-style: italic\"><center>Diagram of a binary classifier.</center></figcaption>\n",
    "</figure>\n"
   ]
  },
  {
   "cell_type": "code",
   "execution_count": 3,
   "id": "751a399b",
   "metadata": {
    "execution": {
     "iopub.execute_input": "2022-06-25T13:37:11.573461Z",
     "iopub.status.busy": "2022-06-25T13:37:11.573158Z",
     "iopub.status.idle": "2022-06-25T13:37:19.103778Z",
     "shell.execute_reply": "2022-06-25T13:37:19.102711Z"
    },
    "lines_to_next_cell": 2,
    "papermill": {
     "duration": 7.537215,
     "end_time": "2022-06-25T13:37:19.105837",
     "exception": false,
     "start_time": "2022-06-25T13:37:11.568622",
     "status": "completed"
    },
    "tags": []
   },
   "outputs": [
    {
     "name": "stderr",
     "output_type": "stream",
     "text": [
      "2022-06-25 13:37:16.606290: I tensorflow/stream_executor/cuda/cuda_gpu_executor.cc:937] successful NUMA node read from SysFS had negative value (-1), but there must be at least one NUMA node, so returning NUMA node zero\n",
      "2022-06-25 13:37:16.707581: I tensorflow/stream_executor/cuda/cuda_gpu_executor.cc:937] successful NUMA node read from SysFS had negative value (-1), but there must be at least one NUMA node, so returning NUMA node zero\n",
      "2022-06-25 13:37:16.708474: I tensorflow/stream_executor/cuda/cuda_gpu_executor.cc:937] successful NUMA node read from SysFS had negative value (-1), but there must be at least one NUMA node, so returning NUMA node zero\n",
      "2022-06-25 13:37:16.710102: I tensorflow/core/platform/cpu_feature_guard.cc:142] This TensorFlow binary is optimized with oneAPI Deep Neural Network Library (oneDNN) to use the following CPU instructions in performance-critical operations:  AVX2 AVX512F FMA\n",
      "To enable them in other operations, rebuild TensorFlow with the appropriate compiler flags.\n",
      "2022-06-25 13:37:16.716696: I tensorflow/stream_executor/cuda/cuda_gpu_executor.cc:937] successful NUMA node read from SysFS had negative value (-1), but there must be at least one NUMA node, so returning NUMA node zero\n",
      "2022-06-25 13:37:16.717388: I tensorflow/stream_executor/cuda/cuda_gpu_executor.cc:937] successful NUMA node read from SysFS had negative value (-1), but there must be at least one NUMA node, so returning NUMA node zero\n",
      "2022-06-25 13:37:16.718058: I tensorflow/stream_executor/cuda/cuda_gpu_executor.cc:937] successful NUMA node read from SysFS had negative value (-1), but there must be at least one NUMA node, so returning NUMA node zero\n",
      "2022-06-25 13:37:18.774766: I tensorflow/stream_executor/cuda/cuda_gpu_executor.cc:937] successful NUMA node read from SysFS had negative value (-1), but there must be at least one NUMA node, so returning NUMA node zero\n",
      "2022-06-25 13:37:18.775546: I tensorflow/stream_executor/cuda/cuda_gpu_executor.cc:937] successful NUMA node read from SysFS had negative value (-1), but there must be at least one NUMA node, so returning NUMA node zero\n",
      "2022-06-25 13:37:18.776225: I tensorflow/stream_executor/cuda/cuda_gpu_executor.cc:937] successful NUMA node read from SysFS had negative value (-1), but there must be at least one NUMA node, so returning NUMA node zero\n",
      "2022-06-25 13:37:18.776860: I tensorflow/core/common_runtime/gpu/gpu_device.cc:1510] Created device /job:localhost/replica:0/task:0/device:GPU:0 with 15403 MB memory:  -> device: 0, name: Tesla P100-PCIE-16GB, pci bus id: 0000:00:04.0, compute capability: 6.0\n"
     ]
    },
    {
     "data": {
      "application/javascript": [
       "parent.postMessage({\"jupyterEvent\": \"custom.exercise_interaction\", \"data\": {\"outcomeType\": 1, \"valueTowardsCompletion\": 0.3333333333333333, \"interactionType\": 1, \"questionType\": 2, \"questionId\": \"1_Q1\", \"learnToolsVersion\": \"0.3.4\", \"failureMessage\": \"\", \"exceptionClass\": \"\", \"trace\": \"\"}}, \"*\")"
      ],
      "text/plain": [
       "<IPython.core.display.Javascript object>"
      ]
     },
     "metadata": {},
     "output_type": "display_data"
    },
    {
     "data": {
      "text/markdown": [
       "<span style=\"color:#33cc33\">Correct</span>"
      ],
      "text/plain": [
       "Correct"
      ]
     },
     "metadata": {},
     "output_type": "display_data"
    }
   ],
   "source": [
    "from tensorflow import keras\n",
    "from tensorflow.keras import layers\n",
    "\n",
    "# YOUR CODE HERE: define the model given in the diagram\n",
    "model = keras.Sequential([\n",
    "    layers.BatchNormalization(),\n",
    "    layers.Dense(256, activation='relu'),\n",
    "    layers.BatchNormalization(),\n",
    "    layers.Dropout(0.3),\n",
    "    layers.Dense(256, activation='relu'),\n",
    "    layers.BatchNormalization(),\n",
    "    layers.Dropout(0.3),\n",
    "    layers.Dense(1, activation='sigmoid')\n",
    "])\n",
    "\n",
    "# Check your answer\n",
    "q_1.check()"
   ]
  },
  {
   "cell_type": "markdown",
   "id": "55dd2825",
   "metadata": {
    "papermill": {
     "duration": 0.004235,
     "end_time": "2022-06-25T13:37:19.114184",
     "exception": false,
     "start_time": "2022-06-25T13:37:19.109949",
     "status": "completed"
    },
    "tags": []
   },
   "source": [
    "# 2) Add Optimizer, Loss, and Metric #\n",
    "\n",
    "Now compile the model with the Adam optimizer and binary versions of the cross-entropy loss and accuracy metric."
   ]
  },
  {
   "cell_type": "code",
   "execution_count": 4,
   "id": "50c19a41",
   "metadata": {
    "execution": {
     "iopub.execute_input": "2022-06-25T13:37:19.123836Z",
     "iopub.status.busy": "2022-06-25T13:37:19.122665Z",
     "iopub.status.idle": "2022-06-25T13:37:19.143068Z",
     "shell.execute_reply": "2022-06-25T13:37:19.141849Z"
    },
    "lines_to_next_cell": 0,
    "papermill": {
     "duration": 0.027882,
     "end_time": "2022-06-25T13:37:19.145877",
     "exception": false,
     "start_time": "2022-06-25T13:37:19.117995",
     "status": "completed"
    },
    "tags": []
   },
   "outputs": [
    {
     "data": {
      "application/javascript": [
       "parent.postMessage({\"jupyterEvent\": \"custom.exercise_interaction\", \"data\": {\"outcomeType\": 1, \"valueTowardsCompletion\": 0.3333333333333333, \"interactionType\": 1, \"questionType\": 2, \"questionId\": \"2_Q2\", \"learnToolsVersion\": \"0.3.4\", \"failureMessage\": \"\", \"exceptionClass\": \"\", \"trace\": \"\"}}, \"*\")"
      ],
      "text/plain": [
       "<IPython.core.display.Javascript object>"
      ]
     },
     "metadata": {},
     "output_type": "display_data"
    },
    {
     "data": {
      "text/markdown": [
       "<span style=\"color:#33cc33\">Correct</span>"
      ],
      "text/plain": [
       "Correct"
      ]
     },
     "metadata": {},
     "output_type": "display_data"
    }
   ],
   "source": [
    "# YOUR CODE HERE\n",
    "model.compile(\n",
    "    optimizer='adam',\n",
    "    loss='binary_crossentropy',\n",
    "    metrics=['binary_accuracy']\n",
    ")\n",
    "\n",
    "# Check your answer\n",
    "q_2.check()"
   ]
  },
  {
   "cell_type": "code",
   "execution_count": 5,
   "id": "19db3800",
   "metadata": {
    "execution": {
     "iopub.execute_input": "2022-06-25T13:37:19.155028Z",
     "iopub.status.busy": "2022-06-25T13:37:19.154779Z",
     "iopub.status.idle": "2022-06-25T13:37:19.158238Z",
     "shell.execute_reply": "2022-06-25T13:37:19.157331Z"
    },
    "lines_to_next_cell": 0,
    "papermill": {
     "duration": 0.010139,
     "end_time": "2022-06-25T13:37:19.160050",
     "exception": false,
     "start_time": "2022-06-25T13:37:19.149911",
     "status": "completed"
    },
    "tags": []
   },
   "outputs": [],
   "source": [
    "# Lines below will give you a hint or solution code\n",
    "#q_2.hint()\n",
    "#q_2.solution()"
   ]
  },
  {
   "cell_type": "markdown",
   "id": "71c0b63c",
   "metadata": {
    "papermill": {
     "duration": 0.003951,
     "end_time": "2022-06-25T13:37:19.168022",
     "exception": false,
     "start_time": "2022-06-25T13:37:19.164071",
     "status": "completed"
    },
    "tags": []
   },
   "source": [
    "Finally, run this cell to train the model and view the learning curves. It may run for around 60 to 70 epochs, which could take a minute or two."
   ]
  },
  {
   "cell_type": "code",
   "execution_count": 6,
   "id": "e170e9b9",
   "metadata": {
    "execution": {
     "iopub.execute_input": "2022-06-25T13:37:19.177183Z",
     "iopub.status.busy": "2022-06-25T13:37:19.176945Z",
     "iopub.status.idle": "2022-06-25T13:37:58.209623Z",
     "shell.execute_reply": "2022-06-25T13:37:58.208601Z"
    },
    "papermill": {
     "duration": 39.039792,
     "end_time": "2022-06-25T13:37:58.211850",
     "exception": false,
     "start_time": "2022-06-25T13:37:19.172058",
     "status": "completed"
    },
    "tags": []
   },
   "outputs": [
    {
     "name": "stderr",
     "output_type": "stream",
     "text": [
      "2022-06-25 13:37:19.296464: I tensorflow/compiler/mlir/mlir_graph_optimization_pass.cc:185] None of the MLIR Optimization Passes are enabled (registered 2)\n"
     ]
    },
    {
     "name": "stdout",
     "output_type": "stream",
     "text": [
      "Epoch 1/200\n",
      "175/175 [==============================] - 3s 5ms/step - loss: 0.4810 - binary_accuracy: 0.7719 - val_loss: 0.4324 - val_binary_accuracy: 0.8028\n",
      "Epoch 2/200\n",
      "175/175 [==============================] - 1s 5ms/step - loss: 0.4223 - binary_accuracy: 0.8018 - val_loss: 0.4054 - val_binary_accuracy: 0.8119\n",
      "Epoch 3/200\n",
      "175/175 [==============================] - 1s 5ms/step - loss: 0.4102 - binary_accuracy: 0.8079 - val_loss: 0.3956 - val_binary_accuracy: 0.8183\n",
      "Epoch 4/200\n",
      "175/175 [==============================] - 1s 5ms/step - loss: 0.4012 - binary_accuracy: 0.8133 - val_loss: 0.3887 - val_binary_accuracy: 0.8206\n",
      "Epoch 5/200\n",
      "175/175 [==============================] - 1s 4ms/step - loss: 0.3965 - binary_accuracy: 0.8156 - val_loss: 0.3872 - val_binary_accuracy: 0.8217\n",
      "Epoch 6/200\n",
      "175/175 [==============================] - 1s 5ms/step - loss: 0.3919 - binary_accuracy: 0.8171 - val_loss: 0.3853 - val_binary_accuracy: 0.8229\n",
      "Epoch 7/200\n",
      "175/175 [==============================] - 1s 5ms/step - loss: 0.3883 - binary_accuracy: 0.8188 - val_loss: 0.3795 - val_binary_accuracy: 0.8268\n",
      "Epoch 8/200\n",
      "175/175 [==============================] - 1s 5ms/step - loss: 0.3857 - binary_accuracy: 0.8211 - val_loss: 0.3783 - val_binary_accuracy: 0.8290\n",
      "Epoch 9/200\n",
      "175/175 [==============================] - 1s 4ms/step - loss: 0.3827 - binary_accuracy: 0.8222 - val_loss: 0.3751 - val_binary_accuracy: 0.8303\n",
      "Epoch 10/200\n",
      "175/175 [==============================] - 1s 5ms/step - loss: 0.3791 - binary_accuracy: 0.8243 - val_loss: 0.3715 - val_binary_accuracy: 0.8304\n",
      "Epoch 11/200\n",
      "175/175 [==============================] - 1s 4ms/step - loss: 0.3765 - binary_accuracy: 0.8252 - val_loss: 0.3710 - val_binary_accuracy: 0.8333\n",
      "Epoch 12/200\n",
      "175/175 [==============================] - 1s 4ms/step - loss: 0.3744 - binary_accuracy: 0.8265 - val_loss: 0.3691 - val_binary_accuracy: 0.8325\n",
      "Epoch 13/200\n",
      "175/175 [==============================] - 1s 4ms/step - loss: 0.3735 - binary_accuracy: 0.8269 - val_loss: 0.3705 - val_binary_accuracy: 0.8326\n",
      "Epoch 14/200\n",
      "175/175 [==============================] - 1s 4ms/step - loss: 0.3690 - binary_accuracy: 0.8307 - val_loss: 0.3668 - val_binary_accuracy: 0.8313\n",
      "Epoch 15/200\n",
      "175/175 [==============================] - 1s 5ms/step - loss: 0.3689 - binary_accuracy: 0.8294 - val_loss: 0.3689 - val_binary_accuracy: 0.8331\n",
      "Epoch 16/200\n",
      "175/175 [==============================] - 1s 6ms/step - loss: 0.3655 - binary_accuracy: 0.8317 - val_loss: 0.3636 - val_binary_accuracy: 0.8351\n",
      "Epoch 17/200\n",
      "175/175 [==============================] - 1s 5ms/step - loss: 0.3644 - binary_accuracy: 0.8310 - val_loss: 0.3634 - val_binary_accuracy: 0.8342\n",
      "Epoch 18/200\n",
      "175/175 [==============================] - 1s 5ms/step - loss: 0.3624 - binary_accuracy: 0.8325 - val_loss: 0.3631 - val_binary_accuracy: 0.8341\n",
      "Epoch 19/200\n",
      "175/175 [==============================] - 1s 5ms/step - loss: 0.3614 - binary_accuracy: 0.8337 - val_loss: 0.3611 - val_binary_accuracy: 0.8346\n",
      "Epoch 20/200\n",
      "175/175 [==============================] - 1s 5ms/step - loss: 0.3602 - binary_accuracy: 0.8335 - val_loss: 0.3599 - val_binary_accuracy: 0.8359\n",
      "Epoch 21/200\n",
      "175/175 [==============================] - 1s 4ms/step - loss: 0.3577 - binary_accuracy: 0.8346 - val_loss: 0.3604 - val_binary_accuracy: 0.8356\n",
      "Epoch 22/200\n",
      "175/175 [==============================] - 1s 8ms/step - loss: 0.3566 - binary_accuracy: 0.8359 - val_loss: 0.3588 - val_binary_accuracy: 0.8360\n",
      "Epoch 23/200\n",
      "175/175 [==============================] - 1s 4ms/step - loss: 0.3549 - binary_accuracy: 0.8357 - val_loss: 0.3578 - val_binary_accuracy: 0.8345\n",
      "Epoch 24/200\n",
      "175/175 [==============================] - 1s 4ms/step - loss: 0.3543 - binary_accuracy: 0.8372 - val_loss: 0.3618 - val_binary_accuracy: 0.8330\n",
      "Epoch 25/200\n",
      "175/175 [==============================] - 1s 5ms/step - loss: 0.3527 - binary_accuracy: 0.8376 - val_loss: 0.3565 - val_binary_accuracy: 0.8364\n",
      "Epoch 26/200\n",
      "175/175 [==============================] - 1s 4ms/step - loss: 0.3516 - binary_accuracy: 0.8375 - val_loss: 0.3546 - val_binary_accuracy: 0.8372\n",
      "Epoch 27/200\n",
      "175/175 [==============================] - 1s 4ms/step - loss: 0.3497 - binary_accuracy: 0.8384 - val_loss: 0.3576 - val_binary_accuracy: 0.8360\n",
      "Epoch 28/200\n",
      "175/175 [==============================] - 1s 5ms/step - loss: 0.3493 - binary_accuracy: 0.8390 - val_loss: 0.3542 - val_binary_accuracy: 0.8362\n",
      "Epoch 29/200\n",
      "175/175 [==============================] - 1s 6ms/step - loss: 0.3498 - binary_accuracy: 0.8389 - val_loss: 0.3533 - val_binary_accuracy: 0.8376\n",
      "Epoch 30/200\n",
      "175/175 [==============================] - 1s 5ms/step - loss: 0.3463 - binary_accuracy: 0.8388 - val_loss: 0.3552 - val_binary_accuracy: 0.8372\n",
      "Epoch 31/200\n",
      "175/175 [==============================] - 1s 4ms/step - loss: 0.3470 - binary_accuracy: 0.8400 - val_loss: 0.3539 - val_binary_accuracy: 0.8385\n",
      "Epoch 32/200\n",
      "175/175 [==============================] - 1s 4ms/step - loss: 0.3445 - binary_accuracy: 0.8415 - val_loss: 0.3535 - val_binary_accuracy: 0.8389\n",
      "Epoch 33/200\n",
      "175/175 [==============================] - 1s 4ms/step - loss: 0.3437 - binary_accuracy: 0.8419 - val_loss: 0.3543 - val_binary_accuracy: 0.8371\n",
      "Epoch 34/200\n",
      "175/175 [==============================] - 1s 5ms/step - loss: 0.3430 - binary_accuracy: 0.8430 - val_loss: 0.3510 - val_binary_accuracy: 0.8396\n",
      "Epoch 35/200\n",
      "175/175 [==============================] - 1s 6ms/step - loss: 0.3442 - binary_accuracy: 0.8416 - val_loss: 0.3521 - val_binary_accuracy: 0.8400\n",
      "Epoch 36/200\n",
      "175/175 [==============================] - 1s 4ms/step - loss: 0.3407 - binary_accuracy: 0.8430 - val_loss: 0.3527 - val_binary_accuracy: 0.8385\n",
      "Epoch 37/200\n",
      "175/175 [==============================] - 1s 5ms/step - loss: 0.3394 - binary_accuracy: 0.8434 - val_loss: 0.3505 - val_binary_accuracy: 0.8395\n",
      "Epoch 38/200\n",
      "175/175 [==============================] - 1s 4ms/step - loss: 0.3395 - binary_accuracy: 0.8435 - val_loss: 0.3511 - val_binary_accuracy: 0.8377\n",
      "Epoch 39/200\n",
      "175/175 [==============================] - 1s 4ms/step - loss: 0.3394 - binary_accuracy: 0.8441 - val_loss: 0.3483 - val_binary_accuracy: 0.8418\n",
      "Epoch 40/200\n",
      "175/175 [==============================] - 1s 4ms/step - loss: 0.3394 - binary_accuracy: 0.8422 - val_loss: 0.3512 - val_binary_accuracy: 0.8395\n",
      "Epoch 41/200\n",
      "175/175 [==============================] - 1s 4ms/step - loss: 0.3381 - binary_accuracy: 0.8452 - val_loss: 0.3508 - val_binary_accuracy: 0.8404\n",
      "Epoch 42/200\n",
      "175/175 [==============================] - 1s 5ms/step - loss: 0.3370 - binary_accuracy: 0.8448 - val_loss: 0.3490 - val_binary_accuracy: 0.8399\n",
      "Epoch 43/200\n",
      "175/175 [==============================] - 1s 5ms/step - loss: 0.3367 - binary_accuracy: 0.8447 - val_loss: 0.3509 - val_binary_accuracy: 0.8401\n",
      "Epoch 44/200\n",
      "175/175 [==============================] - 1s 4ms/step - loss: 0.3359 - binary_accuracy: 0.8448 - val_loss: 0.3477 - val_binary_accuracy: 0.8413\n"
     ]
    },
    {
     "data": {
      "text/plain": [
       "<AxesSubplot:title={'center':'Accuracy'}>"
      ]
     },
     "execution_count": 6,
     "metadata": {},
     "output_type": "execute_result"
    },
    {
     "data": {
      "image/png": "[encoded data removed]",
      "text/plain": [
       "<Figure size 432x288 with 1 Axes>"
      ]
     },
     "metadata": {},
     "output_type": "display_data"
    },
    {
     "data": {
      "image/png": "[encoded data removed]",
      "text/plain": [
       "<Figure size 432x288 with 1 Axes>"
      ]
     },
     "metadata": {},
     "output_type": "display_data"
    }
   ],
   "source": [
    "early_stopping = keras.callbacks.EarlyStopping(\n",
    "    patience=5,\n",
    "    min_delta=0.001,\n",
    "    restore_best_weights=True,\n",
    ")\n",
    "history = model.fit(\n",
    "    X_train, y_train,\n",
    "    validation_data=(X_valid, y_valid),\n",
    "    batch_size=512,\n",
    "    epochs=200,\n",
    "    callbacks=[early_stopping],\n",
    ")\n",
    "\n",
    "history_df = pd.DataFrame(history.history)\n",
    "history_df.loc[:, ['loss', 'val_loss']].plot(title=\"Cross-entropy\")\n",
    "history_df.loc[:, ['binary_accuracy', 'val_binary_accuracy']].plot(title=\"Accuracy\")"
   ]
  },
  {
   "cell_type": "markdown",
   "id": "b372cabd",
   "metadata": {
    "papermill": {
     "duration": 0.042662,
     "end_time": "2022-06-25T13:37:58.298303",
     "exception": false,
     "start_time": "2022-06-25T13:37:58.255641",
     "status": "completed"
    },
    "tags": []
   },
   "source": [
    "# 3) Train and Evaluate #\n",
    "\n",
    "\n",
    "What do you think about the learning curves? Does it look like the model underfit or overfit? Was the cross-entropy loss a good stand-in for accuracy?"
   ]
  },
  {
   "cell_type": "code",
   "execution_count": 7,
   "id": "cc200a2d",
   "metadata": {
    "execution": {
     "iopub.execute_input": "2022-06-25T13:37:58.386930Z",
     "iopub.status.busy": "2022-06-25T13:37:58.386006Z",
     "iopub.status.idle": "2022-06-25T13:37:58.395126Z",
     "shell.execute_reply": "2022-06-25T13:37:58.393940Z"
    },
    "papermill": {
     "duration": 0.056402,
     "end_time": "2022-06-25T13:37:58.398073",
     "exception": false,
     "start_time": "2022-06-25T13:37:58.341671",
     "status": "completed"
    },
    "tags": []
   },
   "outputs": [
    {
     "data": {
      "application/javascript": [
       "parent.postMessage({\"jupyterEvent\": \"custom.exercise_interaction\", \"data\": {\"outcomeType\": 1, \"valueTowardsCompletion\": 0.3333333333333333, \"interactionType\": 1, \"questionType\": 4, \"questionId\": \"3_Q3\", \"learnToolsVersion\": \"0.3.4\", \"failureMessage\": \"\", \"exceptionClass\": \"\", \"trace\": \"\"}}, \"*\")"
      ],
      "text/plain": [
       "<IPython.core.display.Javascript object>"
      ]
     },
     "metadata": {},
     "output_type": "display_data"
    },
    {
     "data": {
      "text/markdown": [
       "<span style=\"color:#33cc33\">Correct:</span> \n",
       "\n",
       "Though we can see the training loss continuing to fall, the early stopping callback prevented any overfitting. Moreover, the accuracy rose at the same rate as the cross-entropy fell, so it appears that minimizing cross-entropy was a good stand-in. All in all, it looks like this training was a success!"
      ],
      "text/plain": [
       "Correct: \n",
       "\n",
       "Though we can see the training loss continuing to fall, the early stopping callback prevented any overfitting. Moreover, the accuracy rose at the same rate as the cross-entropy fell, so it appears that minimizing cross-entropy was a good stand-in. All in all, it looks like this training was a success!"
      ]
     },
     "metadata": {},
     "output_type": "display_data"
    }
   ],
   "source": [
    "# View the solution (Run this cell to receive credit!)\n",
    "q_3.check()"
   ]
  },
  {
   "cell_type": "markdown",
   "id": "a0f71a22",
   "metadata": {
    "papermill": {
     "duration": 0.042861,
     "end_time": "2022-06-25T13:37:58.484757",
     "exception": false,
     "start_time": "2022-06-25T13:37:58.441896",
     "status": "completed"
    },
    "tags": []
   },
   "source": [
    "# Conclusion #\n",
    "\n",
    "Congratulations! You've completed Kaggle's *Introduction to Deep Learning* course!\n",
    "\n",
    "With your new skills you're ready to take on more advanced applications like computer vision and sentiment classification. What would you like to do next?\n",
    "\n",
    "Why not try one of our *Getting Started* competitions?\n",
    "\n",
    "- Classify images with TPUs in [**Petals to the Metal**](https://www.kaggle.com/c/tpu-getting-started)\n",
    "- Create art with GANs in [**I'm Something of a Painter Myself**](https://www.kaggle.com/c/gan-getting-started)\n",
    "- Classify Tweets in [**Real or Not? NLP with Disaster Tweets**](https://www.kaggle.com/c/nlp-getting-started)\n",
    "- Detect contradiction and entailment in [**Contradictory, My Dear Watson**](https://www.kaggle.com/c/contradictory-my-dear-watson)\n",
    "\n",
    "Until next time, Kagglers!"
   ]
  },
  {
   "cell_type": "markdown",
   "id": "ecc7490f",
   "metadata": {
    "papermill": {
     "duration": 0.043113,
     "end_time": "2022-06-25T13:37:58.570200",
     "exception": false,
     "start_time": "2022-06-25T13:37:58.527087",
     "status": "completed"
    },
    "tags": []
   },
   "source": [
    "---\n",
    "\n",
    "\n",
    "\n",
    "\n",
    "*Have questions or comments? Visit the [course discussion forum](https://www.kaggle.com/learn/intro-to-deep-learning/discussion) to chat with other learners.*"
   ]
  }
 ],
 "metadata": {
  "kernelspec": {
   "display_name": "Python 3",
   "language": "python",
   "name": "python3"
  },
  "language_info": {
   "codemirror_mode": {
    "name": "ipython",
    "version": 3
   },
   "file_extension": ".py",
   "mimetype": "text/x-python",
   "name": "python",
   "nbconvert_exporter": "python",
   "pygments_lexer": "ipython3",
   "version": "3.7.12"
  },
  "papermill": {
   "default_parameters": {},
   "duration": 60.490871,
   "end_time": "2022-06-25T13:38:01.442746",
   "environment_variables": {},
   "exception": null,
   "input_path": "__notebook__.ipynb",
   "output_path": "__notebook__.ipynb",
   "parameters": {},
   "start_time": "2022-06-25T13:37:00.951875",
   "version": "2.3.4"
  }
 },
 "nbformat": 4,
 "nbformat_minor": 5
}
