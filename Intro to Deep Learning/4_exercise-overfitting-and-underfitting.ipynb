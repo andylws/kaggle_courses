{
 "cells": [
  {
   "cell_type": "markdown",
   "id": "2ebdfcab",
   "metadata": {
    "papermill": {
     "duration": 0.005904,
     "end_time": "2022-06-25T07:45:51.776948",
     "exception": false,
     "start_time": "2022-06-25T07:45:51.771044",
     "status": "completed"
    },
    "tags": []
   },
   "source": [
    "**This notebook is an exercise in the [Intro to Deep Learning](https://www.kaggle.com/learn/intro-to-deep-learning) course.  You can reference the tutorial at [this link](https://www.kaggle.com/ryanholbrook/overfitting-and-underfitting).**\n",
    "\n",
    "---\n"
   ]
  },
  {
   "cell_type": "markdown",
   "id": "2dfbe544",
   "metadata": {
    "papermill": {
     "duration": 0.005063,
     "end_time": "2022-06-25T07:45:51.787175",
     "exception": false,
     "start_time": "2022-06-25T07:45:51.782112",
     "status": "completed"
    },
    "tags": []
   },
   "source": [
    "# Introduction #\n",
    "\n",
    "In this exercise, you’ll learn how to improve training outcomes by including an early stopping callback to prevent overfitting.\n",
    "\n",
    "When you're ready, run this next cell to set everything up!"
   ]
  },
  {
   "cell_type": "code",
   "execution_count": 1,
   "id": "795be28f",
   "metadata": {
    "execution": {
     "iopub.execute_input": "2022-06-25T07:45:51.804698Z",
     "iopub.status.busy": "2022-06-25T07:45:51.804154Z",
     "iopub.status.idle": "2022-06-25T07:45:51.847175Z",
     "shell.execute_reply": "2022-06-25T07:45:51.846204Z"
    },
    "papermill": {
     "duration": 0.056976,
     "end_time": "2022-06-25T07:45:51.849309",
     "exception": false,
     "start_time": "2022-06-25T07:45:51.792333",
     "status": "completed"
    },
    "tags": []
   },
   "outputs": [],
   "source": [
    "# Setup plotting\n",
    "import matplotlib.pyplot as plt\n",
    "plt.style.use('seaborn-whitegrid')\n",
    "# Set Matplotlib defaults\n",
    "plt.rc('figure', autolayout=True)\n",
    "plt.rc('axes', labelweight='bold', labelsize='large',\n",
    "       titleweight='bold', titlesize=18, titlepad=10)\n",
    "plt.rc('animation', html='html5')\n",
    "\n",
    "# Setup feedback system\n",
    "from learntools.core import binder\n",
    "binder.bind(globals())\n",
    "from learntools.deep_learning_intro.ex4 import *"
   ]
  },
  {
   "cell_type": "markdown",
   "id": "a1864845",
   "metadata": {
    "papermill": {
     "duration": 0.007588,
     "end_time": "2022-06-25T07:45:51.864507",
     "exception": false,
     "start_time": "2022-06-25T07:45:51.856919",
     "status": "completed"
    },
    "tags": []
   },
   "source": [
    "First load the *Spotify* dataset. Your task will be to predict the popularity of a song based on various audio features, like `'tempo'`, `'danceability'`, and `'mode'`."
   ]
  },
  {
   "cell_type": "code",
   "execution_count": 2,
   "id": "f7b9b57f",
   "metadata": {
    "execution": {
     "iopub.execute_input": "2022-06-25T07:45:51.884000Z",
     "iopub.status.busy": "2022-06-25T07:45:51.883338Z",
     "iopub.status.idle": "2022-06-25T07:45:58.696618Z",
     "shell.execute_reply": "2022-06-25T07:45:58.694465Z"
    },
    "papermill": {
     "duration": 6.827455,
     "end_time": "2022-06-25T07:45:58.699591",
     "exception": false,
     "start_time": "2022-06-25T07:45:51.872136",
     "status": "completed"
    },
    "tags": []
   },
   "outputs": [
    {
     "name": "stdout",
     "output_type": "stream",
     "text": [
      "Input shape: [18]\n"
     ]
    }
   ],
   "source": [
    "import pandas as pd\n",
    "from sklearn.preprocessing import StandardScaler, OneHotEncoder\n",
    "from sklearn.compose import make_column_transformer\n",
    "from sklearn.model_selection import GroupShuffleSplit\n",
    "\n",
    "from tensorflow import keras\n",
    "from tensorflow.keras import layers\n",
    "from tensorflow.keras import callbacks\n",
    "\n",
    "spotify = pd.read_csv('../input/dl-course-data/spotify.csv')\n",
    "\n",
    "X = spotify.copy().dropna()\n",
    "y = X.pop('track_popularity')\n",
    "artists = X['track_artist']\n",
    "\n",
    "features_num = ['danceability', 'energy', 'key', 'loudness', 'mode',\n",
    "                'speechiness', 'acousticness', 'instrumentalness',\n",
    "                'liveness', 'valence', 'tempo', 'duration_ms']\n",
    "features_cat = ['playlist_genre']\n",
    "\n",
    "preprocessor = make_column_transformer(\n",
    "    (StandardScaler(), features_num),\n",
    "    (OneHotEncoder(), features_cat),\n",
    ")\n",
    "\n",
    "# We'll do a \"grouped\" split to keep all of an artist's songs in one\n",
    "# split or the other. This is to help prevent signal leakage.\n",
    "def group_split(X, y, group, train_size=0.75):\n",
    "    splitter = GroupShuffleSplit(train_size=train_size)\n",
    "    train, test = next(splitter.split(X, y, groups=group))\n",
    "    return (X.iloc[train], X.iloc[test], y.iloc[train], y.iloc[test])\n",
    "\n",
    "X_train, X_valid, y_train, y_valid = group_split(X, y, artists)\n",
    "\n",
    "X_train = preprocessor.fit_transform(X_train)\n",
    "X_valid = preprocessor.transform(X_valid)\n",
    "y_train = y_train / 100 # popularity is on a scale 0-100, so this rescales to 0-1.\n",
    "y_valid = y_valid / 100\n",
    "\n",
    "input_shape = [X_train.shape[1]]\n",
    "print(\"Input shape: {}\".format(input_shape))"
   ]
  },
  {
   "cell_type": "markdown",
   "id": "e14eaf29",
   "metadata": {
    "papermill": {
     "duration": 0.005317,
     "end_time": "2022-06-25T07:45:58.710994",
     "exception": false,
     "start_time": "2022-06-25T07:45:58.705677",
     "status": "completed"
    },
    "tags": []
   },
   "source": [
    "Let's start with the simplest network, a linear model. This model has low capacity.\n",
    "\n",
    "Run this next cell without any changes to train a linear model on the *Spotify* dataset."
   ]
  },
  {
   "cell_type": "code",
   "execution_count": 3,
   "id": "3e95dfb6",
   "metadata": {
    "execution": {
     "iopub.execute_input": "2022-06-25T07:45:58.722292Z",
     "iopub.status.busy": "2022-06-25T07:45:58.722009Z",
     "iopub.status.idle": "2022-06-25T07:46:12.669889Z",
     "shell.execute_reply": "2022-06-25T07:46:12.668829Z"
    },
    "lines_to_next_cell": 0,
    "papermill": {
     "duration": 13.956,
     "end_time": "2022-06-25T07:46:12.671928",
     "exception": false,
     "start_time": "2022-06-25T07:45:58.715928",
     "status": "completed"
    },
    "tags": []
   },
   "outputs": [
    {
     "name": "stderr",
     "output_type": "stream",
     "text": [
      "2022-06-25 07:45:58.819876: I tensorflow/stream_executor/cuda/cuda_gpu_executor.cc:937] successful NUMA node read from SysFS had negative value (-1), but there must be at least one NUMA node, so returning NUMA node zero\n",
      "2022-06-25 07:45:58.928753: I tensorflow/stream_executor/cuda/cuda_gpu_executor.cc:937] successful NUMA node read from SysFS had negative value (-1), but there must be at least one NUMA node, so returning NUMA node zero\n",
      "2022-06-25 07:45:58.929498: I tensorflow/stream_executor/cuda/cuda_gpu_executor.cc:937] successful NUMA node read from SysFS had negative value (-1), but there must be at least one NUMA node, so returning NUMA node zero\n",
      "2022-06-25 07:45:58.930833: I tensorflow/core/platform/cpu_feature_guard.cc:142] This TensorFlow binary is optimized with oneAPI Deep Neural Network Library (oneDNN) to use the following CPU instructions in performance-critical operations:  AVX2 AVX512F FMA\n",
      "To enable them in other operations, rebuild TensorFlow with the appropriate compiler flags.\n",
      "2022-06-25 07:45:58.931148: I tensorflow/stream_executor/cuda/cuda_gpu_executor.cc:937] successful NUMA node read from SysFS had negative value (-1), but there must be at least one NUMA node, so returning NUMA node zero\n",
      "2022-06-25 07:45:58.932056: I tensorflow/stream_executor/cuda/cuda_gpu_executor.cc:937] successful NUMA node read from SysFS had negative value (-1), but there must be at least one NUMA node, so returning NUMA node zero\n",
      "2022-06-25 07:45:58.932914: I tensorflow/stream_executor/cuda/cuda_gpu_executor.cc:937] successful NUMA node read from SysFS had negative value (-1), but there must be at least one NUMA node, so returning NUMA node zero\n",
      "2022-06-25 07:46:01.404784: I tensorflow/stream_executor/cuda/cuda_gpu_executor.cc:937] successful NUMA node read from SysFS had negative value (-1), but there must be at least one NUMA node, so returning NUMA node zero\n",
      "2022-06-25 07:46:01.405594: I tensorflow/stream_executor/cuda/cuda_gpu_executor.cc:937] successful NUMA node read from SysFS had negative value (-1), but there must be at least one NUMA node, so returning NUMA node zero\n",
      "2022-06-25 07:46:01.406294: I tensorflow/stream_executor/cuda/cuda_gpu_executor.cc:937] successful NUMA node read from SysFS had negative value (-1), but there must be at least one NUMA node, so returning NUMA node zero\n",
      "2022-06-25 07:46:01.406990: I tensorflow/core/common_runtime/gpu/gpu_device.cc:1510] Created device /job:localhost/replica:0/task:0/device:GPU:0 with 15403 MB memory:  -> device: 0, name: Tesla P100-PCIE-16GB, pci bus id: 0000:00:04.0, compute capability: 6.0\n",
      "2022-06-25 07:46:01.848238: I tensorflow/compiler/mlir/mlir_graph_optimization_pass.cc:185] None of the MLIR Optimization Passes are enabled (registered 2)\n"
     ]
    },
    {
     "name": "stdout",
     "output_type": "stream",
     "text": [
      "Minimum Validation Loss: 0.1936\n"
     ]
    },
    {
     "data": {
      "image/png": "[encoded data removed]",
      "text/plain": [
       "<Figure size 432x288 with 1 Axes>"
      ]
     },
     "metadata": {},
     "output_type": "display_data"
    }
   ],
   "source": [
    "model = keras.Sequential([\n",
    "    layers.Dense(1, input_shape=input_shape),\n",
    "])\n",
    "model.compile(\n",
    "    optimizer='adam',\n",
    "    loss='mae',\n",
    ")\n",
    "history = model.fit(\n",
    "    X_train, y_train,\n",
    "    validation_data=(X_valid, y_valid),\n",
    "    batch_size=512,\n",
    "    epochs=50,\n",
    "    verbose=0, # suppress output since we'll plot the curves\n",
    ")\n",
    "history_df = pd.DataFrame(history.history)\n",
    "history_df.loc[0:, ['loss', 'val_loss']].plot()\n",
    "print(\"Minimum Validation Loss: {:0.4f}\".format(history_df['val_loss'].min()));"
   ]
  },
  {
   "cell_type": "markdown",
   "id": "0c3c74fe",
   "metadata": {
    "papermill": {
     "duration": 0.005549,
     "end_time": "2022-06-25T07:46:12.683149",
     "exception": false,
     "start_time": "2022-06-25T07:46:12.677600",
     "status": "completed"
    },
    "tags": []
   },
   "source": [
    "It's not uncommon for the curves to follow a \"hockey stick\" pattern like you see here. This makes the final part of training hard to see, so let's start at epoch 10 instead:"
   ]
  },
  {
   "cell_type": "code",
   "execution_count": 4,
   "id": "2ca286cb",
   "metadata": {
    "execution": {
     "iopub.execute_input": "2022-06-25T07:46:12.696431Z",
     "iopub.status.busy": "2022-06-25T07:46:12.694938Z",
     "iopub.status.idle": "2022-06-25T07:46:12.939720Z",
     "shell.execute_reply": "2022-06-25T07:46:12.938725Z"
    },
    "papermill": {
     "duration": 0.253202,
     "end_time": "2022-06-25T07:46:12.941852",
     "exception": false,
     "start_time": "2022-06-25T07:46:12.688650",
     "status": "completed"
    },
    "tags": []
   },
   "outputs": [
    {
     "name": "stdout",
     "output_type": "stream",
     "text": [
      "Minimum Validation Loss: 0.1936\n"
     ]
    },
    {
     "data": {
      "image/png": "[encoded data removed]",
      "text/plain": [
       "<Figure size 432x288 with 1 Axes>"
      ]
     },
     "metadata": {},
     "output_type": "display_data"
    }
   ],
   "source": [
    "# Start the plot at epoch 10\n",
    "history_df.loc[10:, ['loss', 'val_loss']].plot()\n",
    "print(\"Minimum Validation Loss: {:0.4f}\".format(history_df['val_loss'].min()));"
   ]
  },
  {
   "cell_type": "markdown",
   "id": "866c1945",
   "metadata": {
    "papermill": {
     "duration": 0.005712,
     "end_time": "2022-06-25T07:46:12.954105",
     "exception": false,
     "start_time": "2022-06-25T07:46:12.948393",
     "status": "completed"
    },
    "tags": []
   },
   "source": [
    "# 1) Evaluate Baseline\n",
    "\n",
    "What do you think? Would you say this model is underfitting, overfitting, just right?"
   ]
  },
  {
   "cell_type": "code",
   "execution_count": 5,
   "id": "f86d79d6",
   "metadata": {
    "execution": {
     "iopub.execute_input": "2022-06-25T07:46:12.966786Z",
     "iopub.status.busy": "2022-06-25T07:46:12.966525Z",
     "iopub.status.idle": "2022-06-25T07:46:12.974215Z",
     "shell.execute_reply": "2022-06-25T07:46:12.973281Z"
    },
    "papermill": {
     "duration": 0.016348,
     "end_time": "2022-06-25T07:46:12.976192",
     "exception": false,
     "start_time": "2022-06-25T07:46:12.959844",
     "status": "completed"
    },
    "tags": []
   },
   "outputs": [
    {
     "data": {
      "application/javascript": [
       "parent.postMessage({\"jupyterEvent\": \"custom.exercise_interaction\", \"data\": {\"outcomeType\": 1, \"valueTowardsCompletion\": 0.25, \"interactionType\": 1, \"questionType\": 4, \"questionId\": \"1_Q1\", \"learnToolsVersion\": \"0.3.4\", \"failureMessage\": \"\", \"exceptionClass\": \"\", \"trace\": \"\"}}, \"*\")"
      ],
      "text/plain": [
       "<IPython.core.display.Javascript object>"
      ]
     },
     "metadata": {},
     "output_type": "display_data"
    },
    {
     "data": {
      "text/markdown": [
       "<span style=\"color:#33cc33\">Correct:</span> \n",
       "\n",
       "The gap between these curves is quite small and the validation loss never increases, so it's more likely that the network is underfitting than overfitting. It would be worth experimenting with more capacity to see if that's the case."
      ],
      "text/plain": [
       "Correct: \n",
       "\n",
       "The gap between these curves is quite small and the validation loss never increases, so it's more likely that the network is underfitting than overfitting. It would be worth experimenting with more capacity to see if that's the case."
      ]
     },
     "metadata": {},
     "output_type": "display_data"
    }
   ],
   "source": [
    "# View the solution (Run this cell to receive credit!)\n",
    "q_1.check()"
   ]
  },
  {
   "cell_type": "markdown",
   "id": "6ac117f8",
   "metadata": {
    "papermill": {
     "duration": 0.005818,
     "end_time": "2022-06-25T07:46:12.988014",
     "exception": false,
     "start_time": "2022-06-25T07:46:12.982196",
     "status": "completed"
    },
    "tags": []
   },
   "source": [
    "Now let's add some capacity to our network. We'll add three hidden layers with 128 units each. Run the next cell to train the network and see the learning curves."
   ]
  },
  {
   "cell_type": "code",
   "execution_count": 6,
   "id": "52543fdb",
   "metadata": {
    "execution": {
     "iopub.execute_input": "2022-06-25T07:46:13.001877Z",
     "iopub.status.busy": "2022-06-25T07:46:13.001601Z",
     "iopub.status.idle": "2022-06-25T07:46:23.767689Z",
     "shell.execute_reply": "2022-06-25T07:46:23.766568Z"
    },
    "papermill": {
     "duration": 10.775393,
     "end_time": "2022-06-25T07:46:23.769915",
     "exception": false,
     "start_time": "2022-06-25T07:46:12.994522",
     "status": "completed"
    },
    "tags": []
   },
   "outputs": [
    {
     "name": "stdout",
     "output_type": "stream",
     "text": [
      "Epoch 1/50\n",
      "50/50 [==============================] - 0s 4ms/step - loss: 0.2303 - val_loss: 0.2054\n",
      "Epoch 2/50\n",
      "50/50 [==============================] - 0s 3ms/step - loss: 0.2014 - val_loss: 0.1996\n",
      "Epoch 3/50\n",
      "50/50 [==============================] - 0s 3ms/step - loss: 0.1967 - val_loss: 0.2004\n",
      "Epoch 4/50\n",
      "50/50 [==============================] - 0s 3ms/step - loss: 0.1939 - val_loss: 0.2015\n",
      "Epoch 5/50\n",
      "50/50 [==============================] - 0s 3ms/step - loss: 0.1917 - val_loss: 0.1970\n",
      "Epoch 6/50\n",
      "50/50 [==============================] - 0s 3ms/step - loss: 0.1897 - val_loss: 0.1962\n",
      "Epoch 7/50\n",
      "50/50 [==============================] - 0s 3ms/step - loss: 0.1888 - val_loss: 0.1971\n",
      "Epoch 8/50\n",
      "50/50 [==============================] - 0s 3ms/step - loss: 0.1873 - val_loss: 0.1964\n",
      "Epoch 9/50\n",
      "50/50 [==============================] - 0s 3ms/step - loss: 0.1859 - val_loss: 0.1954\n",
      "Epoch 10/50\n",
      "50/50 [==============================] - 0s 3ms/step - loss: 0.1854 - val_loss: 0.1969\n",
      "Epoch 11/50\n",
      "50/50 [==============================] - 0s 3ms/step - loss: 0.1843 - val_loss: 0.1956\n",
      "Epoch 12/50\n",
      "50/50 [==============================] - 0s 3ms/step - loss: 0.1836 - val_loss: 0.1970\n",
      "Epoch 13/50\n",
      "50/50 [==============================] - 0s 3ms/step - loss: 0.1831 - val_loss: 0.1963\n",
      "Epoch 14/50\n",
      "50/50 [==============================] - 0s 3ms/step - loss: 0.1834 - val_loss: 0.1960\n",
      "Epoch 15/50\n",
      "50/50 [==============================] - 0s 3ms/step - loss: 0.1825 - val_loss: 0.1981\n",
      "Epoch 16/50\n",
      "50/50 [==============================] - 0s 5ms/step - loss: 0.1808 - val_loss: 0.1962\n",
      "Epoch 17/50\n",
      "50/50 [==============================] - 0s 4ms/step - loss: 0.1805 - val_loss: 0.1976\n",
      "Epoch 18/50\n",
      "50/50 [==============================] - 0s 3ms/step - loss: 0.1802 - val_loss: 0.1956\n",
      "Epoch 19/50\n",
      "50/50 [==============================] - 0s 3ms/step - loss: 0.1787 - val_loss: 0.1968\n",
      "Epoch 20/50\n",
      "50/50 [==============================] - 0s 3ms/step - loss: 0.1786 - val_loss: 0.1959\n",
      "Epoch 21/50\n",
      "50/50 [==============================] - 0s 3ms/step - loss: 0.1782 - val_loss: 0.1958\n",
      "Epoch 22/50\n",
      "50/50 [==============================] - 0s 3ms/step - loss: 0.1773 - val_loss: 0.1978\n",
      "Epoch 23/50\n",
      "50/50 [==============================] - 0s 3ms/step - loss: 0.1771 - val_loss: 0.1964\n",
      "Epoch 24/50\n",
      "50/50 [==============================] - 0s 3ms/step - loss: 0.1768 - val_loss: 0.1961\n",
      "Epoch 25/50\n",
      "50/50 [==============================] - 0s 3ms/step - loss: 0.1759 - val_loss: 0.2016\n",
      "Epoch 26/50\n",
      "50/50 [==============================] - 0s 3ms/step - loss: 0.1754 - val_loss: 0.1968\n",
      "Epoch 27/50\n",
      "50/50 [==============================] - 0s 3ms/step - loss: 0.1751 - val_loss: 0.1962\n",
      "Epoch 28/50\n",
      "50/50 [==============================] - 0s 3ms/step - loss: 0.1749 - val_loss: 0.2006\n",
      "Epoch 29/50\n",
      "50/50 [==============================] - 0s 3ms/step - loss: 0.1746 - val_loss: 0.1981\n",
      "Epoch 30/50\n",
      "50/50 [==============================] - 0s 3ms/step - loss: 0.1739 - val_loss: 0.1968\n",
      "Epoch 31/50\n",
      "50/50 [==============================] - 0s 3ms/step - loss: 0.1736 - val_loss: 0.2023\n",
      "Epoch 32/50\n",
      "50/50 [==============================] - 0s 3ms/step - loss: 0.1742 - val_loss: 0.1995\n",
      "Epoch 33/50\n",
      "50/50 [==============================] - 0s 3ms/step - loss: 0.1727 - val_loss: 0.2003\n",
      "Epoch 34/50\n",
      "50/50 [==============================] - 0s 3ms/step - loss: 0.1723 - val_loss: 0.1984\n",
      "Epoch 35/50\n",
      "50/50 [==============================] - 0s 3ms/step - loss: 0.1720 - val_loss: 0.1979\n",
      "Epoch 36/50\n",
      "50/50 [==============================] - 0s 3ms/step - loss: 0.1719 - val_loss: 0.1985\n",
      "Epoch 37/50\n",
      "50/50 [==============================] - 0s 3ms/step - loss: 0.1712 - val_loss: 0.2001\n",
      "Epoch 38/50\n",
      "50/50 [==============================] - 0s 3ms/step - loss: 0.1708 - val_loss: 0.2000\n",
      "Epoch 39/50\n",
      "50/50 [==============================] - 0s 3ms/step - loss: 0.1712 - val_loss: 0.2000\n",
      "Epoch 40/50\n",
      "50/50 [==============================] - 0s 3ms/step - loss: 0.1700 - val_loss: 0.1980\n",
      "Epoch 41/50\n",
      "50/50 [==============================] - 0s 3ms/step - loss: 0.1706 - val_loss: 0.2004\n",
      "Epoch 42/50\n",
      "50/50 [==============================] - 0s 3ms/step - loss: 0.1707 - val_loss: 0.1999\n",
      "Epoch 43/50\n",
      "50/50 [==============================] - 0s 3ms/step - loss: 0.1687 - val_loss: 0.2010\n",
      "Epoch 44/50\n",
      "50/50 [==============================] - 0s 3ms/step - loss: 0.1693 - val_loss: 0.1997\n",
      "Epoch 45/50\n",
      "50/50 [==============================] - 0s 3ms/step - loss: 0.1685 - val_loss: 0.2007\n",
      "Epoch 46/50\n",
      "50/50 [==============================] - 0s 3ms/step - loss: 0.1678 - val_loss: 0.2009\n",
      "Epoch 47/50\n",
      "50/50 [==============================] - 0s 3ms/step - loss: 0.1680 - val_loss: 0.2009\n",
      "Epoch 48/50\n",
      "50/50 [==============================] - 0s 3ms/step - loss: 0.1679 - val_loss: 0.2060\n",
      "Epoch 49/50\n",
      "50/50 [==============================] - 0s 3ms/step - loss: 0.1682 - val_loss: 0.2029\n",
      "Epoch 50/50\n",
      "50/50 [==============================] - 0s 3ms/step - loss: 0.1662 - val_loss: 0.2008\n",
      "Minimum Validation Loss: 0.1954\n"
     ]
    },
    {
     "data": {
      "image/png": "[encoded data removed]",
      "text/plain": [
       "<Figure size 432x288 with 1 Axes>"
      ]
     },
     "metadata": {},
     "output_type": "display_data"
    }
   ],
   "source": [
    "model = keras.Sequential([\n",
    "    layers.Dense(128, activation='relu', input_shape=input_shape),\n",
    "    layers.Dense(64, activation='relu'),\n",
    "    layers.Dense(1)\n",
    "])\n",
    "model.compile(\n",
    "    optimizer='adam',\n",
    "    loss='mae',\n",
    ")\n",
    "history = model.fit(\n",
    "    X_train, y_train,\n",
    "    validation_data=(X_valid, y_valid),\n",
    "    batch_size=512,\n",
    "    epochs=50,\n",
    ")\n",
    "history_df = pd.DataFrame(history.history)\n",
    "history_df.loc[:, ['loss', 'val_loss']].plot()\n",
    "print(\"Minimum Validation Loss: {:0.4f}\".format(history_df['val_loss'].min()));"
   ]
  },
  {
   "cell_type": "markdown",
   "id": "d3efb9f5",
   "metadata": {
    "papermill": {
     "duration": 0.015984,
     "end_time": "2022-06-25T07:46:23.802416",
     "exception": false,
     "start_time": "2022-06-25T07:46:23.786432",
     "status": "completed"
    },
    "tags": []
   },
   "source": [
    "# 2) Add Capacity\n",
    "\n",
    "What is your evaluation of these curves? Underfitting, overfitting, just right?"
   ]
  },
  {
   "cell_type": "code",
   "execution_count": 7,
   "id": "f160128a",
   "metadata": {
    "execution": {
     "iopub.execute_input": "2022-06-25T07:46:23.836249Z",
     "iopub.status.busy": "2022-06-25T07:46:23.835894Z",
     "iopub.status.idle": "2022-06-25T07:46:23.844327Z",
     "shell.execute_reply": "2022-06-25T07:46:23.843364Z"
    },
    "papermill": {
     "duration": 0.028111,
     "end_time": "2022-06-25T07:46:23.846374",
     "exception": false,
     "start_time": "2022-06-25T07:46:23.818263",
     "status": "completed"
    },
    "tags": []
   },
   "outputs": [
    {
     "data": {
      "application/javascript": [
       "parent.postMessage({\"jupyterEvent\": \"custom.exercise_interaction\", \"data\": {\"outcomeType\": 1, \"valueTowardsCompletion\": 0.25, \"interactionType\": 1, \"questionType\": 4, \"questionId\": \"2_Q2\", \"learnToolsVersion\": \"0.3.4\", \"failureMessage\": \"\", \"exceptionClass\": \"\", \"trace\": \"\"}}, \"*\")"
      ],
      "text/plain": [
       "<IPython.core.display.Javascript object>"
      ]
     },
     "metadata": {},
     "output_type": "display_data"
    },
    {
     "data": {
      "text/markdown": [
       "<span style=\"color:#33cc33\">Correct:</span> \n",
       "\n",
       "Now the validation loss begins to rise very early, while the training loss continues to decrease. This indicates that the network has begun to overfit. At this point, we would need to try something to prevent it, either by reducing the number of units or through a method like early stopping. (We'll see another in the next lesson!)"
      ],
      "text/plain": [
       "Correct: \n",
       "\n",
       "Now the validation loss begins to rise very early, while the training loss continues to decrease. This indicates that the network has begun to overfit. At this point, we would need to try something to prevent it, either by reducing the number of units or through a method like early stopping. (We'll see another in the next lesson!)"
      ]
     },
     "metadata": {},
     "output_type": "display_data"
    }
   ],
   "source": [
    "# View the solution (Run this cell to receive credit!)\n",
    "q_2.check()"
   ]
  },
  {
   "cell_type": "markdown",
   "id": "e4c025b7",
   "metadata": {
    "papermill": {
     "duration": 0.015375,
     "end_time": "2022-06-25T07:46:23.877777",
     "exception": false,
     "start_time": "2022-06-25T07:46:23.862402",
     "status": "completed"
    },
    "tags": []
   },
   "source": [
    "# 3) Define Early Stopping Callback\n",
    "\n",
    "Now define an early stopping callback that waits 5 epochs (`patience'`) for a change in validation loss of at least `0.001` (`min_delta`) and keeps the weights with the best loss (`restore_best_weights`)."
   ]
  },
  {
   "cell_type": "code",
   "execution_count": 8,
   "id": "4eb90724",
   "metadata": {
    "execution": {
     "iopub.execute_input": "2022-06-25T07:46:23.912237Z",
     "iopub.status.busy": "2022-06-25T07:46:23.911971Z",
     "iopub.status.idle": "2022-06-25T07:46:23.921372Z",
     "shell.execute_reply": "2022-06-25T07:46:23.920446Z"
    },
    "lines_to_next_cell": 0,
    "papermill": {
     "duration": 0.029006,
     "end_time": "2022-06-25T07:46:23.923566",
     "exception": false,
     "start_time": "2022-06-25T07:46:23.894560",
     "status": "completed"
    },
    "tags": []
   },
   "outputs": [
    {
     "data": {
      "application/javascript": [
       "parent.postMessage({\"jupyterEvent\": \"custom.exercise_interaction\", \"data\": {\"outcomeType\": 1, \"valueTowardsCompletion\": 0.25, \"interactionType\": 1, \"questionType\": 2, \"questionId\": \"3_Q3\", \"learnToolsVersion\": \"0.3.4\", \"failureMessage\": \"\", \"exceptionClass\": \"\", \"trace\": \"\"}}, \"*\")"
      ],
      "text/plain": [
       "<IPython.core.display.Javascript object>"
      ]
     },
     "metadata": {},
     "output_type": "display_data"
    },
    {
     "data": {
      "text/markdown": [
       "<span style=\"color:#33cc33\">Correct</span>"
      ],
      "text/plain": [
       "Correct"
      ]
     },
     "metadata": {},
     "output_type": "display_data"
    }
   ],
   "source": [
    "from tensorflow.keras import callbacks\n",
    "\n",
    "# YOUR CODE HERE: define an early stopping callback\n",
    "early_stopping = callbacks.EarlyStopping(\n",
    "    min_delta=0.001,\n",
    "    patience=5,\n",
    "    restore_best_weights=True,\n",
    ")\n",
    "\n",
    "# Check your answer\n",
    "q_3.check()"
   ]
  },
  {
   "cell_type": "code",
   "execution_count": 9,
   "id": "1fa670c8",
   "metadata": {
    "execution": {
     "iopub.execute_input": "2022-06-25T07:46:23.957520Z",
     "iopub.status.busy": "2022-06-25T07:46:23.957262Z",
     "iopub.status.idle": "2022-06-25T07:46:23.962132Z",
     "shell.execute_reply": "2022-06-25T07:46:23.961134Z"
    },
    "papermill": {
     "duration": 0.024912,
     "end_time": "2022-06-25T07:46:23.964192",
     "exception": false,
     "start_time": "2022-06-25T07:46:23.939280",
     "status": "completed"
    },
    "tags": []
   },
   "outputs": [],
   "source": [
    "# Lines below will give you a hint or solution code\n",
    "#q_3.hint()\n",
    "#q_3.solution()"
   ]
  },
  {
   "cell_type": "markdown",
   "id": "80b524e7",
   "metadata": {
    "papermill": {
     "duration": 0.016409,
     "end_time": "2022-06-25T07:46:23.996343",
     "exception": false,
     "start_time": "2022-06-25T07:46:23.979934",
     "status": "completed"
    },
    "tags": []
   },
   "source": [
    "Now run this cell to train the model and get the learning curves. Notice the `callbacks` argument in `model.fit`."
   ]
  },
  {
   "cell_type": "code",
   "execution_count": 10,
   "id": "2179a44d",
   "metadata": {
    "execution": {
     "iopub.execute_input": "2022-06-25T07:46:24.030158Z",
     "iopub.status.busy": "2022-06-25T07:46:24.029392Z",
     "iopub.status.idle": "2022-06-25T07:46:26.587251Z",
     "shell.execute_reply": "2022-06-25T07:46:26.586266Z"
    },
    "papermill": {
     "duration": 2.578612,
     "end_time": "2022-06-25T07:46:26.591058",
     "exception": false,
     "start_time": "2022-06-25T07:46:24.012446",
     "status": "completed"
    },
    "tags": []
   },
   "outputs": [
    {
     "name": "stdout",
     "output_type": "stream",
     "text": [
      "Epoch 1/50\n",
      "50/50 [==============================] - 0s 4ms/step - loss: 0.2492 - val_loss: 0.2074\n",
      "Epoch 2/50\n",
      "50/50 [==============================] - 0s 3ms/step - loss: 0.2039 - val_loss: 0.2010\n",
      "Epoch 3/50\n",
      "50/50 [==============================] - 0s 3ms/step - loss: 0.1978 - val_loss: 0.1988\n",
      "Epoch 4/50\n",
      "50/50 [==============================] - 0s 3ms/step - loss: 0.1945 - val_loss: 0.1983\n",
      "Epoch 5/50\n",
      "50/50 [==============================] - 0s 3ms/step - loss: 0.1923 - val_loss: 0.1987\n",
      "Epoch 6/50\n",
      "50/50 [==============================] - 0s 3ms/step - loss: 0.1903 - val_loss: 0.1966\n",
      "Epoch 7/50\n",
      "50/50 [==============================] - 0s 3ms/step - loss: 0.1894 - val_loss: 0.1964\n",
      "Epoch 8/50\n",
      "50/50 [==============================] - 0s 3ms/step - loss: 0.1894 - val_loss: 0.1951\n",
      "Epoch 9/50\n",
      "50/50 [==============================] - 0s 3ms/step - loss: 0.1876 - val_loss: 0.1953\n",
      "Epoch 10/50\n",
      "50/50 [==============================] - 0s 3ms/step - loss: 0.1863 - val_loss: 0.1963\n",
      "Epoch 11/50\n",
      "50/50 [==============================] - 0s 3ms/step - loss: 0.1857 - val_loss: 0.1960\n",
      "Epoch 12/50\n",
      "50/50 [==============================] - 0s 3ms/step - loss: 0.1846 - val_loss: 0.1955\n",
      "Epoch 13/50\n",
      "50/50 [==============================] - 0s 3ms/step - loss: 0.1837 - val_loss: 0.1948\n",
      "Minimum Validation Loss: 0.1948\n"
     ]
    },
    {
     "data": {
      "image/png": "[encoded data removed]",
      "text/plain": [
       "<Figure size 432x288 with 1 Axes>"
      ]
     },
     "metadata": {},
     "output_type": "display_data"
    }
   ],
   "source": [
    "model = keras.Sequential([\n",
    "    layers.Dense(128, activation='relu', input_shape=input_shape),\n",
    "    layers.Dense(64, activation='relu'),    \n",
    "    layers.Dense(1)\n",
    "])\n",
    "model.compile(\n",
    "    optimizer='adam',\n",
    "    loss='mae',\n",
    ")\n",
    "history = model.fit(\n",
    "    X_train, y_train,\n",
    "    validation_data=(X_valid, y_valid),\n",
    "    batch_size=512,\n",
    "    epochs=50,\n",
    "    callbacks=[early_stopping]\n",
    ")\n",
    "history_df = pd.DataFrame(history.history)\n",
    "history_df.loc[:, ['loss', 'val_loss']].plot()\n",
    "print(\"Minimum Validation Loss: {:0.4f}\".format(history_df['val_loss'].min()));"
   ]
  },
  {
   "cell_type": "markdown",
   "id": "a0c508ba",
   "metadata": {
    "papermill": {
     "duration": 0.04089,
     "end_time": "2022-06-25T07:46:26.673631",
     "exception": false,
     "start_time": "2022-06-25T07:46:26.632741",
     "status": "completed"
    },
    "tags": []
   },
   "source": [
    "# 4) Train and Interpret\n",
    "\n",
    "Was this an improvement compared to training without early stopping?"
   ]
  },
  {
   "cell_type": "code",
   "execution_count": 11,
   "id": "a755349a",
   "metadata": {
    "execution": {
     "iopub.execute_input": "2022-06-25T07:46:26.749917Z",
     "iopub.status.busy": "2022-06-25T07:46:26.749306Z",
     "iopub.status.idle": "2022-06-25T07:46:26.761843Z",
     "shell.execute_reply": "2022-06-25T07:46:26.760592Z"
    },
    "papermill": {
     "duration": 0.050565,
     "end_time": "2022-06-25T07:46:26.765120",
     "exception": false,
     "start_time": "2022-06-25T07:46:26.714555",
     "status": "completed"
    },
    "tags": []
   },
   "outputs": [
    {
     "data": {
      "application/javascript": [
       "parent.postMessage({\"jupyterEvent\": \"custom.exercise_interaction\", \"data\": {\"outcomeType\": 1, \"valueTowardsCompletion\": 0.25, \"interactionType\": 1, \"questionType\": 4, \"questionId\": \"4_Q4\", \"learnToolsVersion\": \"0.3.4\", \"failureMessage\": \"\", \"exceptionClass\": \"\", \"trace\": \"\"}}, \"*\")"
      ],
      "text/plain": [
       "<IPython.core.display.Javascript object>"
      ]
     },
     "metadata": {},
     "output_type": "display_data"
    },
    {
     "data": {
      "text/markdown": [
       "<span style=\"color:#33cc33\">Correct:</span> \n",
       "\n",
       "The early stopping callback did stop the training once the network began overfitting. Moreover, by including `restore_best_weights` we still get to keep the model where validation loss was lowest."
      ],
      "text/plain": [
       "Correct: \n",
       "\n",
       "The early stopping callback did stop the training once the network began overfitting. Moreover, by including `restore_best_weights` we still get to keep the model where validation loss was lowest."
      ]
     },
     "metadata": {},
     "output_type": "display_data"
    }
   ],
   "source": [
    "# View the solution (Run this cell to receive credit!)\n",
    "q_4.check()"
   ]
  },
  {
   "cell_type": "markdown",
   "id": "6e745b0a",
   "metadata": {
    "papermill": {
     "duration": 0.032246,
     "end_time": "2022-06-25T07:46:26.829172",
     "exception": false,
     "start_time": "2022-06-25T07:46:26.796926",
     "status": "completed"
    },
    "tags": []
   },
   "source": [
    "If you like, try experimenting with `patience` and `min_delta` to see what difference it might make.\n",
    "\n",
    "# Keep Going #\n",
    "\n",
    "Move on to [**learn about a couple of special layers**](https://www.kaggle.com/ryanholbrook/dropout-and-batch-normalization): batch normalization and dropout."
   ]
  },
  {
   "cell_type": "markdown",
   "id": "288aa7b7",
   "metadata": {
    "papermill": {
     "duration": 0.03157,
     "end_time": "2022-06-25T07:46:26.893172",
     "exception": false,
     "start_time": "2022-06-25T07:46:26.861602",
     "status": "completed"
    },
    "tags": []
   },
   "source": [
    "---\n",
    "\n",
    "\n",
    "\n",
    "\n",
    "*Have questions or comments? Visit the [course discussion forum](https://www.kaggle.com/learn/intro-to-deep-learning/discussion) to chat with other learners.*"
   ]
  }
 ],
 "metadata": {
  "kernelspec": {
   "display_name": "Python 3",
   "language": "python",
   "name": "python3"
  },
  "language_info": {
   "codemirror_mode": {
    "name": "ipython",
    "version": 3
   },
   "file_extension": ".py",
   "mimetype": "text/x-python",
   "name": "python",
   "nbconvert_exporter": "python",
   "pygments_lexer": "ipython3",
   "version": "3.7.12"
  },
  "papermill": {
   "default_parameters": {},
   "duration": 46.344192,
   "end_time": "2022-06-25T07:46:30.219106",
   "environment_variables": {},
   "exception": null,
   "input_path": "__notebook__.ipynb",
   "output_path": "__notebook__.ipynb",
   "parameters": {},
   "start_time": "2022-06-25T07:45:43.874914",
   "version": "2.3.4"
  }
 },
 "nbformat": 4,
 "nbformat_minor": 5
}
