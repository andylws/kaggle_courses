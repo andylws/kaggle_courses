{
 "cells": [
  {
   "cell_type": "markdown",
   "id": "e3006cad",
   "metadata": {
    "papermill": {
     "duration": 0.010286,
     "end_time": "2022-06-02T14:19:26.648399",
     "exception": false,
     "start_time": "2022-06-02T14:19:26.638113",
     "status": "completed"
    },
    "tags": []
   },
   "source": [
    "**This notebook is an exercise in the [Intro to Programming](https://www.kaggle.com/learn/intro-to-programming) course.  You can reference the tutorial at [this link](https://www.kaggle.com/alexisbcook/functions).**\n",
    "\n",
    "---\n"
   ]
  },
  {
   "cell_type": "markdown",
   "id": "49f80f74",
   "metadata": {
    "papermill": {
     "duration": 0.006437,
     "end_time": "2022-06-02T14:19:26.661737",
     "exception": false,
     "start_time": "2022-06-02T14:19:26.655300",
     "status": "completed"
    },
    "tags": []
   },
   "source": [
    "In the tutorial, you learned about functions. In this exercise, you'll write some of your own!\n",
    "\n",
    "# Set up the notebook\n",
    "\n",
    "Run the next code cell without changes to set up the notebook."
   ]
  },
  {
   "cell_type": "code",
   "execution_count": 1,
   "id": "b2f2ddc6",
   "metadata": {
    "execution": {
     "iopub.execute_input": "2022-06-02T14:19:26.677949Z",
     "iopub.status.busy": "2022-06-02T14:19:26.677063Z",
     "iopub.status.idle": "2022-06-02T14:19:26.726356Z",
     "shell.execute_reply": "2022-06-02T14:19:26.725462Z"
    },
    "papermill": {
     "duration": 0.06112,
     "end_time": "2022-06-02T14:19:26.729524",
     "exception": false,
     "start_time": "2022-06-02T14:19:26.668404",
     "status": "completed"
    },
    "tags": []
   },
   "outputs": [
    {
     "name": "stdout",
     "output_type": "stream",
     "text": [
      "Setup complete.\n"
     ]
    }
   ],
   "source": [
    "# Set up the exercise\n",
    "import math\n",
    "from learntools.core import binder\n",
    "binder.bind(globals())\n",
    "from learntools.intro_to_programming.ex2 import *\n",
    "print('Setup complete.')"
   ]
  },
  {
   "cell_type": "markdown",
   "id": "7999b910",
   "metadata": {
    "papermill": {
     "duration": 0.006587,
     "end_time": "2022-06-02T14:19:26.742813",
     "exception": false,
     "start_time": "2022-06-02T14:19:26.736226",
     "status": "completed"
    },
    "tags": []
   },
   "source": [
    "# Question 1\n",
    "\n",
    "In the [House Prices - Advanced Regression Techniques competition](https://www.kaggle.com/c/house-prices-advanced-regression-techniques/overview), you need to use information like the number of bedrooms and bathrooms to predict the price of a house.  Inspired by this competition, you'll write your own function to do this.\n",
    "\n",
    "In the next code cell, create a function `get_expected_cost()` that has two arguments:\n",
    "- `beds` - number of bedrooms \n",
    "- `baths` - number of bathrooms\n",
    "\n",
    "It should return the expected cost of a house with that number of bedrooms and bathrooms.  Assume that:\n",
    "- the expected cost for a house with 0 bedrooms and 0 bathrooms is `80000`.  \n",
    "- each bedroom adds `30000` to the expected cost\n",
    "- each bathroom adds `10000` to the expected cost.\n",
    "\n",
    "For instance, \n",
    "- a house with 1 bedroom and 1 bathroom has an expected cost of `120000`, and \n",
    "- a house with 2 bedrooms and 1 bathroom has an expected cost of `150000`."
   ]
  },
  {
   "cell_type": "code",
   "execution_count": 2,
   "id": "5479397b",
   "metadata": {
    "execution": {
     "iopub.execute_input": "2022-06-02T14:19:26.757945Z",
     "iopub.status.busy": "2022-06-02T14:19:26.757412Z",
     "iopub.status.idle": "2022-06-02T14:19:26.769659Z",
     "shell.execute_reply": "2022-06-02T14:19:26.768681Z"
    },
    "papermill": {
     "duration": 0.022425,
     "end_time": "2022-06-02T14:19:26.771750",
     "exception": false,
     "start_time": "2022-06-02T14:19:26.749325",
     "status": "completed"
    },
    "tags": []
   },
   "outputs": [
    {
     "data": {
      "application/javascript": [
       "parent.postMessage({\"jupyterEvent\": \"custom.exercise_interaction\", \"data\": {\"outcomeType\": 1, \"valueTowardsCompletion\": 0.2, \"interactionType\": 1, \"questionType\": 2, \"questionId\": \"1_GetExpectedCost\", \"learnToolsVersion\": \"0.3.4\", \"failureMessage\": \"\", \"exceptionClass\": \"\", \"trace\": \"\"}}, \"*\")"
      ],
      "text/plain": [
       "<IPython.core.display.Javascript object>"
      ]
     },
     "metadata": {},
     "output_type": "display_data"
    },
    {
     "data": {
      "text/markdown": [
       "<span style=\"color:#33cc33\">Correct</span>"
      ],
      "text/plain": [
       "Correct"
      ]
     },
     "metadata": {},
     "output_type": "display_data"
    }
   ],
   "source": [
    "### TODO: Complete the function\n",
    "def get_expected_cost(beds, baths):\n",
    "    value = 30000 * beds + 10000 * baths + 80000\n",
    "    return value\n",
    "\n",
    "# Check your answer \n",
    "q1.check()"
   ]
  },
  {
   "cell_type": "code",
   "execution_count": 3,
   "id": "3e363908",
   "metadata": {
    "execution": {
     "iopub.execute_input": "2022-06-02T14:19:26.787606Z",
     "iopub.status.busy": "2022-06-02T14:19:26.786829Z",
     "iopub.status.idle": "2022-06-02T14:19:26.791986Z",
     "shell.execute_reply": "2022-06-02T14:19:26.790636Z"
    },
    "papermill": {
     "duration": 0.01586,
     "end_time": "2022-06-02T14:19:26.794468",
     "exception": false,
     "start_time": "2022-06-02T14:19:26.778608",
     "status": "completed"
    },
    "tags": []
   },
   "outputs": [],
   "source": [
    "# Uncomment to see a hint\n",
    "#q1.hint()\n",
    "\n",
    "# Uncomment to view the solution\n",
    "#q1.solution()"
   ]
  },
  {
   "cell_type": "markdown",
   "id": "9021c393",
   "metadata": {
    "papermill": {
     "duration": 0.006629,
     "end_time": "2022-06-02T14:19:26.808144",
     "exception": false,
     "start_time": "2022-06-02T14:19:26.801515",
     "status": "completed"
    },
    "tags": []
   },
   "source": [
    "# Question 2\n",
    "\n",
    "You are thinking about buying a home and want to get an idea of how much you will spend, based on the number of bedrooms and bathrooms.  You are trying to decide between four different options:\n",
    "- Option 1: house with two bedrooms and three bathrooms\n",
    "- Option 2: house with three bedrooms and two bathrooms\n",
    "- Option 3: house with three bedrooms and three bathrooms\n",
    "- Option 4: house with three bedrooms and four bathrooms\n",
    "\n",
    "Use the `get_expected_cost()` function you defined in question 1 to set `option_1`, `option_2`, `option_3`, and `option_4` to the expected cost of each option."
   ]
  },
  {
   "cell_type": "code",
   "execution_count": 4,
   "id": "c3178e66",
   "metadata": {
    "execution": {
     "iopub.execute_input": "2022-06-02T14:19:26.823825Z",
     "iopub.status.busy": "2022-06-02T14:19:26.823430Z",
     "iopub.status.idle": "2022-06-02T14:19:26.833285Z",
     "shell.execute_reply": "2022-06-02T14:19:26.832326Z"
    },
    "papermill": {
     "duration": 0.021079,
     "end_time": "2022-06-02T14:19:26.836332",
     "exception": false,
     "start_time": "2022-06-02T14:19:26.815253",
     "status": "completed"
    },
    "tags": []
   },
   "outputs": [
    {
     "name": "stdout",
     "output_type": "stream",
     "text": [
      "170000\n",
      "190000\n",
      "200000\n",
      "210000\n"
     ]
    },
    {
     "data": {
      "application/javascript": [
       "parent.postMessage({\"jupyterEvent\": \"custom.exercise_interaction\", \"data\": {\"outcomeType\": 1, \"valueTowardsCompletion\": 0.2, \"interactionType\": 1, \"questionType\": 1, \"questionId\": \"2_RunGetExpectedCost\", \"learnToolsVersion\": \"0.3.4\", \"failureMessage\": \"\", \"exceptionClass\": \"\", \"trace\": \"\"}}, \"*\")"
      ],
      "text/plain": [
       "<IPython.core.display.Javascript object>"
      ]
     },
     "metadata": {},
     "output_type": "display_data"
    },
    {
     "data": {
      "text/markdown": [
       "<span style=\"color:#33cc33\">Correct</span>"
      ],
      "text/plain": [
       "Correct"
      ]
     },
     "metadata": {},
     "output_type": "display_data"
    }
   ],
   "source": [
    "# TODO: Use the get_expected_cost function to fill in each value\n",
    "option_one = get_expected_cost(2, 3)\n",
    "option_two = get_expected_cost(3, 2)\n",
    "option_three = get_expected_cost(3, 3)\n",
    "option_four = get_expected_cost(3, 4)\n",
    "\n",
    "print(option_one)\n",
    "print(option_two)\n",
    "print(option_three)\n",
    "print(option_four)\n",
    "\n",
    "# Check your answer\n",
    "q2.check()"
   ]
  },
  {
   "cell_type": "code",
   "execution_count": 5,
   "id": "53e2fc17",
   "metadata": {
    "execution": {
     "iopub.execute_input": "2022-06-02T14:19:26.852607Z",
     "iopub.status.busy": "2022-06-02T14:19:26.852186Z",
     "iopub.status.idle": "2022-06-02T14:19:26.856078Z",
     "shell.execute_reply": "2022-06-02T14:19:26.855144Z"
    },
    "papermill": {
     "duration": 0.014493,
     "end_time": "2022-06-02T14:19:26.858080",
     "exception": false,
     "start_time": "2022-06-02T14:19:26.843587",
     "status": "completed"
    },
    "tags": []
   },
   "outputs": [],
   "source": [
    "# Uncomment to see a hint\n",
    "#q2.hint()\n",
    "\n",
    "# Uncomment to view the solution\n",
    "#q2.solution()"
   ]
  },
  {
   "cell_type": "markdown",
   "id": "21e633c4",
   "metadata": {
    "papermill": {
     "duration": 0.006833,
     "end_time": "2022-06-02T14:19:26.872170",
     "exception": false,
     "start_time": "2022-06-02T14:19:26.865337",
     "status": "completed"
    },
    "tags": []
   },
   "source": [
    "# Question 3\n",
    "\n",
    "You're a home decorator, and you'd like to use Python to streamline some of your work.  Specifically, you're creating a tool that you intend to use to calculate the cost of painting a room.\n",
    "\n",
    "As a first step, define a function `get_cost()` that takes as input:\n",
    "- `sqft_walls` = total square feet of walls to be painted\n",
    "- `sqft_ceiling` = square feet of ceiling to be painted\n",
    "- `sqft_per_gallon` = number of square feet that you can cover with one gallon of paint\n",
    "- `cost_per_gallon` = cost (in dollars) of one gallon of paint\n",
    "\n",
    "It should return the cost (in dollars) of putting one coat of paint on all walls and the ceiling.  Assume you can buy the exact amount of paint that you need, so you can buy partial gallons (e.g., if you need 7.523 gallons, you can buy that exact amount, instead of needing to buy 8 gallons and waste some paint).  Do not round your answer."
   ]
  },
  {
   "cell_type": "code",
   "execution_count": 6,
   "id": "a7e2940c",
   "metadata": {
    "execution": {
     "iopub.execute_input": "2022-06-02T14:19:26.888122Z",
     "iopub.status.busy": "2022-06-02T14:19:26.887529Z",
     "iopub.status.idle": "2022-06-02T14:19:26.895469Z",
     "shell.execute_reply": "2022-06-02T14:19:26.894867Z"
    },
    "papermill": {
     "duration": 0.017924,
     "end_time": "2022-06-02T14:19:26.897153",
     "exception": false,
     "start_time": "2022-06-02T14:19:26.879229",
     "status": "completed"
    },
    "tags": []
   },
   "outputs": [
    {
     "data": {
      "application/javascript": [
       "parent.postMessage({\"jupyterEvent\": \"custom.exercise_interaction\", \"data\": {\"outcomeType\": 1, \"valueTowardsCompletion\": 0.2, \"interactionType\": 1, \"questionType\": 2, \"questionId\": \"3_GetCostPaint\", \"learnToolsVersion\": \"0.3.4\", \"failureMessage\": \"\", \"exceptionClass\": \"\", \"trace\": \"\"}}, \"*\")"
      ],
      "text/plain": [
       "<IPython.core.display.Javascript object>"
      ]
     },
     "metadata": {},
     "output_type": "display_data"
    },
    {
     "data": {
      "text/markdown": [
       "<span style=\"color:#33cc33\">Correct</span>"
      ],
      "text/plain": [
       "Correct"
      ]
     },
     "metadata": {},
     "output_type": "display_data"
    }
   ],
   "source": [
    "# TODO: Finish defining the function\n",
    "def get_cost(sqft_walls, sqft_ceiling, sqft_per_gallon, cost_per_gallon):\n",
    "    cost = (sqft_walls + sqft_ceiling) / sqft_per_gallon * cost_per_gallon\n",
    "    return cost\n",
    "\n",
    "# Check your answer\n",
    "q3.check()"
   ]
  },
  {
   "cell_type": "code",
   "execution_count": 7,
   "id": "596752e9",
   "metadata": {
    "execution": {
     "iopub.execute_input": "2022-06-02T14:19:26.914067Z",
     "iopub.status.busy": "2022-06-02T14:19:26.913329Z",
     "iopub.status.idle": "2022-06-02T14:19:26.917395Z",
     "shell.execute_reply": "2022-06-02T14:19:26.916387Z"
    },
    "papermill": {
     "duration": 0.014828,
     "end_time": "2022-06-02T14:19:26.919485",
     "exception": false,
     "start_time": "2022-06-02T14:19:26.904657",
     "status": "completed"
    },
    "tags": []
   },
   "outputs": [],
   "source": [
    "# Uncomment to see a hint\n",
    "#q3.hint()\n",
    "\n",
    "# Uncomment to view the solution\n",
    "#q3.solution()"
   ]
  },
  {
   "cell_type": "markdown",
   "id": "245b9a4e",
   "metadata": {
    "papermill": {
     "duration": 0.007751,
     "end_time": "2022-06-02T14:19:26.934799",
     "exception": false,
     "start_time": "2022-06-02T14:19:26.927048",
     "status": "completed"
    },
    "tags": []
   },
   "source": [
    "# Question 4\n",
    "\n",
    "Use the `get_cost()` function you defined in Question 3 to calculate the cost of applying one coat of paint to a room with:\n",
    "- 432 square feet of walls, and\n",
    "- 144 square feet of ceiling.\n",
    "\n",
    "Assume that one gallon of paint covers 400 square feet and costs $15.  As in Question 3, assume you can buy partial gallons of paint.  Do not round your answer."
   ]
  },
  {
   "cell_type": "code",
   "execution_count": 8,
   "id": "4ee0d50e",
   "metadata": {
    "execution": {
     "iopub.execute_input": "2022-06-02T14:19:26.952166Z",
     "iopub.status.busy": "2022-06-02T14:19:26.951773Z",
     "iopub.status.idle": "2022-06-02T14:19:26.960128Z",
     "shell.execute_reply": "2022-06-02T14:19:26.959052Z"
    },
    "papermill": {
     "duration": 0.019953,
     "end_time": "2022-06-02T14:19:26.962294",
     "exception": false,
     "start_time": "2022-06-02T14:19:26.942341",
     "status": "completed"
    },
    "tags": []
   },
   "outputs": [
    {
     "data": {
      "application/javascript": [
       "parent.postMessage({\"jupyterEvent\": \"custom.exercise_interaction\", \"data\": {\"outcomeType\": 1, \"valueTowardsCompletion\": 0.2, \"interactionType\": 1, \"questionType\": 1, \"questionId\": \"4_GetCostPaintExample\", \"learnToolsVersion\": \"0.3.4\", \"failureMessage\": \"\", \"exceptionClass\": \"\", \"trace\": \"\"}}, \"*\")"
      ],
      "text/plain": [
       "<IPython.core.display.Javascript object>"
      ]
     },
     "metadata": {},
     "output_type": "display_data"
    },
    {
     "data": {
      "text/markdown": [
       "<span style=\"color:#33cc33\">Correct</span>"
      ],
      "text/plain": [
       "Correct"
      ]
     },
     "metadata": {},
     "output_type": "display_data"
    }
   ],
   "source": [
    "# TODO: Set the project_cost variable to the cost of the project\n",
    "project_cost = get_cost(432, 144, 400, 15)\n",
    "\n",
    "# Check your answer\n",
    "q4.check()"
   ]
  },
  {
   "cell_type": "code",
   "execution_count": 9,
   "id": "33ce1682",
   "metadata": {
    "execution": {
     "iopub.execute_input": "2022-06-02T14:19:26.979643Z",
     "iopub.status.busy": "2022-06-02T14:19:26.979184Z",
     "iopub.status.idle": "2022-06-02T14:19:26.983853Z",
     "shell.execute_reply": "2022-06-02T14:19:26.982626Z"
    },
    "papermill": {
     "duration": 0.015703,
     "end_time": "2022-06-02T14:19:26.985891",
     "exception": false,
     "start_time": "2022-06-02T14:19:26.970188",
     "status": "completed"
    },
    "tags": []
   },
   "outputs": [],
   "source": [
    "# Uncomment to see a hint\n",
    "#q4.hint()\n",
    "\n",
    "# Uncomment to view the solution\n",
    "#q4.solution()"
   ]
  },
  {
   "cell_type": "markdown",
   "id": "0bda8ef3",
   "metadata": {
    "papermill": {
     "duration": 0.007648,
     "end_time": "2022-06-02T14:19:27.001947",
     "exception": false,
     "start_time": "2022-06-02T14:19:26.994299",
     "status": "completed"
    },
    "tags": []
   },
   "source": [
    "# 🌶️ Question 5\n",
    "\n",
    "Now say you can no longer buy fractions of a gallon.  (For instance, if you need 4.3 gallons to do a project, then you have to buy 5 gallons of paint.)\n",
    "\n",
    "With this new scenario, you will create a new function `get_actual_cost` that uses the same inputs and calculates the cost of your project.\n",
    "\n",
    "One function that you'll need to use to do this is `math.ceil()`.  We demonstrate usage of this function in the code cell below.  It takes as a number as input and rounds the number up to the nearest integer.  \n",
    "\n",
    "Run the next code cell to test this function for yourself.  Feel free to change the value of `test_value` and make sure `math.ceil()` returns the number you expect."
   ]
  },
  {
   "cell_type": "code",
   "execution_count": 10,
   "id": "700fda91",
   "metadata": {
    "execution": {
     "iopub.execute_input": "2022-06-02T14:19:27.021108Z",
     "iopub.status.busy": "2022-06-02T14:19:27.020449Z",
     "iopub.status.idle": "2022-06-02T14:19:27.025300Z",
     "shell.execute_reply": "2022-06-02T14:19:27.024258Z"
    },
    "papermill": {
     "duration": 0.016723,
     "end_time": "2022-06-02T14:19:27.027430",
     "exception": false,
     "start_time": "2022-06-02T14:19:27.010707",
     "status": "completed"
    },
    "tags": []
   },
   "outputs": [
    {
     "name": "stdout",
     "output_type": "stream",
     "text": [
      "3\n"
     ]
    }
   ],
   "source": [
    "test_value = 2.17\n",
    "\n",
    "rounded_value = math.ceil(test_value)\n",
    "print(rounded_value)"
   ]
  },
  {
   "cell_type": "markdown",
   "id": "dde61d1f",
   "metadata": {
    "papermill": {
     "duration": 0.007927,
     "end_time": "2022-06-02T14:19:27.043775",
     "exception": false,
     "start_time": "2022-06-02T14:19:27.035848",
     "status": "completed"
    },
    "tags": []
   },
   "source": [
    "Use the next code cell to define the function `get_actual_cost()`.  You'll need to use the `math.ceil()` function to do this.\n",
    "\n",
    "When answering this question, note that it's completely valid to define a function that makes use of another function.  For instance, we can define a function `round_up_and_divide_by_three` that makes use of the `math.ceil` function:\n",
    "```\n",
    "def round_up_and_divide_by_three(num):\n",
    "    new_value = math.ceil(num)\n",
    "    final_value = new_value / 3\n",
    "    return final_value\n",
    "```"
   ]
  },
  {
   "cell_type": "code",
   "execution_count": 11,
   "id": "1f69a12e",
   "metadata": {
    "execution": {
     "iopub.execute_input": "2022-06-02T14:19:27.061931Z",
     "iopub.status.busy": "2022-06-02T14:19:27.060869Z",
     "iopub.status.idle": "2022-06-02T14:19:27.070070Z",
     "shell.execute_reply": "2022-06-02T14:19:27.069314Z"
    },
    "papermill": {
     "duration": 0.020454,
     "end_time": "2022-06-02T14:19:27.072122",
     "exception": false,
     "start_time": "2022-06-02T14:19:27.051668",
     "status": "completed"
    },
    "tags": []
   },
   "outputs": [
    {
     "data": {
      "application/javascript": [
       "parent.postMessage({\"jupyterEvent\": \"custom.exercise_interaction\", \"data\": {\"outcomeType\": 1, \"valueTowardsCompletion\": 0.2, \"interactionType\": 1, \"questionType\": 2, \"questionId\": \"5_NoMoreFractions\", \"learnToolsVersion\": \"0.3.4\", \"failureMessage\": \"\", \"exceptionClass\": \"\", \"trace\": \"\"}}, \"*\")"
      ],
      "text/plain": [
       "<IPython.core.display.Javascript object>"
      ]
     },
     "metadata": {},
     "output_type": "display_data"
    },
    {
     "data": {
      "text/markdown": [
       "<span style=\"color:#33cc33\">Correct</span>"
      ],
      "text/plain": [
       "Correct"
      ]
     },
     "metadata": {},
     "output_type": "display_data"
    }
   ],
   "source": [
    "def get_actual_cost(sqft_walls, sqft_ceiling, sqft_per_gallon, cost_per_gallon):\n",
    "    cost = math.ceil((sqft_walls + sqft_ceiling) / sqft_per_gallon) * cost_per_gallon\n",
    "    return cost\n",
    "\n",
    "# Check your answer\n",
    "q5.check()"
   ]
  },
  {
   "cell_type": "code",
   "execution_count": 12,
   "id": "bd60c8cd",
   "metadata": {
    "execution": {
     "iopub.execute_input": "2022-06-02T14:19:27.090425Z",
     "iopub.status.busy": "2022-06-02T14:19:27.089251Z",
     "iopub.status.idle": "2022-06-02T14:19:27.094392Z",
     "shell.execute_reply": "2022-06-02T14:19:27.093494Z"
    },
    "papermill": {
     "duration": 0.016467,
     "end_time": "2022-06-02T14:19:27.096598",
     "exception": false,
     "start_time": "2022-06-02T14:19:27.080131",
     "status": "completed"
    },
    "tags": []
   },
   "outputs": [],
   "source": [
    "# Uncomment to see a hint\n",
    "#q5.hint()\n",
    "\n",
    "# Uncomment to view the solution\n",
    "#q5.solution()"
   ]
  },
  {
   "cell_type": "markdown",
   "id": "7ba00285",
   "metadata": {
    "papermill": {
     "duration": 0.008098,
     "end_time": "2022-06-02T14:19:27.112970",
     "exception": false,
     "start_time": "2022-06-02T14:19:27.104872",
     "status": "completed"
    },
    "tags": []
   },
   "source": [
    "Once your function is verified as correct, run the next code cell to calculate the updated cost of your project."
   ]
  },
  {
   "cell_type": "code",
   "execution_count": 13,
   "id": "37732216",
   "metadata": {
    "execution": {
     "iopub.execute_input": "2022-06-02T14:19:27.131227Z",
     "iopub.status.busy": "2022-06-02T14:19:27.130289Z",
     "iopub.status.idle": "2022-06-02T14:19:27.137117Z",
     "shell.execute_reply": "2022-06-02T14:19:27.136191Z"
    },
    "papermill": {
     "duration": 0.017943,
     "end_time": "2022-06-02T14:19:27.139039",
     "exception": false,
     "start_time": "2022-06-02T14:19:27.121096",
     "status": "completed"
    },
    "tags": []
   },
   "outputs": [
    {
     "data": {
      "text/plain": [
       "30"
      ]
     },
     "execution_count": 13,
     "metadata": {},
     "output_type": "execute_result"
    }
   ],
   "source": [
    "get_actual_cost(432, 144, 400, 15) "
   ]
  },
  {
   "cell_type": "markdown",
   "id": "a8ddc6b5",
   "metadata": {
    "papermill": {
     "duration": 0.008027,
     "end_time": "2022-06-02T14:19:27.155420",
     "exception": false,
     "start_time": "2022-06-02T14:19:27.147393",
     "status": "completed"
    },
    "tags": []
   },
   "source": [
    "Say you're working with a slightly larger room.  Run the next code cell to calculate the cost of the project."
   ]
  },
  {
   "cell_type": "code",
   "execution_count": 14,
   "id": "f1df3a87",
   "metadata": {
    "execution": {
     "iopub.execute_input": "2022-06-02T14:19:27.173888Z",
     "iopub.status.busy": "2022-06-02T14:19:27.173480Z",
     "iopub.status.idle": "2022-06-02T14:19:27.179604Z",
     "shell.execute_reply": "2022-06-02T14:19:27.178649Z"
    },
    "papermill": {
     "duration": 0.017503,
     "end_time": "2022-06-02T14:19:27.181642",
     "exception": false,
     "start_time": "2022-06-02T14:19:27.164139",
     "status": "completed"
    },
    "tags": []
   },
   "outputs": [
    {
     "data": {
      "text/plain": [
       "45"
      ]
     },
     "execution_count": 14,
     "metadata": {},
     "output_type": "execute_result"
    }
   ],
   "source": [
    "get_actual_cost(594, 288, 400, 15) "
   ]
  },
  {
   "cell_type": "markdown",
   "id": "1ff57813",
   "metadata": {
    "papermill": {
     "duration": 0.008225,
     "end_time": "2022-06-02T14:19:27.198328",
     "exception": false,
     "start_time": "2022-06-02T14:19:27.190103",
     "status": "completed"
    },
    "tags": []
   },
   "source": [
    "# Keep going\n",
    "\n",
    "Continue to learn about **[data types](https://www.kaggle.com/alexisbcook/data-types)**."
   ]
  },
  {
   "cell_type": "markdown",
   "id": "81c5c96b",
   "metadata": {
    "papermill": {
     "duration": 0.008052,
     "end_time": "2022-06-02T14:19:27.214758",
     "exception": false,
     "start_time": "2022-06-02T14:19:27.206706",
     "status": "completed"
    },
    "tags": []
   },
   "source": [
    "---\n",
    "\n",
    "\n",
    "\n",
    "\n",
    "*Have questions or comments? Visit the [course discussion forum](https://www.kaggle.com/learn/intro-to-programming/discussion) to chat with other learners.*"
   ]
  }
 ],
 "metadata": {
  "kernelspec": {
   "display_name": "Python 3",
   "language": "python",
   "name": "python3"
  },
  "language_info": {
   "codemirror_mode": {
    "name": "ipython",
    "version": 3
   },
   "file_extension": ".py",
   "mimetype": "text/x-python",
   "name": "python",
   "nbconvert_exporter": "python",
   "pygments_lexer": "ipython3",
   "version": "3.7.12"
  },
  "papermill": {
   "default_parameters": {},
   "duration": 11.155146,
   "end_time": "2022-06-02T14:19:27.843879",
   "environment_variables": {},
   "exception": null,
   "input_path": "__notebook__.ipynb",
   "output_path": "__notebook__.ipynb",
   "parameters": {},
   "start_time": "2022-06-02T14:19:16.688733",
   "version": "2.3.4"
  }
 },
 "nbformat": 4,
 "nbformat_minor": 5
}
