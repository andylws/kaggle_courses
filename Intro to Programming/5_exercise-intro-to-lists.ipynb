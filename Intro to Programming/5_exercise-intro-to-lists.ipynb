{
 "cells": [
  {
   "cell_type": "markdown",
   "id": "c2581b6c",
   "metadata": {
    "papermill": {
     "duration": 0.011421,
     "end_time": "2022-06-02T15:02:02.774296",
     "exception": false,
     "start_time": "2022-06-02T15:02:02.762875",
     "status": "completed"
    },
    "tags": []
   },
   "source": [
    "**This notebook is an exercise in the [Intro to Programming](https://www.kaggle.com/learn/intro-to-programming) course.  You can reference the tutorial at [this link](https://www.kaggle.com/alexisbcook/intro-to-lists).**\n",
    "\n",
    "---\n"
   ]
  },
  {
   "cell_type": "markdown",
   "id": "f1c64634",
   "metadata": {
    "papermill": {
     "duration": 0.007593,
     "end_time": "2022-06-02T15:02:02.790025",
     "exception": false,
     "start_time": "2022-06-02T15:02:02.782432",
     "status": "completed"
    },
    "tags": []
   },
   "source": [
    "In the tutorial, you learned how to define and modify Python lists.  In this exercise, you will use your new knowledge to solve several problems.\n",
    "\n",
    "# Set up the notebook\n",
    "\n",
    "Run the next code cell without changes to set up the notebook."
   ]
  },
  {
   "cell_type": "code",
   "execution_count": 1,
   "id": "edb1f56d",
   "metadata": {
    "execution": {
     "iopub.execute_input": "2022-06-02T15:02:02.808091Z",
     "iopub.status.busy": "2022-06-02T15:02:02.807605Z",
     "iopub.status.idle": "2022-06-02T15:02:02.865829Z",
     "shell.execute_reply": "2022-06-02T15:02:02.865114Z"
    },
    "papermill": {
     "duration": 0.070485,
     "end_time": "2022-06-02T15:02:02.868651",
     "exception": false,
     "start_time": "2022-06-02T15:02:02.798166",
     "status": "completed"
    },
    "tags": []
   },
   "outputs": [
    {
     "name": "stdout",
     "output_type": "stream",
     "text": [
      "Setup complete.\n"
     ]
    }
   ],
   "source": [
    "from learntools.core import binder\n",
    "binder.bind(globals())\n",
    "from learntools.intro_to_programming.ex5 import *\n",
    "print('Setup complete.')"
   ]
  },
  {
   "cell_type": "markdown",
   "id": "1e5c3cf6",
   "metadata": {
    "papermill": {
     "duration": 0.008096,
     "end_time": "2022-06-02T15:02:02.885755",
     "exception": false,
     "start_time": "2022-06-02T15:02:02.877659",
     "status": "completed"
    },
    "tags": []
   },
   "source": [
    "# Question 1\n",
    "\n",
    "You own a restaurant with five food dishes, organized in the Python list `menu` below.  One day, you decide to:\n",
    "- remove bean soup (`'bean soup'`) from the menu, and\n",
    "- add roasted beet salad (`'roasted beet salad'`) to the menu.\n",
    "\n",
    "Implement this change to the list below.  While completing this task, \n",
    "- do not change the line that creates the `menu` list.  \n",
    "- your answer should use `.remove()` and `.append()`.  "
   ]
  },
  {
   "cell_type": "code",
   "execution_count": 2,
   "id": "e7803f33",
   "metadata": {
    "execution": {
     "iopub.execute_input": "2022-06-02T15:02:02.904634Z",
     "iopub.status.busy": "2022-06-02T15:02:02.904011Z",
     "iopub.status.idle": "2022-06-02T15:02:02.913804Z",
     "shell.execute_reply": "2022-06-02T15:02:02.913139Z"
    },
    "papermill": {
     "duration": 0.021709,
     "end_time": "2022-06-02T15:02:02.915926",
     "exception": false,
     "start_time": "2022-06-02T15:02:02.894217",
     "status": "completed"
    },
    "tags": []
   },
   "outputs": [
    {
     "data": {
      "application/javascript": [
       "parent.postMessage({\"jupyterEvent\": \"custom.exercise_interaction\", \"data\": {\"outcomeType\": 1, \"valueTowardsCompletion\": 0.2, \"interactionType\": 1, \"questionType\": 2, \"questionId\": \"1_FoodMenu\", \"learnToolsVersion\": \"0.3.4\", \"failureMessage\": \"\", \"exceptionClass\": \"\", \"trace\": \"\"}}, \"*\")"
      ],
      "text/plain": [
       "<IPython.core.display.Javascript object>"
      ]
     },
     "metadata": {},
     "output_type": "display_data"
    },
    {
     "data": {
      "text/markdown": [
       "<span style=\"color:#33cc33\">Correct</span>"
      ],
      "text/plain": [
       "Correct"
      ]
     },
     "metadata": {},
     "output_type": "display_data"
    }
   ],
   "source": [
    "# Do not change: Initial menu for your restaurant\n",
    "menu = ['stewed meat with onions', 'bean soup', 'risotto with trout and shrimp',\n",
    "       'fish soup with cream and onion', 'gyro']\n",
    "\n",
    "# TODO: remove 'bean soup', and add 'roasted beet salad' to the end of the menu\n",
    "menu.remove('bean soup')\n",
    "menu.append('roasted beet salad')\n",
    "\n",
    "# Do not change: Check your answer\n",
    "q1.check()"
   ]
  },
  {
   "cell_type": "code",
   "execution_count": 3,
   "id": "74c03169",
   "metadata": {
    "execution": {
     "iopub.execute_input": "2022-06-02T15:02:02.935520Z",
     "iopub.status.busy": "2022-06-02T15:02:02.934225Z",
     "iopub.status.idle": "2022-06-02T15:02:02.938649Z",
     "shell.execute_reply": "2022-06-02T15:02:02.938000Z"
    },
    "papermill": {
     "duration": 0.015905,
     "end_time": "2022-06-02T15:02:02.940344",
     "exception": false,
     "start_time": "2022-06-02T15:02:02.924439",
     "status": "completed"
    },
    "tags": []
   },
   "outputs": [],
   "source": [
    "# Uncomment to see a hint\n",
    "#q1.hint()\n",
    "\n",
    "# Uncomment to see the solution\n",
    "#q1.solution()"
   ]
  },
  {
   "cell_type": "markdown",
   "id": "6b51367b",
   "metadata": {
    "papermill": {
     "duration": 0.008005,
     "end_time": "2022-06-02T15:02:02.956796",
     "exception": false,
     "start_time": "2022-06-02T15:02:02.948791",
     "status": "completed"
    },
    "tags": []
   },
   "source": [
    "# Question 2\n",
    "\n",
    "The list `num_customers` contains the number of customers who came into your restaurant every day over the last month (which lasted thirty days).  Fill in values for each of the following:\n",
    "- `avg_first_seven` - average number of customers who visited in the first seven days\n",
    "- `avg_last_seven` - average number of customers who visited in the last seven days\n",
    "- `max_month` - number of customers on the day that got the most customers in the last month\n",
    "- `min_month` - number of customers on the day that got the least customers in the last month\n",
    "\n",
    "Answer this question by writing code.  For instance, if you have to find the minimum value in a list, use `min()` instead of scanning for the smallest value and directly filling in a number."
   ]
  },
  {
   "cell_type": "code",
   "execution_count": 4,
   "id": "e2586f22",
   "metadata": {
    "execution": {
     "iopub.execute_input": "2022-06-02T15:02:02.976212Z",
     "iopub.status.busy": "2022-06-02T15:02:02.975513Z",
     "iopub.status.idle": "2022-06-02T15:02:02.985904Z",
     "shell.execute_reply": "2022-06-02T15:02:02.985318Z"
    },
    "papermill": {
     "duration": 0.022634,
     "end_time": "2022-06-02T15:02:02.987900",
     "exception": false,
     "start_time": "2022-06-02T15:02:02.965266",
     "status": "completed"
    },
    "tags": []
   },
   "outputs": [
    {
     "data": {
      "application/javascript": [
       "parent.postMessage({\"jupyterEvent\": \"custom.exercise_interaction\", \"data\": {\"outcomeType\": 1, \"valueTowardsCompletion\": 0.2, \"interactionType\": 1, \"questionType\": 1, \"questionId\": \"2_NumCustomers\", \"learnToolsVersion\": \"0.3.4\", \"failureMessage\": \"\", \"exceptionClass\": \"\", \"trace\": \"\"}}, \"*\")"
      ],
      "text/plain": [
       "<IPython.core.display.Javascript object>"
      ]
     },
     "metadata": {},
     "output_type": "display_data"
    },
    {
     "data": {
      "text/markdown": [
       "<span style=\"color:#33cc33\">Correct</span>"
      ],
      "text/plain": [
       "Correct"
      ]
     },
     "metadata": {},
     "output_type": "display_data"
    }
   ],
   "source": [
    "# Do not change: Number of customers each day for the last month\n",
    "num_customers = [137, 147, 135, 128, 170, 174, 165, 146, 126, 159,\n",
    "                 141, 148, 132, 147, 168, 153, 170, 161, 148, 152,\n",
    "                 141, 151, 131, 149, 164, 163, 143, 143, 166, 171]\n",
    "\n",
    "# TODO: Fill in values for the variables below\n",
    "avg_first_seven = sum(num_customers[:7]) / 7 \n",
    "avg_last_seven = sum(num_customers[-7:]) / 7\n",
    "max_month = max(num_customers)\n",
    "min_month = min(num_customers)\n",
    "\n",
    "# Do not change: Check your answer\n",
    "q2.check()"
   ]
  },
  {
   "cell_type": "code",
   "execution_count": 5,
   "id": "50049e94",
   "metadata": {
    "execution": {
     "iopub.execute_input": "2022-06-02T15:02:03.007531Z",
     "iopub.status.busy": "2022-06-02T15:02:03.006452Z",
     "iopub.status.idle": "2022-06-02T15:02:03.010431Z",
     "shell.execute_reply": "2022-06-02T15:02:03.009656Z"
    },
    "papermill": {
     "duration": 0.015651,
     "end_time": "2022-06-02T15:02:03.012196",
     "exception": false,
     "start_time": "2022-06-02T15:02:02.996545",
     "status": "completed"
    },
    "tags": []
   },
   "outputs": [],
   "source": [
    "# Uncomment to see a hint\n",
    "#q2.hint()\n",
    "\n",
    "# Uncomment to see the solution\n",
    "#q2.solution()"
   ]
  },
  {
   "cell_type": "markdown",
   "id": "5ef45c3e",
   "metadata": {
    "papermill": {
     "duration": 0.008532,
     "end_time": "2022-06-02T15:02:03.029525",
     "exception": false,
     "start_time": "2022-06-02T15:02:03.020993",
     "status": "completed"
    },
    "tags": []
   },
   "source": [
    "# Question 3\n",
    "\n",
    "In the tutorial, we gave an example of a Python string with information that was better as a list."
   ]
  },
  {
   "cell_type": "code",
   "execution_count": 6,
   "id": "020519af",
   "metadata": {
    "execution": {
     "iopub.execute_input": "2022-06-02T15:02:03.049918Z",
     "iopub.status.busy": "2022-06-02T15:02:03.048777Z",
     "iopub.status.idle": "2022-06-02T15:02:03.053631Z",
     "shell.execute_reply": "2022-06-02T15:02:03.052826Z"
    },
    "papermill": {
     "duration": 0.01711,
     "end_time": "2022-06-02T15:02:03.055584",
     "exception": false,
     "start_time": "2022-06-02T15:02:03.038474",
     "status": "completed"
    },
    "tags": []
   },
   "outputs": [],
   "source": [
    "flowers = \"pink primrose,hard-leaved pocket orchid,canterbury bells,sweet pea,english marigold,tiger lily,moon orchid,bird of paradise,monkshood,globe thistle\""
   ]
  },
  {
   "cell_type": "markdown",
   "id": "5f394e78",
   "metadata": {
    "papermill": {
     "duration": 0.00906,
     "end_time": "2022-06-02T15:02:03.074261",
     "exception": false,
     "start_time": "2022-06-02T15:02:03.065201",
     "status": "completed"
    },
    "tags": []
   },
   "source": [
    "You can actually use Python to quickly turn this string into a list with `.split()`.  In the parentheses, we need to provide the character should be used to mark the end of one list item and the beginning of another, and enclose it in quotation marks.  In this case, that character is a comma."
   ]
  },
  {
   "cell_type": "code",
   "execution_count": 7,
   "id": "6f121cc5",
   "metadata": {
    "execution": {
     "iopub.execute_input": "2022-06-02T15:02:03.093509Z",
     "iopub.status.busy": "2022-06-02T15:02:03.093203Z",
     "iopub.status.idle": "2022-06-02T15:02:03.097234Z",
     "shell.execute_reply": "2022-06-02T15:02:03.096457Z"
    },
    "papermill": {
     "duration": 0.016506,
     "end_time": "2022-06-02T15:02:03.099763",
     "exception": false,
     "start_time": "2022-06-02T15:02:03.083257",
     "status": "completed"
    },
    "tags": []
   },
   "outputs": [
    {
     "name": "stdout",
     "output_type": "stream",
     "text": [
      "['pink primrose', 'hard-leaved pocket orchid', 'canterbury bells', 'sweet pea', 'english marigold', 'tiger lily', 'moon orchid', 'bird of paradise', 'monkshood', 'globe thistle']\n"
     ]
    }
   ],
   "source": [
    " print(flowers.split(\",\"))"
   ]
  },
  {
   "cell_type": "markdown",
   "id": "75ed93b4",
   "metadata": {
    "papermill": {
     "duration": 0.008817,
     "end_time": "2022-06-02T15:02:03.118597",
     "exception": false,
     "start_time": "2022-06-02T15:02:03.109780",
     "status": "completed"
    },
    "tags": []
   },
   "source": [
    "Now it is your turn to try this out!  Create two Python lists:\n",
    "- `letters` should be a Python list where each entry is an uppercase letter of the English alphabet.  For instance, the first two entries should be `\"A\"` and `\"B\"`, and the final two entries should be `\"Y\"` and `\"Z\"`.  Use the string `alphabet` to create this list.\n",
    "- `address` should be a Python list where each row in `address` is a different item in the list.  Currently, each row in `address` is separated by a comma. "
   ]
  },
  {
   "cell_type": "code",
   "execution_count": 8,
   "id": "4a616950",
   "metadata": {
    "execution": {
     "iopub.execute_input": "2022-06-02T15:02:03.138486Z",
     "iopub.status.busy": "2022-06-02T15:02:03.138144Z",
     "iopub.status.idle": "2022-06-02T15:02:03.144770Z",
     "shell.execute_reply": "2022-06-02T15:02:03.144119Z"
    },
    "papermill": {
     "duration": 0.018954,
     "end_time": "2022-06-02T15:02:03.146721",
     "exception": false,
     "start_time": "2022-06-02T15:02:03.127767",
     "status": "completed"
    },
    "tags": []
   },
   "outputs": [
    {
     "data": {
      "application/javascript": [
       "parent.postMessage({\"jupyterEvent\": \"custom.exercise_interaction\", \"data\": {\"outcomeType\": 1, \"valueTowardsCompletion\": 0.2, \"interactionType\": 1, \"questionType\": 1, \"questionId\": \"3_SplitString\", \"learnToolsVersion\": \"0.3.4\", \"failureMessage\": \"\", \"exceptionClass\": \"\", \"trace\": \"\"}}, \"*\")"
      ],
      "text/plain": [
       "<IPython.core.display.Javascript object>"
      ]
     },
     "metadata": {},
     "output_type": "display_data"
    },
    {
     "data": {
      "text/markdown": [
       "<span style=\"color:#33cc33\">Correct</span>"
      ],
      "text/plain": [
       "Correct"
      ]
     },
     "metadata": {},
     "output_type": "display_data"
    }
   ],
   "source": [
    "# DO not change: Define two Python strings\n",
    "alphabet = \"A.B.C.D.E.F.G.H.I.J.K.L.M.N.O.P.Q.R.S.T.U.V.W.X.Y.Z\"\n",
    "address = \"Mr. H. Potter,The cupboard under the Stairs,4 Privet Drive,Little Whinging,Surrey\"\n",
    "\n",
    "# TODO: Convert strings into Python lists\n",
    "letters = alphabet.split(\".\")\n",
    "formatted_address = address.split(\",\")\n",
    "\n",
    "# Do not change: Check your answer\n",
    "q3.check()"
   ]
  },
  {
   "cell_type": "code",
   "execution_count": 9,
   "id": "eb1d4bb3",
   "metadata": {
    "execution": {
     "iopub.execute_input": "2022-06-02T15:02:03.168091Z",
     "iopub.status.busy": "2022-06-02T15:02:03.167623Z",
     "iopub.status.idle": "2022-06-02T15:02:03.172511Z",
     "shell.execute_reply": "2022-06-02T15:02:03.171126Z"
    },
    "papermill": {
     "duration": 0.018168,
     "end_time": "2022-06-02T15:02:03.174703",
     "exception": false,
     "start_time": "2022-06-02T15:02:03.156535",
     "status": "completed"
    },
    "tags": []
   },
   "outputs": [],
   "source": [
    "# Uncomment to see a hint\n",
    "#q3.hint()\n",
    "\n",
    "# Uncomment to see the solution\n",
    "#q3.solution()"
   ]
  },
  {
   "cell_type": "markdown",
   "id": "b964c8b2",
   "metadata": {
    "papermill": {
     "duration": 0.008924,
     "end_time": "2022-06-02T15:02:03.193257",
     "exception": false,
     "start_time": "2022-06-02T15:02:03.184333",
     "status": "completed"
    },
    "tags": []
   },
   "source": [
    "# Question 4\n",
    "\n",
    "In the Python course, you'll learn all about **list comprehensions**, which allow you to create a list based on the values in another list.  In this question, you'll get a brief preview of how they work.\n",
    "\n",
    "Say we're working with the list below."
   ]
  },
  {
   "cell_type": "code",
   "execution_count": 10,
   "id": "d9235e70",
   "metadata": {
    "execution": {
     "iopub.execute_input": "2022-06-02T15:02:03.213186Z",
     "iopub.status.busy": "2022-06-02T15:02:03.212856Z",
     "iopub.status.idle": "2022-06-02T15:02:03.216448Z",
     "shell.execute_reply": "2022-06-02T15:02:03.215639Z"
    },
    "papermill": {
     "duration": 0.015618,
     "end_time": "2022-06-02T15:02:03.218119",
     "exception": false,
     "start_time": "2022-06-02T15:02:03.202501",
     "status": "completed"
    },
    "tags": []
   },
   "outputs": [],
   "source": [
    "test_ratings = [1, 2, 3, 4, 5]"
   ]
  },
  {
   "cell_type": "markdown",
   "id": "ee20dec4",
   "metadata": {
    "papermill": {
     "duration": 0.008818,
     "end_time": "2022-06-02T15:02:03.236103",
     "exception": false,
     "start_time": "2022-06-02T15:02:03.227285",
     "status": "completed"
    },
    "tags": []
   },
   "source": [
    "Then we can use this list (`test_ratings`) to create a new list (`test_liked`) where each item has been turned into a boolean, depending on whether or not the item is greater than or equal to four."
   ]
  },
  {
   "cell_type": "code",
   "execution_count": 11,
   "id": "76715a64",
   "metadata": {
    "execution": {
     "iopub.execute_input": "2022-06-02T15:02:03.257175Z",
     "iopub.status.busy": "2022-06-02T15:02:03.256180Z",
     "iopub.status.idle": "2022-06-02T15:02:03.261787Z",
     "shell.execute_reply": "2022-06-02T15:02:03.260336Z"
    },
    "papermill": {
     "duration": 0.019562,
     "end_time": "2022-06-02T15:02:03.265032",
     "exception": false,
     "start_time": "2022-06-02T15:02:03.245470",
     "status": "completed"
    },
    "tags": []
   },
   "outputs": [
    {
     "name": "stdout",
     "output_type": "stream",
     "text": [
      "[False, False, False, True, True]\n"
     ]
    }
   ],
   "source": [
    "test_liked = [i>=4 for i in test_ratings]\n",
    "print(test_liked)"
   ]
  },
  {
   "cell_type": "markdown",
   "id": "e1e61206",
   "metadata": {
    "papermill": {
     "duration": 0.008995,
     "end_time": "2022-06-02T15:02:03.284307",
     "exception": false,
     "start_time": "2022-06-02T15:02:03.275312",
     "status": "completed"
    },
    "tags": []
   },
   "source": [
    "In this question, you'll use this list comprehension to define a function `percentage_liked()` that takes one argument as input:\n",
    "- `ratings`: list of ratings that people gave to a movie, where each rating is a number between 1-5, inclusive\n",
    "\n",
    "We say someone liked the movie, if they gave a rating of either 4 or 5.  Your function should return the percentage of people who liked the movie.\n",
    "\n",
    "For instance, if we supply a value of `[1, 2, 3, 4, 5, 4, 5, 1]`, then 50% (4/8) of the people liked the movie, and the function should return `0.5`.\n",
    "\n",
    "Part of the function has already been completed for you.  You need only use `list_liked` to calculate `percentage_liked`."
   ]
  },
  {
   "cell_type": "code",
   "execution_count": 12,
   "id": "b0d30de2",
   "metadata": {
    "execution": {
     "iopub.execute_input": "2022-06-02T15:02:03.304804Z",
     "iopub.status.busy": "2022-06-02T15:02:03.304307Z",
     "iopub.status.idle": "2022-06-02T15:02:03.311793Z",
     "shell.execute_reply": "2022-06-02T15:02:03.311092Z"
    },
    "papermill": {
     "duration": 0.01979,
     "end_time": "2022-06-02T15:02:03.313528",
     "exception": false,
     "start_time": "2022-06-02T15:02:03.293738",
     "status": "completed"
    },
    "tags": []
   },
   "outputs": [
    {
     "data": {
      "application/javascript": [
       "parent.postMessage({\"jupyterEvent\": \"custom.exercise_interaction\", \"data\": {\"outcomeType\": 1, \"valueTowardsCompletion\": 0.2, \"interactionType\": 1, \"questionType\": 2, \"questionId\": \"4_PercentageLiked\", \"learnToolsVersion\": \"0.3.4\", \"failureMessage\": \"\", \"exceptionClass\": \"\", \"trace\": \"\"}}, \"*\")"
      ],
      "text/plain": [
       "<IPython.core.display.Javascript object>"
      ]
     },
     "metadata": {},
     "output_type": "display_data"
    },
    {
     "data": {
      "text/markdown": [
       "<span style=\"color:#33cc33\">Correct</span>"
      ],
      "text/plain": [
       "Correct"
      ]
     },
     "metadata": {},
     "output_type": "display_data"
    }
   ],
   "source": [
    "def percentage_liked(ratings):\n",
    "    list_liked = [i>=4 for i in ratings]\n",
    "    # TODO: Complete the function\n",
    "    percentage_liked = sum(list_liked) / len(list_liked)\n",
    "    return percentage_liked\n",
    "\n",
    "# Do not change: should return 0.5\n",
    "percentage_liked([1, 2, 3, 4, 5, 4, 5, 1])\n",
    "\n",
    "# Do not change: Check your answer\n",
    "q4.check()"
   ]
  },
  {
   "cell_type": "code",
   "execution_count": 13,
   "id": "9cbef211",
   "metadata": {
    "execution": {
     "iopub.execute_input": "2022-06-02T15:02:03.333944Z",
     "iopub.status.busy": "2022-06-02T15:02:03.333500Z",
     "iopub.status.idle": "2022-06-02T15:02:03.338350Z",
     "shell.execute_reply": "2022-06-02T15:02:03.337156Z"
    },
    "papermill": {
     "duration": 0.017369,
     "end_time": "2022-06-02T15:02:03.340352",
     "exception": false,
     "start_time": "2022-06-02T15:02:03.322983",
     "status": "completed"
    },
    "tags": []
   },
   "outputs": [],
   "source": [
    "# Uncomment to see a hint\n",
    "#q4.hint()\n",
    "\n",
    "# Uncomment to see the solution\n",
    "#q4.solution()"
   ]
  },
  {
   "cell_type": "markdown",
   "id": "e1543e22",
   "metadata": {
    "papermill": {
     "duration": 0.009441,
     "end_time": "2022-06-02T15:02:03.359913",
     "exception": false,
     "start_time": "2022-06-02T15:02:03.350472",
     "status": "completed"
    },
    "tags": []
   },
   "source": [
    "# 🌶️ Question 5\n",
    " \n",
    "Say you're doing analytics for a website.  You need to write a function that returns the percentage growth in the total number of users relative to a specified number of years ago.\n",
    "\n",
    "Your function `percentage_growth()` should take two arguments as input:\n",
    "- `num_users` = Python list with the total number of users each year.  So `num_users[0]` is the total number of users in the first year, `num_users[1]` is the total number of users in the second year, and so on.  The final entry in the list gives the total number of users in the most recently completed year.\n",
    "- `yrs_ago` = number of years to go back in time when calculating the growth percentage\n",
    "\n",
    "For instance, say `num_users = [920344, 1043553, 1204334, 1458996, 1503323, 1593432, 1623463, 1843064, 1930992, 2001078]`.\n",
    "- if `yrs_ago = 1`, we want the function to return a value of about `0.036`. This corresponds to a percentage growth of approximately 3.6%, calculated as (2001078 - 1930992)/1930992.\n",
    "- if `years_ago = 7`, we would want to return approximately `0.66`.  This corresponds to a percentage growth of approximately 66%, calculated as (2001078 - 1204334)/1204334.\n",
    "\n",
    "Your coworker sent you a draft of a function, but it doesn't seem to be doing the correct calculation.  Can you figure out what has gone wrong and make the needed changes?"
   ]
  },
  {
   "cell_type": "code",
   "execution_count": 14,
   "id": "8efabff0",
   "metadata": {
    "execution": {
     "iopub.execute_input": "2022-06-02T15:02:03.380882Z",
     "iopub.status.busy": "2022-06-02T15:02:03.380037Z",
     "iopub.status.idle": "2022-06-02T15:02:03.389842Z",
     "shell.execute_reply": "2022-06-02T15:02:03.388752Z"
    },
    "papermill": {
     "duration": 0.02294,
     "end_time": "2022-06-02T15:02:03.392306",
     "exception": false,
     "start_time": "2022-06-02T15:02:03.369366",
     "status": "completed"
    },
    "tags": []
   },
   "outputs": [
    {
     "name": "stdout",
     "output_type": "stream",
     "text": [
      "0.03629533421163837\n",
      "0.6615639847417742\n"
     ]
    },
    {
     "data": {
      "application/javascript": [
       "parent.postMessage({\"jupyterEvent\": \"custom.exercise_interaction\", \"data\": {\"outcomeType\": 1, \"valueTowardsCompletion\": 0.2, \"interactionType\": 1, \"questionType\": 2, \"questionId\": \"5_WebsiteAnalytics\", \"learnToolsVersion\": \"0.3.4\", \"failureMessage\": \"\", \"exceptionClass\": \"\", \"trace\": \"\"}}, \"*\")"
      ],
      "text/plain": [
       "<IPython.core.display.Javascript object>"
      ]
     },
     "metadata": {},
     "output_type": "display_data"
    },
    {
     "data": {
      "text/markdown": [
       "<span style=\"color:#33cc33\">Correct</span>"
      ],
      "text/plain": [
       "Correct"
      ]
     },
     "metadata": {},
     "output_type": "display_data"
    }
   ],
   "source": [
    "# TODO: Edit the function\n",
    "def percentage_growth(num_users, yrs_ago):\n",
    "    growth = (num_users[len(num_users)-1] - num_users[len(num_users)-yrs_ago-1])/num_users[len(num_users)-yrs_ago-1]\n",
    "    return growth\n",
    "\n",
    "# Do not change: Variable for calculating some test examples\n",
    "num_users_test = [920344, 1043553, 1204334, 1458996, 1503323, 1593432, 1623463, 1843064, 1930992, 2001078]\n",
    "\n",
    "# Do not change: Should return .036\n",
    "print(percentage_growth(num_users_test, 1))\n",
    "\n",
    "# Do not change: Should return 0.66\n",
    "print(percentage_growth(num_users_test, 7))\n",
    "\n",
    "# Do not change: Check your answer\n",
    "q5.check()"
   ]
  },
  {
   "cell_type": "code",
   "execution_count": 15,
   "id": "746eef0b",
   "metadata": {
    "execution": {
     "iopub.execute_input": "2022-06-02T15:02:03.415837Z",
     "iopub.status.busy": "2022-06-02T15:02:03.415390Z",
     "iopub.status.idle": "2022-06-02T15:02:03.417990Z",
     "shell.execute_reply": "2022-06-02T15:02:03.417570Z"
    },
    "papermill": {
     "duration": 0.015667,
     "end_time": "2022-06-02T15:02:03.420141",
     "exception": false,
     "start_time": "2022-06-02T15:02:03.404474",
     "status": "completed"
    },
    "tags": []
   },
   "outputs": [],
   "source": [
    "# Uncomment to see a hint\n",
    "#q5.hint()\n",
    "\n",
    "# Uncomment to see the solution\n",
    "#q5.solution()"
   ]
  },
  {
   "cell_type": "markdown",
   "id": "84b35e25",
   "metadata": {
    "papermill": {
     "duration": 0.009768,
     "end_time": "2022-06-02T15:02:03.440418",
     "exception": false,
     "start_time": "2022-06-02T15:02:03.430650",
     "status": "completed"
    },
    "tags": []
   },
   "source": [
    "# Congratulations!\n",
    "\n",
    "Congratulations for finishing the Intro to Programming course!  You should be proud of your very first steps with learning programming.  As next steps, we recommend taking:\n",
    "- the **[Python course](http://www.kaggle.com/learn/python)**, and \n",
    "- the **[Intro to Machine Learning course](https://www.kaggle.com/learn/intro-to-machine-learning)**."
   ]
  },
  {
   "cell_type": "markdown",
   "id": "404b80b2",
   "metadata": {
    "papermill": {
     "duration": 0.009806,
     "end_time": "2022-06-02T15:02:03.460479",
     "exception": false,
     "start_time": "2022-06-02T15:02:03.450673",
     "status": "completed"
    },
    "tags": []
   },
   "source": [
    "---\n",
    "\n",
    "\n",
    "\n",
    "\n",
    "*Have questions or comments? Visit the [course discussion forum](https://www.kaggle.com/learn/intro-to-programming/discussion) to chat with other learners.*"
   ]
  }
 ],
 "metadata": {
  "kernelspec": {
   "display_name": "Python 3",
   "language": "python",
   "name": "python3"
  },
  "language_info": {
   "codemirror_mode": {
    "name": "ipython",
    "version": 3
   },
   "file_extension": ".py",
   "mimetype": "text/x-python",
   "name": "python",
   "nbconvert_exporter": "python",
   "pygments_lexer": "ipython3",
   "version": "3.7.12"
  },
  "papermill": {
   "default_parameters": {},
   "duration": 12.868973,
   "end_time": "2022-06-02T15:02:04.391640",
   "environment_variables": {},
   "exception": null,
   "input_path": "__notebook__.ipynb",
   "output_path": "__notebook__.ipynb",
   "parameters": {},
   "start_time": "2022-06-02T15:01:51.522667",
   "version": "2.3.4"
  }
 },
 "nbformat": 4,
 "nbformat_minor": 5
}
