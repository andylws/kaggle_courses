{
 "cells": [
  {
   "cell_type": "markdown",
   "id": "f624d2f8",
   "metadata": {
    "papermill": {
     "duration": 0.006407,
     "end_time": "2022-06-02T14:30:38.701617",
     "exception": false,
     "start_time": "2022-06-02T14:30:38.695210",
     "status": "completed"
    },
    "tags": []
   },
   "source": [
    "**This notebook is an exercise in the [Intro to Programming](https://www.kaggle.com/learn/intro-to-programming) course.  You can reference the tutorial at [this link](https://www.kaggle.com/alexisbcook/data-types).**\n",
    "\n",
    "---\n"
   ]
  },
  {
   "cell_type": "markdown",
   "id": "8185919a",
   "metadata": {
    "papermill": {
     "duration": 0.005381,
     "end_time": "2022-06-02T14:30:38.712539",
     "exception": false,
     "start_time": "2022-06-02T14:30:38.707158",
     "status": "completed"
    },
    "tags": []
   },
   "source": [
    "In the tutorial, you learned about four different data types: floats, integers, strings, and booleans.  In this exercise, you'll experiment with them.\n",
    "\n",
    "# Set up the notebook\n",
    "\n",
    "Run the next code cell without changes to set up the notebook."
   ]
  },
  {
   "cell_type": "code",
   "execution_count": 1,
   "id": "a51f935b",
   "metadata": {
    "execution": {
     "iopub.execute_input": "2022-06-02T14:30:38.724711Z",
     "iopub.status.busy": "2022-06-02T14:30:38.724283Z",
     "iopub.status.idle": "2022-06-02T14:30:38.777562Z",
     "shell.execute_reply": "2022-06-02T14:30:38.776608Z"
    },
    "papermill": {
     "duration": 0.062334,
     "end_time": "2022-06-02T14:30:38.780074",
     "exception": false,
     "start_time": "2022-06-02T14:30:38.717740",
     "status": "completed"
    },
    "tags": []
   },
   "outputs": [
    {
     "name": "stdout",
     "output_type": "stream",
     "text": [
      "Setup complete.\n"
     ]
    }
   ],
   "source": [
    "# Set up the exercise\n",
    "from learntools.core import binder\n",
    "binder.bind(globals())\n",
    "from learntools.intro_to_programming.ex3 import *\n",
    "print('Setup complete.')"
   ]
  },
  {
   "cell_type": "markdown",
   "id": "8a186b07",
   "metadata": {
    "papermill": {
     "duration": 0.005609,
     "end_time": "2022-06-02T14:30:38.792378",
     "exception": false,
     "start_time": "2022-06-02T14:30:38.786769",
     "status": "completed"
    },
    "tags": []
   },
   "source": [
    "# Question 1\n",
    "\n",
    "You have seen how to convert a float to an integer with the `int` function.  Try this out yourself by running the code cell below."
   ]
  },
  {
   "cell_type": "code",
   "execution_count": 2,
   "id": "605db11d",
   "metadata": {
    "execution": {
     "iopub.execute_input": "2022-06-02T14:30:38.806447Z",
     "iopub.status.busy": "2022-06-02T14:30:38.805492Z",
     "iopub.status.idle": "2022-06-02T14:30:38.811840Z",
     "shell.execute_reply": "2022-06-02T14:30:38.810694Z"
    },
    "papermill": {
     "duration": 0.015904,
     "end_time": "2022-06-02T14:30:38.814102",
     "exception": false,
     "start_time": "2022-06-02T14:30:38.798198",
     "status": "completed"
    },
    "tags": []
   },
   "outputs": [
    {
     "name": "stdout",
     "output_type": "stream",
     "text": [
      "1.0\n",
      "<class 'float'>\n",
      "1\n",
      "<class 'int'>\n"
     ]
    }
   ],
   "source": [
    "# Define a float\n",
    "y = 1.\n",
    "print(y)\n",
    "print(type(y))\n",
    "\n",
    "# Convert float to integer with the int function\n",
    "z = int(y)\n",
    "print(z)\n",
    "print(type(z))"
   ]
  },
  {
   "cell_type": "markdown",
   "id": "03066b7f",
   "metadata": {
    "papermill": {
     "duration": 0.005504,
     "end_time": "2022-06-02T14:30:38.825771",
     "exception": false,
     "start_time": "2022-06-02T14:30:38.820267",
     "status": "completed"
    },
    "tags": []
   },
   "source": [
    "In this case, the float you are using has no numbers after the decimal.  \n",
    "- But what happens when you try to convert a float with a fractional part to an integer?  \n",
    "- How does the outcome of the `int` function change for positive and negative numbers?\n",
    "\n",
    "Use the next code cell to investigate and answer these questions.  Feel free to add or remove any lines of code -- it is your workspace!"
   ]
  },
  {
   "cell_type": "code",
   "execution_count": 3,
   "id": "ddb7c127",
   "metadata": {
    "execution": {
     "iopub.execute_input": "2022-06-02T14:30:38.841124Z",
     "iopub.status.busy": "2022-06-02T14:30:38.840064Z",
     "iopub.status.idle": "2022-06-02T14:30:38.846298Z",
     "shell.execute_reply": "2022-06-02T14:30:38.845577Z"
    },
    "papermill": {
     "duration": 0.016785,
     "end_time": "2022-06-02T14:30:38.849164",
     "exception": false,
     "start_time": "2022-06-02T14:30:38.832379",
     "status": "completed"
    },
    "tags": []
   },
   "outputs": [
    {
     "name": "stdout",
     "output_type": "stream",
     "text": [
      "1\n",
      "1\n",
      "-3\n",
      "-2\n"
     ]
    }
   ],
   "source": [
    "# Uncomment and run this code to get started!\n",
    "print(int(1.2321))\n",
    "print(int(1.747))\n",
    "print(int(-3.94535))\n",
    "print(int(-2.19774))"
   ]
  },
  {
   "cell_type": "markdown",
   "id": "5b5bbffb",
   "metadata": {
    "papermill": {
     "duration": 0.005515,
     "end_time": "2022-06-02T14:30:38.861989",
     "exception": false,
     "start_time": "2022-06-02T14:30:38.856474",
     "status": "completed"
    },
    "tags": []
   },
   "source": [
    "Once you have an answer, run the code cell below to see the solution.  Viewing the solution will give you credit for answering the problem."
   ]
  },
  {
   "cell_type": "code",
   "execution_count": 4,
   "id": "156a01d4",
   "metadata": {
    "execution": {
     "iopub.execute_input": "2022-06-02T14:30:38.874883Z",
     "iopub.status.busy": "2022-06-02T14:30:38.874270Z",
     "iopub.status.idle": "2022-06-02T14:30:38.882554Z",
     "shell.execute_reply": "2022-06-02T14:30:38.881895Z"
    },
    "papermill": {
     "duration": 0.016801,
     "end_time": "2022-06-02T14:30:38.884262",
     "exception": false,
     "start_time": "2022-06-02T14:30:38.867461",
     "status": "completed"
    },
    "tags": []
   },
   "outputs": [
    {
     "data": {
      "application/javascript": [
       "parent.postMessage({\"jupyterEvent\": \"custom.exercise_interaction\", \"data\": {\"outcomeType\": 1, \"valueTowardsCompletion\": 0.2, \"interactionType\": 1, \"questionType\": 4, \"questionId\": \"1_FloatToInt\", \"learnToolsVersion\": \"0.3.4\", \"failureMessage\": \"\", \"exceptionClass\": \"\", \"trace\": \"\"}}, \"*\")"
      ],
      "text/plain": [
       "<IPython.core.display.Javascript object>"
      ]
     },
     "metadata": {},
     "output_type": "display_data"
    },
    {
     "data": {
      "text/markdown": [
       "<span style=\"color:#33cc33\">Correct:</span> \n",
       "\n",
       "Negative floats are always rounded UP to the closest integer (for instance, both -1.1 and -1.9 are rounded up to -1). Positive floats are always rounded DOWN to the closest integer (for instance, 2.1 and 2.9 are rounded down to 2)."
      ],
      "text/plain": [
       "Correct: \n",
       "\n",
       "Negative floats are always rounded UP to the closest integer (for instance, both -1.1 and -1.9 are rounded up to -1). Positive floats are always rounded DOWN to the closest integer (for instance, 2.1 and 2.9 are rounded down to 2)."
      ]
     },
     "metadata": {},
     "output_type": "display_data"
    }
   ],
   "source": [
    "# Check your answer (Run this code cell to receive credit!)\n",
    "q1.check()"
   ]
  },
  {
   "cell_type": "markdown",
   "id": "ab057c21",
   "metadata": {
    "papermill": {
     "duration": 0.005295,
     "end_time": "2022-06-02T14:30:38.895239",
     "exception": false,
     "start_time": "2022-06-02T14:30:38.889944",
     "status": "completed"
    },
    "tags": []
   },
   "source": [
    "# Question 2\n",
    "\n",
    "In the tutorial, you learned about booleans (which can take a value of `True` or `False`), in addition to integers, floats, and strings.  For this question, your goal is to determine what happens when you multiply a boolean by any of these data types.  Specifically, \n",
    "- What happens when you multiply an integer or float by `True`?  What happens when you multiply them by `False`?  How does the answer change if the numbers are positive or negative?\n",
    "- What happens when you multiply a string by `True`?  By `False`?\n",
    "\n",
    "Use the next code cell for your investigation. "
   ]
  },
  {
   "cell_type": "code",
   "execution_count": 5,
   "id": "165b0f45",
   "metadata": {
    "execution": {
     "iopub.execute_input": "2022-06-02T14:30:38.908238Z",
     "iopub.status.busy": "2022-06-02T14:30:38.907679Z",
     "iopub.status.idle": "2022-06-02T14:30:38.913647Z",
     "shell.execute_reply": "2022-06-02T14:30:38.912168Z"
    },
    "papermill": {
     "duration": 0.014694,
     "end_time": "2022-06-02T14:30:38.915566",
     "exception": false,
     "start_time": "2022-06-02T14:30:38.900872",
     "status": "completed"
    },
    "tags": []
   },
   "outputs": [
    {
     "name": "stdout",
     "output_type": "stream",
     "text": [
      "3\n",
      "-3.1\n",
      "<class 'str'>\n",
      "0\n"
     ]
    }
   ],
   "source": [
    "# Uncomment and run this code to get started!\n",
    "print(3 * True)\n",
    "print(-3.1 * True)\n",
    "print(type(\"abc\" * False))\n",
    "print(len(\"abc\" * False))"
   ]
  },
  {
   "cell_type": "markdown",
   "id": "e0b3a4bf",
   "metadata": {
    "papermill": {
     "duration": 0.005292,
     "end_time": "2022-06-02T14:30:38.926571",
     "exception": false,
     "start_time": "2022-06-02T14:30:38.921279",
     "status": "completed"
    },
    "tags": []
   },
   "source": [
    "Once you have an answer, run the code cell below to see the solution.  Viewing the solution will give you credit for answering the problem."
   ]
  },
  {
   "cell_type": "code",
   "execution_count": 6,
   "id": "888f7555",
   "metadata": {
    "execution": {
     "iopub.execute_input": "2022-06-02T14:30:38.939427Z",
     "iopub.status.busy": "2022-06-02T14:30:38.938831Z",
     "iopub.status.idle": "2022-06-02T14:30:38.944879Z",
     "shell.execute_reply": "2022-06-02T14:30:38.944214Z"
    },
    "papermill": {
     "duration": 0.01438,
     "end_time": "2022-06-02T14:30:38.946467",
     "exception": false,
     "start_time": "2022-06-02T14:30:38.932087",
     "status": "completed"
    },
    "tags": []
   },
   "outputs": [
    {
     "data": {
      "application/javascript": [
       "parent.postMessage({\"jupyterEvent\": \"custom.exercise_interaction\", \"data\": {\"outcomeType\": 1, \"valueTowardsCompletion\": 0.2, \"interactionType\": 1, \"questionType\": 4, \"questionId\": \"2_MultiplyBooleans\", \"learnToolsVersion\": \"0.3.4\", \"failureMessage\": \"\", \"exceptionClass\": \"\", \"trace\": \"\"}}, \"*\")"
      ],
      "text/plain": [
       "<IPython.core.display.Javascript object>"
      ]
     },
     "metadata": {},
     "output_type": "display_data"
    },
    {
     "data": {
      "text/markdown": [
       "<span style=\"color:#33cc33\">Correct:</span> \n",
       "\n",
       "When you multiple an integer or float by a boolean with value `True`, it just returns that same integer or float (and is equivalent to multiplying by 1).  If you multiply an integer or float by a boolean with value `False`, it always returns 0.  This is true for both positive and negative numbers.  If you multiply a string by a boolean with value `True`, it just returns that same string.  And if you multiply a string by a boolean with value `False`, it returns an empty string (or a string with length zero)."
      ],
      "text/plain": [
       "Correct: \n",
       "\n",
       "When you multiple an integer or float by a boolean with value `True`, it just returns that same integer or float (and is equivalent to multiplying by 1).  If you multiply an integer or float by a boolean with value `False`, it always returns 0.  This is true for both positive and negative numbers.  If you multiply a string by a boolean with value `True`, it just returns that same string.  And if you multiply a string by a boolean with value `False`, it returns an empty string (or a string with length zero)."
      ]
     },
     "metadata": {},
     "output_type": "display_data"
    }
   ],
   "source": [
    "# Check your answer (Run this code cell to receive credit!)\n",
    "q2.check()"
   ]
  },
  {
   "cell_type": "markdown",
   "id": "8e9a82eb",
   "metadata": {
    "papermill": {
     "duration": 0.005538,
     "end_time": "2022-06-02T14:30:38.957912",
     "exception": false,
     "start_time": "2022-06-02T14:30:38.952374",
     "status": "completed"
    },
    "tags": []
   },
   "source": [
    "# Question 3\n",
    "\n",
    "In this question, you will build off your work from the previous exercise to write a function that estimates the value of a house.\n",
    "\n",
    "Use the next code cell to create a function `get_expected_cost` that takes as input three variables:\n",
    "- `beds` - number of bedrooms (data type float)\n",
    "- `baths` - number of bathrooms (data type float)\n",
    "- `has_basement` - whether or not the house has a basement (data type boolean)\n",
    "\n",
    "It should return the expected cost of a house with those characteristics. Assume that:\n",
    "- the expected cost for a house with 0 bedrooms and 0 bathrooms, and no basement is 80000, \n",
    "- each bedroom adds 30000 to the expected cost,\n",
    "- each bathroom adds 10000 to the expected cost, and\n",
    "- a basement adds 40000 to the expected cost.\n",
    "\n",
    "For instance,\n",
    "- a house with 1 bedroom, 1 bathroom, and no basement has an expected cost of 80000 + 30000 + 10000 = 120000.  This value will be calculated with `get_expected_cost(1, 1, False)`.\n",
    "- a house with 2 bedrooms, 1 bathroom, and a basement has an expected cost of 80000 + 2*30000 + 10000 + 40000 = 190000.  This value will be calculated with `get_expected_cost(2, 1, True)`.\n",
    "\n",
    "Remember you can always get a hint by uncommenting `q3.hint()` in the code cell following the next!"
   ]
  },
  {
   "cell_type": "code",
   "execution_count": 7,
   "id": "6bdda1bc",
   "metadata": {
    "execution": {
     "iopub.execute_input": "2022-06-02T14:30:38.971173Z",
     "iopub.status.busy": "2022-06-02T14:30:38.970662Z",
     "iopub.status.idle": "2022-06-02T14:30:38.978580Z",
     "shell.execute_reply": "2022-06-02T14:30:38.977696Z"
    },
    "papermill": {
     "duration": 0.016881,
     "end_time": "2022-06-02T14:30:38.980481",
     "exception": false,
     "start_time": "2022-06-02T14:30:38.963600",
     "status": "completed"
    },
    "tags": []
   },
   "outputs": [
    {
     "data": {
      "application/javascript": [
       "parent.postMessage({\"jupyterEvent\": \"custom.exercise_interaction\", \"data\": {\"outcomeType\": 1, \"valueTowardsCompletion\": 0.2, \"interactionType\": 1, \"questionType\": 2, \"questionId\": \"3_EstimateHouseValueBool\", \"learnToolsVersion\": \"0.3.4\", \"failureMessage\": \"\", \"exceptionClass\": \"\", \"trace\": \"\"}}, \"*\")"
      ],
      "text/plain": [
       "<IPython.core.display.Javascript object>"
      ]
     },
     "metadata": {},
     "output_type": "display_data"
    },
    {
     "data": {
      "text/markdown": [
       "<span style=\"color:#33cc33\">Correct</span>"
      ],
      "text/plain": [
       "Correct"
      ]
     },
     "metadata": {},
     "output_type": "display_data"
    }
   ],
   "source": [
    "# TODO: Complete the function\n",
    "def get_expected_cost(beds, baths, has_basement):\n",
    "    value = 30000 * beds + 10000 * baths + 40000 * has_basement + 80000\n",
    "    return value\n",
    "\n",
    "# Check your answer \n",
    "q3.check()"
   ]
  },
  {
   "cell_type": "code",
   "execution_count": 8,
   "id": "663203c8",
   "metadata": {
    "execution": {
     "iopub.execute_input": "2022-06-02T14:30:38.993828Z",
     "iopub.status.busy": "2022-06-02T14:30:38.993493Z",
     "iopub.status.idle": "2022-06-02T14:30:38.997162Z",
     "shell.execute_reply": "2022-06-02T14:30:38.996253Z"
    },
    "papermill": {
     "duration": 0.012631,
     "end_time": "2022-06-02T14:30:38.999125",
     "exception": false,
     "start_time": "2022-06-02T14:30:38.986494",
     "status": "completed"
    },
    "tags": []
   },
   "outputs": [],
   "source": [
    "# Uncomment to see a hint\n",
    "#q3.hint()\n",
    "\n",
    "# Uncomment to view the solution\n",
    "#q3.solution()"
   ]
  },
  {
   "cell_type": "markdown",
   "id": "48a4bbb2",
   "metadata": {
    "papermill": {
     "duration": 0.005806,
     "end_time": "2022-06-02T14:30:39.011088",
     "exception": false,
     "start_time": "2022-06-02T14:30:39.005282",
     "status": "completed"
    },
    "tags": []
   },
   "source": [
    "# Question 4\n",
    "\n",
    "We'll continue our study of boolean arithmetic.  For this question, your task is to provide a description of what happpens when you add booleans. \n",
    "\n",
    "Use the next code cell for your investigation.  Feel free to add or remove any lines of code - use it as your workspace!"
   ]
  },
  {
   "cell_type": "code",
   "execution_count": 9,
   "id": "eec33be8",
   "metadata": {
    "execution": {
     "iopub.execute_input": "2022-06-02T14:30:39.024636Z",
     "iopub.status.busy": "2022-06-02T14:30:39.024295Z",
     "iopub.status.idle": "2022-06-02T14:30:39.028834Z",
     "shell.execute_reply": "2022-06-02T14:30:39.027933Z"
    },
    "papermill": {
     "duration": 0.014419,
     "end_time": "2022-06-02T14:30:39.031564",
     "exception": false,
     "start_time": "2022-06-02T14:30:39.017145",
     "status": "completed"
    },
    "tags": []
   },
   "outputs": [
    {
     "name": "stdout",
     "output_type": "stream",
     "text": [
      "0\n",
      "1\n",
      "1\n",
      "2\n",
      "3\n"
     ]
    }
   ],
   "source": [
    "print(False + False)\n",
    "print(True + False)\n",
    "print(False + True)\n",
    "print(True + True)\n",
    "print(False + True + True + True)"
   ]
  },
  {
   "cell_type": "markdown",
   "id": "045f352f",
   "metadata": {
    "papermill": {
     "duration": 0.005743,
     "end_time": "2022-06-02T14:30:39.043538",
     "exception": false,
     "start_time": "2022-06-02T14:30:39.037795",
     "status": "completed"
    },
    "tags": []
   },
   "source": [
    "Once you have an answer, run the code cell below to see the solution.  Viewing the solution will give you credit for answering the problem."
   ]
  },
  {
   "cell_type": "code",
   "execution_count": 10,
   "id": "baa7e072",
   "metadata": {
    "execution": {
     "iopub.execute_input": "2022-06-02T14:30:39.058223Z",
     "iopub.status.busy": "2022-06-02T14:30:39.057470Z",
     "iopub.status.idle": "2022-06-02T14:30:39.065355Z",
     "shell.execute_reply": "2022-06-02T14:30:39.064703Z"
    },
    "papermill": {
     "duration": 0.017239,
     "end_time": "2022-06-02T14:30:39.067077",
     "exception": false,
     "start_time": "2022-06-02T14:30:39.049838",
     "status": "completed"
    },
    "tags": []
   },
   "outputs": [
    {
     "data": {
      "application/javascript": [
       "parent.postMessage({\"jupyterEvent\": \"custom.exercise_interaction\", \"data\": {\"outcomeType\": 1, \"valueTowardsCompletion\": 0.2, \"interactionType\": 1, \"questionType\": 4, \"questionId\": \"4_AddingBooleans\", \"learnToolsVersion\": \"0.3.4\", \"failureMessage\": \"\", \"exceptionClass\": \"\", \"trace\": \"\"}}, \"*\")"
      ],
      "text/plain": [
       "<IPython.core.display.Javascript object>"
      ]
     },
     "metadata": {},
     "output_type": "display_data"
    },
    {
     "data": {
      "text/markdown": [
       "<span style=\"color:#33cc33\">Correct:</span> \n",
       "\n",
       "When you add booleans, adding `False` is equivalent to adding 0, and adding `True` is equivalent to adding 1."
      ],
      "text/plain": [
       "Correct: \n",
       "\n",
       "When you add booleans, adding `False` is equivalent to adding 0, and adding `True` is equivalent to adding 1."
      ]
     },
     "metadata": {},
     "output_type": "display_data"
    }
   ],
   "source": [
    "# Check your answer (Run this code cell to receive credit!)\n",
    "q4.check()"
   ]
  },
  {
   "cell_type": "markdown",
   "id": "83ba078d",
   "metadata": {
    "papermill": {
     "duration": 0.005985,
     "end_time": "2022-06-02T14:30:39.079185",
     "exception": false,
     "start_time": "2022-06-02T14:30:39.073200",
     "status": "completed"
    },
    "tags": []
   },
   "source": [
    "# 🌶️ Question 5\n",
    "\n",
    "You own an online shop where you sell rings with custom engravings.  You offer both gold plated and solid gold rings.\n",
    "- Gold plated rings have a base cost of \\\\$50, and you charge \\\\$7 per engraved unit.  \n",
    "- Solid gold rings have a base cost of \\\\$100, and you charge \\\\$10 per engraved unit.\n",
    "- Spaces and punctuation are counted as engraved units.\n",
    "\n",
    "Write a function `cost_of_project()` that takes two arguments:\n",
    "- `engraving` - a Python string with the text of the engraving\n",
    "- `solid_gold` - a Boolean that indicates whether the ring is solid gold\n",
    "\n",
    "It should return the cost of the project.  This question should be fairly challenging, and you may need a hint."
   ]
  },
  {
   "cell_type": "code",
   "execution_count": 11,
   "id": "5f9fd02f",
   "metadata": {
    "execution": {
     "iopub.execute_input": "2022-06-02T14:30:39.093267Z",
     "iopub.status.busy": "2022-06-02T14:30:39.092630Z",
     "iopub.status.idle": "2022-06-02T14:30:39.104131Z",
     "shell.execute_reply": "2022-06-02T14:30:39.103025Z"
    },
    "papermill": {
     "duration": 0.021409,
     "end_time": "2022-06-02T14:30:39.106758",
     "exception": false,
     "start_time": "2022-06-02T14:30:39.085349",
     "status": "completed"
    },
    "tags": []
   },
   "outputs": [
    {
     "data": {
      "application/javascript": [
       "parent.postMessage({\"jupyterEvent\": \"custom.exercise_interaction\", \"data\": {\"outcomeType\": 1, \"valueTowardsCompletion\": 0.2, \"interactionType\": 1, \"questionType\": 2, \"questionId\": \"5_CustomEngravings\", \"learnToolsVersion\": \"0.3.4\", \"failureMessage\": \"\", \"exceptionClass\": \"\", \"trace\": \"\"}}, \"*\")"
      ],
      "text/plain": [
       "<IPython.core.display.Javascript object>"
      ]
     },
     "metadata": {},
     "output_type": "display_data"
    },
    {
     "data": {
      "text/markdown": [
       "<span style=\"color:#33cc33\">Correct</span>"
      ],
      "text/plain": [
       "Correct"
      ]
     },
     "metadata": {},
     "output_type": "display_data"
    }
   ],
   "source": [
    "def cost_of_project(engraving, solid_gold):\n",
    "    cost = 50 + (len(engraving) * 7) + solid_gold * (50 + len(engraving) * 3)\n",
    "    return cost\n",
    "\n",
    "# Check your answer\n",
    "q5.check()"
   ]
  },
  {
   "cell_type": "code",
   "execution_count": 12,
   "id": "77b6f403",
   "metadata": {
    "execution": {
     "iopub.execute_input": "2022-06-02T14:30:39.126594Z",
     "iopub.status.busy": "2022-06-02T14:30:39.125836Z",
     "iopub.status.idle": "2022-06-02T14:30:39.129320Z",
     "shell.execute_reply": "2022-06-02T14:30:39.128616Z"
    },
    "papermill": {
     "duration": 0.01327,
     "end_time": "2022-06-02T14:30:39.131053",
     "exception": false,
     "start_time": "2022-06-02T14:30:39.117783",
     "status": "completed"
    },
    "tags": []
   },
   "outputs": [],
   "source": [
    "# Uncomment to see a hint\n",
    "#q5.hint()\n",
    "\n",
    "# Uncomment to view the solution\n",
    "#q5.solution()"
   ]
  },
  {
   "cell_type": "markdown",
   "id": "d521e728",
   "metadata": {
    "papermill": {
     "duration": 0.010938,
     "end_time": "2022-06-02T14:30:39.148965",
     "exception": false,
     "start_time": "2022-06-02T14:30:39.138027",
     "status": "completed"
    },
    "tags": []
   },
   "source": [
    "Run the next code cell to calculate the cost of engraving `Charlie+Denver` on a solid gold ring."
   ]
  },
  {
   "cell_type": "code",
   "execution_count": 13,
   "id": "5804fbed",
   "metadata": {
    "execution": {
     "iopub.execute_input": "2022-06-02T14:30:39.168421Z",
     "iopub.status.busy": "2022-06-02T14:30:39.166825Z",
     "iopub.status.idle": "2022-06-02T14:30:39.173700Z",
     "shell.execute_reply": "2022-06-02T14:30:39.172284Z"
    },
    "papermill": {
     "duration": 0.017834,
     "end_time": "2022-06-02T14:30:39.176369",
     "exception": false,
     "start_time": "2022-06-02T14:30:39.158535",
     "status": "completed"
    },
    "tags": []
   },
   "outputs": [
    {
     "name": "stdout",
     "output_type": "stream",
     "text": [
      "240\n"
     ]
    }
   ],
   "source": [
    "project_one = cost_of_project(\"Charlie+Denver\", True)\n",
    "print(project_one)"
   ]
  },
  {
   "cell_type": "markdown",
   "id": "4f4f00f9",
   "metadata": {
    "papermill": {
     "duration": 0.007552,
     "end_time": "2022-06-02T14:30:39.195535",
     "exception": false,
     "start_time": "2022-06-02T14:30:39.187983",
     "status": "completed"
    },
    "tags": []
   },
   "source": [
    "Use the next code cell to calculate the cost of engraving `08/10/2000` on a gold plated ring."
   ]
  },
  {
   "cell_type": "code",
   "execution_count": 14,
   "id": "3a894103",
   "metadata": {
    "execution": {
     "iopub.execute_input": "2022-06-02T14:30:39.210126Z",
     "iopub.status.busy": "2022-06-02T14:30:39.209513Z",
     "iopub.status.idle": "2022-06-02T14:30:39.213766Z",
     "shell.execute_reply": "2022-06-02T14:30:39.213089Z"
    },
    "papermill": {
     "duration": 0.014287,
     "end_time": "2022-06-02T14:30:39.216259",
     "exception": false,
     "start_time": "2022-06-02T14:30:39.201972",
     "status": "completed"
    },
    "tags": []
   },
   "outputs": [
    {
     "name": "stdout",
     "output_type": "stream",
     "text": [
      "120\n"
     ]
    }
   ],
   "source": [
    "project_two = cost_of_project(\"08/10/2000\", False)\n",
    "print(project_two)"
   ]
  },
  {
   "cell_type": "markdown",
   "id": "665b90b0",
   "metadata": {
    "papermill": {
     "duration": 0.00646,
     "end_time": "2022-06-02T14:30:39.230245",
     "exception": false,
     "start_time": "2022-06-02T14:30:39.223785",
     "status": "completed"
    },
    "tags": []
   },
   "source": [
    "# Keep going\n",
    "\n",
    "Continue to the next lesson to **[learn about conditions and conditional statements](https://www.kaggle.com/alexisbcook/conditions-and-conditional-statements)**."
   ]
  },
  {
   "cell_type": "markdown",
   "id": "dbc95461",
   "metadata": {
    "papermill": {
     "duration": 0.006245,
     "end_time": "2022-06-02T14:30:39.243127",
     "exception": false,
     "start_time": "2022-06-02T14:30:39.236882",
     "status": "completed"
    },
    "tags": []
   },
   "source": [
    "---\n",
    "\n",
    "\n",
    "\n",
    "\n",
    "*Have questions or comments? Visit the [course discussion forum](https://www.kaggle.com/learn/intro-to-programming/discussion) to chat with other learners.*"
   ]
  }
 ],
 "metadata": {
  "kernelspec": {
   "display_name": "Python 3",
   "language": "python",
   "name": "python3"
  },
  "language_info": {
   "codemirror_mode": {
    "name": "ipython",
    "version": 3
   },
   "file_extension": ".py",
   "mimetype": "text/x-python",
   "name": "python",
   "nbconvert_exporter": "python",
   "pygments_lexer": "ipython3",
   "version": "3.7.12"
  },
  "papermill": {
   "default_parameters": {},
   "duration": 9.968402,
   "end_time": "2022-06-02T14:30:39.869879",
   "environment_variables": {},
   "exception": null,
   "input_path": "__notebook__.ipynb",
   "output_path": "__notebook__.ipynb",
   "parameters": {},
   "start_time": "2022-06-02T14:30:29.901477",
   "version": "2.3.4"
  }
 },
 "nbformat": 4,
 "nbformat_minor": 5
}
